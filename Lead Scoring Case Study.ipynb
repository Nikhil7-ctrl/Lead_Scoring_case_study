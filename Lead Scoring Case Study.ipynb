{
 "cells": [
  {
   "cell_type": "markdown",
   "id": "3acfdba1",
   "metadata": {},
   "source": [
    "# Lead Scoring "
   ]
  },
  {
   "cell_type": "markdown",
   "id": "e3a97f05",
   "metadata": {},
   "source": [
    "### Problem Statement\n",
    "\n",
    "The company X Education sells online courses to industry professionals.The company markets its courses on several websites and search engines like Google and the people who land on the website might browse the courses or fill up a form for the course or watch some videos. When these people fill up a form providing their email address or phone number, they are classified to be a lead. Moreover, the company also gets leads through past referrals. Once these leads are acquired, employees from the sales team start making calls, writing emails, etc. Through this process, some of the leads get converted while most do not. The typical lead conversion rate at X education is around 30%. Now the company wishes to identify the most potential leads, also known as ‘Hot Leads’ the lead conversion rate should go up as the sales team will now be focusing more on communicating with the potential leads rather than making calls to everyone. The CEO, in particular, has given a ballpark of the target lead conversion rate to be around 80%. To make this process effective let's build logistic regression model, the conversion predictions and evaluation metrics to achieve this."
   ]
  },
  {
   "cell_type": "code",
   "execution_count": 1,
   "id": "86fbd522",
   "metadata": {},
   "outputs": [],
   "source": [
    "# Importing required Libraries\n",
    "import numpy as np\n",
    "import pandas as pd\n",
    "import matplotlib.pyplot as plt\n",
    "import seaborn as sns"
   ]
  },
  {
   "cell_type": "code",
   "execution_count": 2,
   "id": "02687d77",
   "metadata": {},
   "outputs": [],
   "source": [
    "# To handle warnings\n",
    "import warnings\n",
    "warnings.filterwarnings('ignore')"
   ]
  },
  {
   "cell_type": "markdown",
   "id": "0b8c7f71",
   "metadata": {},
   "source": [
    "### Importing Data"
   ]
  },
  {
   "cell_type": "code",
   "execution_count": 3,
   "id": "f19c6b0c",
   "metadata": {},
   "outputs": [],
   "source": [
    "# importing the data\n",
    "df_leads = pd.read_csv('E:\\Leads.csv')\n",
    "\n",
    "# To keep an original copy\n",
    "df_leads_original = df_leads.copy()"
   ]
  },
  {
   "cell_type": "code",
   "execution_count": 4,
   "id": "a0b509b5",
   "metadata": {},
   "outputs": [
    {
     "data": {
      "text/html": [
       "<div>\n",
       "<style scoped>\n",
       "    .dataframe tbody tr th:only-of-type {\n",
       "        vertical-align: middle;\n",
       "    }\n",
       "\n",
       "    .dataframe tbody tr th {\n",
       "        vertical-align: top;\n",
       "    }\n",
       "\n",
       "    .dataframe thead th {\n",
       "        text-align: right;\n",
       "    }\n",
       "</style>\n",
       "<table border=\"1\" class=\"dataframe\">\n",
       "  <thead>\n",
       "    <tr style=\"text-align: right;\">\n",
       "      <th></th>\n",
       "      <th>Prospect ID</th>\n",
       "      <th>Lead Number</th>\n",
       "      <th>Lead Origin</th>\n",
       "      <th>Lead Source</th>\n",
       "      <th>Do Not Email</th>\n",
       "      <th>Do Not Call</th>\n",
       "      <th>Converted</th>\n",
       "      <th>TotalVisits</th>\n",
       "      <th>Total Time Spent on Website</th>\n",
       "      <th>Page Views Per Visit</th>\n",
       "      <th>...</th>\n",
       "      <th>Get updates on DM Content</th>\n",
       "      <th>Lead Profile</th>\n",
       "      <th>City</th>\n",
       "      <th>Asymmetrique Activity Index</th>\n",
       "      <th>Asymmetrique Profile Index</th>\n",
       "      <th>Asymmetrique Activity Score</th>\n",
       "      <th>Asymmetrique Profile Score</th>\n",
       "      <th>I agree to pay the amount through cheque</th>\n",
       "      <th>A free copy of Mastering The Interview</th>\n",
       "      <th>Last Notable Activity</th>\n",
       "    </tr>\n",
       "  </thead>\n",
       "  <tbody>\n",
       "    <tr>\n",
       "      <th>0</th>\n",
       "      <td>7927b2df-8bba-4d29-b9a2-b6e0beafe620</td>\n",
       "      <td>660737</td>\n",
       "      <td>API</td>\n",
       "      <td>Olark Chat</td>\n",
       "      <td>No</td>\n",
       "      <td>No</td>\n",
       "      <td>0</td>\n",
       "      <td>0.0</td>\n",
       "      <td>0</td>\n",
       "      <td>0.0</td>\n",
       "      <td>...</td>\n",
       "      <td>No</td>\n",
       "      <td>Select</td>\n",
       "      <td>Select</td>\n",
       "      <td>02.Medium</td>\n",
       "      <td>02.Medium</td>\n",
       "      <td>15.0</td>\n",
       "      <td>15.0</td>\n",
       "      <td>No</td>\n",
       "      <td>No</td>\n",
       "      <td>Modified</td>\n",
       "    </tr>\n",
       "    <tr>\n",
       "      <th>1</th>\n",
       "      <td>2a272436-5132-4136-86fa-dcc88c88f482</td>\n",
       "      <td>660728</td>\n",
       "      <td>API</td>\n",
       "      <td>Organic Search</td>\n",
       "      <td>No</td>\n",
       "      <td>No</td>\n",
       "      <td>0</td>\n",
       "      <td>5.0</td>\n",
       "      <td>674</td>\n",
       "      <td>2.5</td>\n",
       "      <td>...</td>\n",
       "      <td>No</td>\n",
       "      <td>Select</td>\n",
       "      <td>Select</td>\n",
       "      <td>02.Medium</td>\n",
       "      <td>02.Medium</td>\n",
       "      <td>15.0</td>\n",
       "      <td>15.0</td>\n",
       "      <td>No</td>\n",
       "      <td>No</td>\n",
       "      <td>Email Opened</td>\n",
       "    </tr>\n",
       "    <tr>\n",
       "      <th>2</th>\n",
       "      <td>8cc8c611-a219-4f35-ad23-fdfd2656bd8a</td>\n",
       "      <td>660727</td>\n",
       "      <td>Landing Page Submission</td>\n",
       "      <td>Direct Traffic</td>\n",
       "      <td>No</td>\n",
       "      <td>No</td>\n",
       "      <td>1</td>\n",
       "      <td>2.0</td>\n",
       "      <td>1532</td>\n",
       "      <td>2.0</td>\n",
       "      <td>...</td>\n",
       "      <td>No</td>\n",
       "      <td>Potential Lead</td>\n",
       "      <td>Mumbai</td>\n",
       "      <td>02.Medium</td>\n",
       "      <td>01.High</td>\n",
       "      <td>14.0</td>\n",
       "      <td>20.0</td>\n",
       "      <td>No</td>\n",
       "      <td>Yes</td>\n",
       "      <td>Email Opened</td>\n",
       "    </tr>\n",
       "    <tr>\n",
       "      <th>3</th>\n",
       "      <td>0cc2df48-7cf4-4e39-9de9-19797f9b38cc</td>\n",
       "      <td>660719</td>\n",
       "      <td>Landing Page Submission</td>\n",
       "      <td>Direct Traffic</td>\n",
       "      <td>No</td>\n",
       "      <td>No</td>\n",
       "      <td>0</td>\n",
       "      <td>1.0</td>\n",
       "      <td>305</td>\n",
       "      <td>1.0</td>\n",
       "      <td>...</td>\n",
       "      <td>No</td>\n",
       "      <td>Select</td>\n",
       "      <td>Mumbai</td>\n",
       "      <td>02.Medium</td>\n",
       "      <td>01.High</td>\n",
       "      <td>13.0</td>\n",
       "      <td>17.0</td>\n",
       "      <td>No</td>\n",
       "      <td>No</td>\n",
       "      <td>Modified</td>\n",
       "    </tr>\n",
       "    <tr>\n",
       "      <th>4</th>\n",
       "      <td>3256f628-e534-4826-9d63-4a8b88782852</td>\n",
       "      <td>660681</td>\n",
       "      <td>Landing Page Submission</td>\n",
       "      <td>Google</td>\n",
       "      <td>No</td>\n",
       "      <td>No</td>\n",
       "      <td>1</td>\n",
       "      <td>2.0</td>\n",
       "      <td>1428</td>\n",
       "      <td>1.0</td>\n",
       "      <td>...</td>\n",
       "      <td>No</td>\n",
       "      <td>Select</td>\n",
       "      <td>Mumbai</td>\n",
       "      <td>02.Medium</td>\n",
       "      <td>01.High</td>\n",
       "      <td>15.0</td>\n",
       "      <td>18.0</td>\n",
       "      <td>No</td>\n",
       "      <td>No</td>\n",
       "      <td>Modified</td>\n",
       "    </tr>\n",
       "  </tbody>\n",
       "</table>\n",
       "<p>5 rows × 37 columns</p>\n",
       "</div>"
      ],
      "text/plain": [
       "                            Prospect ID  Lead Number              Lead Origin  \\\n",
       "0  7927b2df-8bba-4d29-b9a2-b6e0beafe620       660737                      API   \n",
       "1  2a272436-5132-4136-86fa-dcc88c88f482       660728                      API   \n",
       "2  8cc8c611-a219-4f35-ad23-fdfd2656bd8a       660727  Landing Page Submission   \n",
       "3  0cc2df48-7cf4-4e39-9de9-19797f9b38cc       660719  Landing Page Submission   \n",
       "4  3256f628-e534-4826-9d63-4a8b88782852       660681  Landing Page Submission   \n",
       "\n",
       "      Lead Source Do Not Email Do Not Call  Converted  TotalVisits  \\\n",
       "0      Olark Chat           No          No          0          0.0   \n",
       "1  Organic Search           No          No          0          5.0   \n",
       "2  Direct Traffic           No          No          1          2.0   \n",
       "3  Direct Traffic           No          No          0          1.0   \n",
       "4          Google           No          No          1          2.0   \n",
       "\n",
       "   Total Time Spent on Website  Page Views Per Visit  ...  \\\n",
       "0                            0                   0.0  ...   \n",
       "1                          674                   2.5  ...   \n",
       "2                         1532                   2.0  ...   \n",
       "3                          305                   1.0  ...   \n",
       "4                         1428                   1.0  ...   \n",
       "\n",
       "  Get updates on DM Content    Lead Profile    City  \\\n",
       "0                        No          Select  Select   \n",
       "1                        No          Select  Select   \n",
       "2                        No  Potential Lead  Mumbai   \n",
       "3                        No          Select  Mumbai   \n",
       "4                        No          Select  Mumbai   \n",
       "\n",
       "  Asymmetrique Activity Index Asymmetrique Profile Index  \\\n",
       "0                   02.Medium                  02.Medium   \n",
       "1                   02.Medium                  02.Medium   \n",
       "2                   02.Medium                    01.High   \n",
       "3                   02.Medium                    01.High   \n",
       "4                   02.Medium                    01.High   \n",
       "\n",
       "  Asymmetrique Activity Score Asymmetrique Profile Score  \\\n",
       "0                        15.0                       15.0   \n",
       "1                        15.0                       15.0   \n",
       "2                        14.0                       20.0   \n",
       "3                        13.0                       17.0   \n",
       "4                        15.0                       18.0   \n",
       "\n",
       "  I agree to pay the amount through cheque  \\\n",
       "0                                       No   \n",
       "1                                       No   \n",
       "2                                       No   \n",
       "3                                       No   \n",
       "4                                       No   \n",
       "\n",
       "  A free copy of Mastering The Interview Last Notable Activity  \n",
       "0                                     No              Modified  \n",
       "1                                     No          Email Opened  \n",
       "2                                    Yes          Email Opened  \n",
       "3                                     No              Modified  \n",
       "4                                     No              Modified  \n",
       "\n",
       "[5 rows x 37 columns]"
      ]
     },
     "execution_count": 4,
     "metadata": {},
     "output_type": "execute_result"
    }
   ],
   "source": [
    "df_leads.head()"
   ]
  },
  {
   "cell_type": "markdown",
   "id": "610b5444",
   "metadata": {},
   "source": [
    "### Inspecting the Data"
   ]
  },
  {
   "cell_type": "code",
   "execution_count": 5,
   "id": "718f2608",
   "metadata": {},
   "outputs": [
    {
     "data": {
      "text/plain": [
       "(9240, 37)"
      ]
     },
     "execution_count": 5,
     "metadata": {},
     "output_type": "execute_result"
    }
   ],
   "source": [
    "# # knowing the total rows and columns of the dataframe\n",
    "df_leads.shape"
   ]
  },
  {
   "cell_type": "code",
   "execution_count": 6,
   "id": "829a8eb3",
   "metadata": {},
   "outputs": [
    {
     "data": {
      "text/html": [
       "<div>\n",
       "<style scoped>\n",
       "    .dataframe tbody tr th:only-of-type {\n",
       "        vertical-align: middle;\n",
       "    }\n",
       "\n",
       "    .dataframe tbody tr th {\n",
       "        vertical-align: top;\n",
       "    }\n",
       "\n",
       "    .dataframe thead th {\n",
       "        text-align: right;\n",
       "    }\n",
       "</style>\n",
       "<table border=\"1\" class=\"dataframe\">\n",
       "  <thead>\n",
       "    <tr style=\"text-align: right;\">\n",
       "      <th></th>\n",
       "      <th>Lead Number</th>\n",
       "      <th>Converted</th>\n",
       "      <th>TotalVisits</th>\n",
       "      <th>Total Time Spent on Website</th>\n",
       "      <th>Page Views Per Visit</th>\n",
       "      <th>Asymmetrique Activity Score</th>\n",
       "      <th>Asymmetrique Profile Score</th>\n",
       "    </tr>\n",
       "  </thead>\n",
       "  <tbody>\n",
       "    <tr>\n",
       "      <th>count</th>\n",
       "      <td>9240.000000</td>\n",
       "      <td>9240.000000</td>\n",
       "      <td>9103.000000</td>\n",
       "      <td>9240.000000</td>\n",
       "      <td>9103.000000</td>\n",
       "      <td>5022.000000</td>\n",
       "      <td>5022.000000</td>\n",
       "    </tr>\n",
       "    <tr>\n",
       "      <th>mean</th>\n",
       "      <td>617188.435606</td>\n",
       "      <td>0.385390</td>\n",
       "      <td>3.445238</td>\n",
       "      <td>487.698268</td>\n",
       "      <td>2.362820</td>\n",
       "      <td>14.306252</td>\n",
       "      <td>16.344883</td>\n",
       "    </tr>\n",
       "    <tr>\n",
       "      <th>std</th>\n",
       "      <td>23405.995698</td>\n",
       "      <td>0.486714</td>\n",
       "      <td>4.854853</td>\n",
       "      <td>548.021466</td>\n",
       "      <td>2.161418</td>\n",
       "      <td>1.386694</td>\n",
       "      <td>1.811395</td>\n",
       "    </tr>\n",
       "    <tr>\n",
       "      <th>min</th>\n",
       "      <td>579533.000000</td>\n",
       "      <td>0.000000</td>\n",
       "      <td>0.000000</td>\n",
       "      <td>0.000000</td>\n",
       "      <td>0.000000</td>\n",
       "      <td>7.000000</td>\n",
       "      <td>11.000000</td>\n",
       "    </tr>\n",
       "    <tr>\n",
       "      <th>25%</th>\n",
       "      <td>596484.500000</td>\n",
       "      <td>0.000000</td>\n",
       "      <td>1.000000</td>\n",
       "      <td>12.000000</td>\n",
       "      <td>1.000000</td>\n",
       "      <td>14.000000</td>\n",
       "      <td>15.000000</td>\n",
       "    </tr>\n",
       "    <tr>\n",
       "      <th>50%</th>\n",
       "      <td>615479.000000</td>\n",
       "      <td>0.000000</td>\n",
       "      <td>3.000000</td>\n",
       "      <td>248.000000</td>\n",
       "      <td>2.000000</td>\n",
       "      <td>14.000000</td>\n",
       "      <td>16.000000</td>\n",
       "    </tr>\n",
       "    <tr>\n",
       "      <th>75%</th>\n",
       "      <td>637387.250000</td>\n",
       "      <td>1.000000</td>\n",
       "      <td>5.000000</td>\n",
       "      <td>936.000000</td>\n",
       "      <td>3.000000</td>\n",
       "      <td>15.000000</td>\n",
       "      <td>18.000000</td>\n",
       "    </tr>\n",
       "    <tr>\n",
       "      <th>max</th>\n",
       "      <td>660737.000000</td>\n",
       "      <td>1.000000</td>\n",
       "      <td>251.000000</td>\n",
       "      <td>2272.000000</td>\n",
       "      <td>55.000000</td>\n",
       "      <td>18.000000</td>\n",
       "      <td>20.000000</td>\n",
       "    </tr>\n",
       "  </tbody>\n",
       "</table>\n",
       "</div>"
      ],
      "text/plain": [
       "         Lead Number    Converted  TotalVisits  Total Time Spent on Website  \\\n",
       "count    9240.000000  9240.000000  9103.000000                  9240.000000   \n",
       "mean   617188.435606     0.385390     3.445238                   487.698268   \n",
       "std     23405.995698     0.486714     4.854853                   548.021466   \n",
       "min    579533.000000     0.000000     0.000000                     0.000000   \n",
       "25%    596484.500000     0.000000     1.000000                    12.000000   \n",
       "50%    615479.000000     0.000000     3.000000                   248.000000   \n",
       "75%    637387.250000     1.000000     5.000000                   936.000000   \n",
       "max    660737.000000     1.000000   251.000000                  2272.000000   \n",
       "\n",
       "       Page Views Per Visit  Asymmetrique Activity Score  \\\n",
       "count           9103.000000                  5022.000000   \n",
       "mean               2.362820                    14.306252   \n",
       "std                2.161418                     1.386694   \n",
       "min                0.000000                     7.000000   \n",
       "25%                1.000000                    14.000000   \n",
       "50%                2.000000                    14.000000   \n",
       "75%                3.000000                    15.000000   \n",
       "max               55.000000                    18.000000   \n",
       "\n",
       "       Asymmetrique Profile Score  \n",
       "count                 5022.000000  \n",
       "mean                    16.344883  \n",
       "std                      1.811395  \n",
       "min                     11.000000  \n",
       "25%                     15.000000  \n",
       "50%                     16.000000  \n",
       "75%                     18.000000  \n",
       "max                     20.000000  "
      ]
     },
     "execution_count": 6,
     "metadata": {},
     "output_type": "execute_result"
    }
   ],
   "source": [
    "# let's look at the statistical aspects of the dataframe\n",
    "df_leads.describe()"
   ]
  },
  {
   "cell_type": "code",
   "execution_count": 7,
   "id": "eee9e3b7",
   "metadata": {},
   "outputs": [
    {
     "name": "stdout",
     "output_type": "stream",
     "text": [
      "<class 'pandas.core.frame.DataFrame'>\n",
      "RangeIndex: 9240 entries, 0 to 9239\n",
      "Data columns (total 37 columns):\n",
      " #   Column                                         Non-Null Count  Dtype  \n",
      "---  ------                                         --------------  -----  \n",
      " 0   Prospect ID                                    9240 non-null   object \n",
      " 1   Lead Number                                    9240 non-null   int64  \n",
      " 2   Lead Origin                                    9240 non-null   object \n",
      " 3   Lead Source                                    9204 non-null   object \n",
      " 4   Do Not Email                                   9240 non-null   object \n",
      " 5   Do Not Call                                    9240 non-null   object \n",
      " 6   Converted                                      9240 non-null   int64  \n",
      " 7   TotalVisits                                    9103 non-null   float64\n",
      " 8   Total Time Spent on Website                    9240 non-null   int64  \n",
      " 9   Page Views Per Visit                           9103 non-null   float64\n",
      " 10  Last Activity                                  9137 non-null   object \n",
      " 11  Country                                        6779 non-null   object \n",
      " 12  Specialization                                 7802 non-null   object \n",
      " 13  How did you hear about X Education             7033 non-null   object \n",
      " 14  What is your current occupation                6550 non-null   object \n",
      " 15  What matters most to you in choosing a course  6531 non-null   object \n",
      " 16  Search                                         9240 non-null   object \n",
      " 17  Magazine                                       9240 non-null   object \n",
      " 18  Newspaper Article                              9240 non-null   object \n",
      " 19  X Education Forums                             9240 non-null   object \n",
      " 20  Newspaper                                      9240 non-null   object \n",
      " 21  Digital Advertisement                          9240 non-null   object \n",
      " 22  Through Recommendations                        9240 non-null   object \n",
      " 23  Receive More Updates About Our Courses         9240 non-null   object \n",
      " 24  Tags                                           5887 non-null   object \n",
      " 25  Lead Quality                                   4473 non-null   object \n",
      " 26  Update me on Supply Chain Content              9240 non-null   object \n",
      " 27  Get updates on DM Content                      9240 non-null   object \n",
      " 28  Lead Profile                                   6531 non-null   object \n",
      " 29  City                                           7820 non-null   object \n",
      " 30  Asymmetrique Activity Index                    5022 non-null   object \n",
      " 31  Asymmetrique Profile Index                     5022 non-null   object \n",
      " 32  Asymmetrique Activity Score                    5022 non-null   float64\n",
      " 33  Asymmetrique Profile Score                     5022 non-null   float64\n",
      " 34  I agree to pay the amount through cheque       9240 non-null   object \n",
      " 35  A free copy of Mastering The Interview         9240 non-null   object \n",
      " 36  Last Notable Activity                          9240 non-null   object \n",
      "dtypes: float64(4), int64(3), object(30)\n",
      "memory usage: 2.6+ MB\n"
     ]
    }
   ],
   "source": [
    "# Let's see the type of each column\n",
    "df_leads.info()"
   ]
  },
  {
   "cell_type": "markdown",
   "id": "ee651246",
   "metadata": {},
   "source": [
    "## Data Cleaning"
   ]
  },
  {
   "cell_type": "code",
   "execution_count": 8,
   "id": "ad377a6b",
   "metadata": {},
   "outputs": [],
   "source": [
    "# substituiting 'select' with NaN to skip wrong interpretations\n",
    "df_leads = df_leads.replace('Select',np.nan)"
   ]
  },
  {
   "cell_type": "code",
   "execution_count": 9,
   "id": "0c50b6d0",
   "metadata": {},
   "outputs": [
    {
     "data": {
      "text/plain": [
       "Prospect ID                                      9240\n",
       "Lead Number                                      9240\n",
       "Lead Origin                                         5\n",
       "Lead Source                                        21\n",
       "Do Not Email                                        2\n",
       "Do Not Call                                         2\n",
       "Converted                                           2\n",
       "TotalVisits                                        41\n",
       "Total Time Spent on Website                      1731\n",
       "Page Views Per Visit                              114\n",
       "Last Activity                                      17\n",
       "Country                                            38\n",
       "Specialization                                     18\n",
       "How did you hear about X Education                  9\n",
       "What is your current occupation                     6\n",
       "What matters most to you in choosing a course       3\n",
       "Search                                              2\n",
       "Magazine                                            1\n",
       "Newspaper Article                                   2\n",
       "X Education Forums                                  2\n",
       "Newspaper                                           2\n",
       "Digital Advertisement                               2\n",
       "Through Recommendations                             2\n",
       "Receive More Updates About Our Courses              1\n",
       "Tags                                               26\n",
       "Lead Quality                                        5\n",
       "Update me on Supply Chain Content                   1\n",
       "Get updates on DM Content                           1\n",
       "Lead Profile                                        5\n",
       "City                                                6\n",
       "Asymmetrique Activity Index                         3\n",
       "Asymmetrique Profile Index                          3\n",
       "Asymmetrique Activity Score                        12\n",
       "Asymmetrique Profile Score                         10\n",
       "I agree to pay the amount through cheque            1\n",
       "A free copy of Mastering The Interview              2\n",
       "Last Notable Activity                              16\n",
       "dtype: int64"
      ]
     },
     "execution_count": 9,
     "metadata": {},
     "output_type": "execute_result"
    }
   ],
   "source": [
    "# let's drop variables with only one class as such columns don't part in the analysis\n",
    "df_leads.nunique()"
   ]
  },
  {
   "cell_type": "code",
   "execution_count": 10,
   "id": "4de3b7f5",
   "metadata": {},
   "outputs": [],
   "source": [
    "# dropping all the columns with one unique class\n",
    "df1= df_leads.drop(['Magazine', 'Receive More Updates About Our Courses', 'Update me on Supply Chain Content', 'Get updates on DM Content', 'I agree to pay the amount through cheque'], axis=1)"
   ]
  },
  {
   "cell_type": "code",
   "execution_count": 11,
   "id": "a491088c",
   "metadata": {},
   "outputs": [],
   "source": [
    "# We can delete 'Loan Number' & 'Prospext ID' columns as they have unique data through out the length which are only serial numbers\n",
    "df1= df1.drop(['Lead Number','Prospect ID'],axis=1)"
   ]
  },
  {
   "cell_type": "code",
   "execution_count": 12,
   "id": "70a672b0",
   "metadata": {},
   "outputs": [
    {
     "data": {
      "text/plain": [
       "Lead Origin                                       0.00\n",
       "Lead Source                                       0.39\n",
       "Do Not Email                                      0.00\n",
       "Do Not Call                                       0.00\n",
       "Converted                                         0.00\n",
       "TotalVisits                                       1.48\n",
       "Total Time Spent on Website                       0.00\n",
       "Page Views Per Visit                              1.48\n",
       "Last Activity                                     1.11\n",
       "Country                                          26.63\n",
       "Specialization                                   36.58\n",
       "How did you hear about X Education               78.46\n",
       "What is your current occupation                  29.11\n",
       "What matters most to you in choosing a course    29.32\n",
       "Search                                            0.00\n",
       "Newspaper Article                                 0.00\n",
       "X Education Forums                                0.00\n",
       "Newspaper                                         0.00\n",
       "Digital Advertisement                             0.00\n",
       "Through Recommendations                           0.00\n",
       "Tags                                             36.29\n",
       "Lead Quality                                     51.59\n",
       "Lead Profile                                     74.19\n",
       "City                                             39.71\n",
       "Asymmetrique Activity Index                      45.65\n",
       "Asymmetrique Profile Index                       45.65\n",
       "Asymmetrique Activity Score                      45.65\n",
       "Asymmetrique Profile Score                       45.65\n",
       "A free copy of Mastering The Interview            0.00\n",
       "Last Notable Activity                             0.00\n",
       "dtype: float64"
      ]
     },
     "execution_count": 12,
     "metadata": {},
     "output_type": "execute_result"
    }
   ],
   "source": [
    "# checking the missing value percentages in the columns\n",
    "round(100*(df1.isnull().mean()), 2)"
   ]
  },
  {
   "cell_type": "code",
   "execution_count": 13,
   "id": "3f60caa7",
   "metadata": {},
   "outputs": [
    {
     "data": {
      "text/html": [
       "<div>\n",
       "<style scoped>\n",
       "    .dataframe tbody tr th:only-of-type {\n",
       "        vertical-align: middle;\n",
       "    }\n",
       "\n",
       "    .dataframe tbody tr th {\n",
       "        vertical-align: top;\n",
       "    }\n",
       "\n",
       "    .dataframe thead th {\n",
       "        text-align: right;\n",
       "    }\n",
       "</style>\n",
       "<table border=\"1\" class=\"dataframe\">\n",
       "  <thead>\n",
       "    <tr style=\"text-align: right;\">\n",
       "      <th></th>\n",
       "      <th>Lead Origin</th>\n",
       "      <th>Lead Source</th>\n",
       "      <th>Do Not Email</th>\n",
       "      <th>Do Not Call</th>\n",
       "      <th>Converted</th>\n",
       "      <th>TotalVisits</th>\n",
       "      <th>Total Time Spent on Website</th>\n",
       "      <th>Page Views Per Visit</th>\n",
       "      <th>Last Activity</th>\n",
       "      <th>Country</th>\n",
       "      <th>...</th>\n",
       "      <th>What matters most to you in choosing a course</th>\n",
       "      <th>Search</th>\n",
       "      <th>Newspaper Article</th>\n",
       "      <th>X Education Forums</th>\n",
       "      <th>Newspaper</th>\n",
       "      <th>Digital Advertisement</th>\n",
       "      <th>Through Recommendations</th>\n",
       "      <th>Lead Quality</th>\n",
       "      <th>A free copy of Mastering The Interview</th>\n",
       "      <th>Last Notable Activity</th>\n",
       "    </tr>\n",
       "  </thead>\n",
       "  <tbody>\n",
       "    <tr>\n",
       "      <th>0</th>\n",
       "      <td>API</td>\n",
       "      <td>Olark Chat</td>\n",
       "      <td>No</td>\n",
       "      <td>No</td>\n",
       "      <td>0</td>\n",
       "      <td>0.0</td>\n",
       "      <td>0</td>\n",
       "      <td>0.0</td>\n",
       "      <td>Page Visited on Website</td>\n",
       "      <td>NaN</td>\n",
       "      <td>...</td>\n",
       "      <td>Better Career Prospects</td>\n",
       "      <td>No</td>\n",
       "      <td>No</td>\n",
       "      <td>No</td>\n",
       "      <td>No</td>\n",
       "      <td>No</td>\n",
       "      <td>No</td>\n",
       "      <td>Low in Relevance</td>\n",
       "      <td>No</td>\n",
       "      <td>Modified</td>\n",
       "    </tr>\n",
       "    <tr>\n",
       "      <th>1</th>\n",
       "      <td>API</td>\n",
       "      <td>Organic Search</td>\n",
       "      <td>No</td>\n",
       "      <td>No</td>\n",
       "      <td>0</td>\n",
       "      <td>5.0</td>\n",
       "      <td>674</td>\n",
       "      <td>2.5</td>\n",
       "      <td>Email Opened</td>\n",
       "      <td>India</td>\n",
       "      <td>...</td>\n",
       "      <td>Better Career Prospects</td>\n",
       "      <td>No</td>\n",
       "      <td>No</td>\n",
       "      <td>No</td>\n",
       "      <td>No</td>\n",
       "      <td>No</td>\n",
       "      <td>No</td>\n",
       "      <td>NaN</td>\n",
       "      <td>No</td>\n",
       "      <td>Email Opened</td>\n",
       "    </tr>\n",
       "    <tr>\n",
       "      <th>2</th>\n",
       "      <td>Landing Page Submission</td>\n",
       "      <td>Direct Traffic</td>\n",
       "      <td>No</td>\n",
       "      <td>No</td>\n",
       "      <td>1</td>\n",
       "      <td>2.0</td>\n",
       "      <td>1532</td>\n",
       "      <td>2.0</td>\n",
       "      <td>Email Opened</td>\n",
       "      <td>India</td>\n",
       "      <td>...</td>\n",
       "      <td>Better Career Prospects</td>\n",
       "      <td>No</td>\n",
       "      <td>No</td>\n",
       "      <td>No</td>\n",
       "      <td>No</td>\n",
       "      <td>No</td>\n",
       "      <td>No</td>\n",
       "      <td>Might be</td>\n",
       "      <td>Yes</td>\n",
       "      <td>Email Opened</td>\n",
       "    </tr>\n",
       "    <tr>\n",
       "      <th>3</th>\n",
       "      <td>Landing Page Submission</td>\n",
       "      <td>Direct Traffic</td>\n",
       "      <td>No</td>\n",
       "      <td>No</td>\n",
       "      <td>0</td>\n",
       "      <td>1.0</td>\n",
       "      <td>305</td>\n",
       "      <td>1.0</td>\n",
       "      <td>Unreachable</td>\n",
       "      <td>India</td>\n",
       "      <td>...</td>\n",
       "      <td>Better Career Prospects</td>\n",
       "      <td>No</td>\n",
       "      <td>No</td>\n",
       "      <td>No</td>\n",
       "      <td>No</td>\n",
       "      <td>No</td>\n",
       "      <td>No</td>\n",
       "      <td>Not Sure</td>\n",
       "      <td>No</td>\n",
       "      <td>Modified</td>\n",
       "    </tr>\n",
       "    <tr>\n",
       "      <th>4</th>\n",
       "      <td>Landing Page Submission</td>\n",
       "      <td>Google</td>\n",
       "      <td>No</td>\n",
       "      <td>No</td>\n",
       "      <td>1</td>\n",
       "      <td>2.0</td>\n",
       "      <td>1428</td>\n",
       "      <td>1.0</td>\n",
       "      <td>Converted to Lead</td>\n",
       "      <td>India</td>\n",
       "      <td>...</td>\n",
       "      <td>Better Career Prospects</td>\n",
       "      <td>No</td>\n",
       "      <td>No</td>\n",
       "      <td>No</td>\n",
       "      <td>No</td>\n",
       "      <td>No</td>\n",
       "      <td>No</td>\n",
       "      <td>Might be</td>\n",
       "      <td>No</td>\n",
       "      <td>Modified</td>\n",
       "    </tr>\n",
       "  </tbody>\n",
       "</table>\n",
       "<p>5 rows × 22 columns</p>\n",
       "</div>"
      ],
      "text/plain": [
       "               Lead Origin     Lead Source Do Not Email Do Not Call  \\\n",
       "0                      API      Olark Chat           No          No   \n",
       "1                      API  Organic Search           No          No   \n",
       "2  Landing Page Submission  Direct Traffic           No          No   \n",
       "3  Landing Page Submission  Direct Traffic           No          No   \n",
       "4  Landing Page Submission          Google           No          No   \n",
       "\n",
       "   Converted  TotalVisits  Total Time Spent on Website  Page Views Per Visit  \\\n",
       "0          0          0.0                            0                   0.0   \n",
       "1          0          5.0                          674                   2.5   \n",
       "2          1          2.0                         1532                   2.0   \n",
       "3          0          1.0                          305                   1.0   \n",
       "4          1          2.0                         1428                   1.0   \n",
       "\n",
       "             Last Activity Country  ...  \\\n",
       "0  Page Visited on Website     NaN  ...   \n",
       "1             Email Opened   India  ...   \n",
       "2             Email Opened   India  ...   \n",
       "3              Unreachable   India  ...   \n",
       "4        Converted to Lead   India  ...   \n",
       "\n",
       "  What matters most to you in choosing a course Search Newspaper Article  \\\n",
       "0                       Better Career Prospects     No                No   \n",
       "1                       Better Career Prospects     No                No   \n",
       "2                       Better Career Prospects     No                No   \n",
       "3                       Better Career Prospects     No                No   \n",
       "4                       Better Career Prospects     No                No   \n",
       "\n",
       "  X Education Forums Newspaper Digital Advertisement Through Recommendations  \\\n",
       "0                 No        No                    No                      No   \n",
       "1                 No        No                    No                      No   \n",
       "2                 No        No                    No                      No   \n",
       "3                 No        No                    No                      No   \n",
       "4                 No        No                    No                      No   \n",
       "\n",
       "       Lead Quality A free copy of Mastering The Interview  \\\n",
       "0  Low in Relevance                                     No   \n",
       "1               NaN                                     No   \n",
       "2          Might be                                    Yes   \n",
       "3          Not Sure                                     No   \n",
       "4          Might be                                     No   \n",
       "\n",
       "  Last Notable Activity  \n",
       "0              Modified  \n",
       "1          Email Opened  \n",
       "2          Email Opened  \n",
       "3              Modified  \n",
       "4              Modified  \n",
       "\n",
       "[5 rows x 22 columns]"
      ]
     },
     "execution_count": 13,
     "metadata": {},
     "output_type": "execute_result"
    }
   ],
   "source": [
    "# Removing all the columns that are no required and have 35% null values \n",
    "df2 = df1.drop(['How did you hear about X Education','Tags', 'Asymmetrique Activity Index','Lead Profile','City', 'Asymmetrique Profile Index','Asymmetrique Activity Score','Asymmetrique Profile Score'],axis=1)\n",
    "df2.head()"
   ]
  },
  {
   "cell_type": "markdown",
   "id": "c524706d",
   "metadata": {},
   "source": [
    "Though \"Specialization\" & \"Lead Quality\" columns have more than 35% missing values we aren't dropping them as they have important data that might give strength to the analysis."
   ]
  },
  {
   "cell_type": "code",
   "execution_count": 14,
   "id": "5cd651aa",
   "metadata": {},
   "outputs": [
    {
     "data": {
      "text/plain": [
       "Lead Origin                                       0.00\n",
       "Lead Source                                       0.39\n",
       "Do Not Email                                      0.00\n",
       "Do Not Call                                       0.00\n",
       "Converted                                         0.00\n",
       "TotalVisits                                       1.48\n",
       "Total Time Spent on Website                       0.00\n",
       "Page Views Per Visit                              1.48\n",
       "Last Activity                                     1.11\n",
       "Country                                          26.63\n",
       "Specialization                                   36.58\n",
       "What is your current occupation                  29.11\n",
       "What matters most to you in choosing a course    29.32\n",
       "Search                                            0.00\n",
       "Newspaper Article                                 0.00\n",
       "X Education Forums                                0.00\n",
       "Newspaper                                         0.00\n",
       "Digital Advertisement                             0.00\n",
       "Through Recommendations                           0.00\n",
       "Lead Quality                                     51.59\n",
       "A free copy of Mastering The Interview            0.00\n",
       "Last Notable Activity                             0.00\n",
       "dtype: float64"
      ]
     },
     "execution_count": 14,
     "metadata": {},
     "output_type": "execute_result"
    }
   ],
   "source": [
    "# Rechecking the percentage of missing values\n",
    "round(100*(df2.isnull().mean()), 2)"
   ]
  },
  {
   "cell_type": "code",
   "execution_count": 15,
   "id": "1800a2ba",
   "metadata": {},
   "outputs": [
    {
     "name": "stdout",
     "output_type": "stream",
     "text": [
      "<class 'pandas.core.frame.DataFrame'>\n",
      "RangeIndex: 9240 entries, 0 to 9239\n",
      "Data columns (total 22 columns):\n",
      " #   Column                                         Non-Null Count  Dtype  \n",
      "---  ------                                         --------------  -----  \n",
      " 0   Lead Origin                                    9240 non-null   object \n",
      " 1   Lead Source                                    9204 non-null   object \n",
      " 2   Do Not Email                                   9240 non-null   object \n",
      " 3   Do Not Call                                    9240 non-null   object \n",
      " 4   Converted                                      9240 non-null   int64  \n",
      " 5   TotalVisits                                    9103 non-null   float64\n",
      " 6   Total Time Spent on Website                    9240 non-null   int64  \n",
      " 7   Page Views Per Visit                           9103 non-null   float64\n",
      " 8   Last Activity                                  9137 non-null   object \n",
      " 9   Country                                        6779 non-null   object \n",
      " 10  Specialization                                 5860 non-null   object \n",
      " 11  What is your current occupation                9240 non-null   object \n",
      " 12  What matters most to you in choosing a course  9240 non-null   object \n",
      " 13  Search                                         9240 non-null   object \n",
      " 14  Newspaper Article                              9240 non-null   object \n",
      " 15  X Education Forums                             9240 non-null   object \n",
      " 16  Newspaper                                      9240 non-null   object \n",
      " 17  Digital Advertisement                          9240 non-null   object \n",
      " 18  Through Recommendations                        9240 non-null   object \n",
      " 19  Lead Quality                                   4473 non-null   object \n",
      " 20  A free copy of Mastering The Interview         9240 non-null   object \n",
      " 21  Last Notable Activity                          9240 non-null   object \n",
      "dtypes: float64(2), int64(2), object(18)\n",
      "memory usage: 1.6+ MB\n"
     ]
    }
   ],
   "source": [
    "# We are replacing the 'null' values with 'not provided' for the below columns\n",
    "## We will be droping these columns later if we find that these columns are not significant for our analysis.\n",
    "\n",
    "df2['What matters most to you in choosing a course'] = df2['What matters most to you in choosing a course'].fillna('not provided')\n",
    "df2['What is your current occupation'] = df2['What is your current occupation'].fillna('not provided')\n",
    "df2.info()"
   ]
  },
  {
   "cell_type": "code",
   "execution_count": 16,
   "id": "44130c53",
   "metadata": {},
   "outputs": [],
   "source": [
    "# function for checking the percentage in plots\n",
    "def percent_plot(var):\n",
    "    values = (df2[var].value_counts(normalize=True)*100)\n",
    "    plt_p = values.plot.bar(color=sns.color_palette('deep'))\n",
    "    plt_p.set(xlabel = var, ylabel = '% in dataset')"
   ]
  },
  {
   "cell_type": "code",
   "execution_count": 17,
   "id": "fe469c5f",
   "metadata": {},
   "outputs": [
    {
     "data": {
      "image/png": "[encoded data removed]",
      "text/plain": [
       "<Figure size 432x288 with 1 Axes>"
      ]
     },
     "metadata": {
      "needs_background": "light"
     },
     "output_type": "display_data"
    }
   ],
   "source": [
    "# For 'Specialization'\n",
    "percent_plot('Specialization')"
   ]
  },
  {
   "cell_type": "code",
   "execution_count": 18,
   "id": "0e1f7a5d",
   "metadata": {},
   "outputs": [],
   "source": [
    "# As there are a lot of different specializations and it's not accurate to directly impute with the mean, let's update the null values with new keyword 'others.'\n",
    "df2['Specialization'] = df2['Specialization'].replace(np.nan, 'Others')"
   ]
  },
  {
   "cell_type": "code",
   "execution_count": 19,
   "id": "5b1f219b",
   "metadata": {},
   "outputs": [
    {
     "data": {
      "image/png": "[encoded data removed]",
      "text/plain": [
       "<Figure size 432x288 with 1 Axes>"
      ]
     },
     "metadata": {
      "needs_background": "light"
     },
     "output_type": "display_data"
    }
   ],
   "source": [
    "# For 'Country'\n",
    "percent_plot('Country')"
   ]
  },
  {
   "cell_type": "code",
   "execution_count": 20,
   "id": "20e543f3",
   "metadata": {},
   "outputs": [],
   "source": [
    "# updating the null values with India as it is the most frequent value.\n",
    "df2['Country'] = df2['Country'].replace(np.nan, 'India')"
   ]
  },
  {
   "cell_type": "code",
   "execution_count": 21,
   "id": "12626c7e",
   "metadata": {},
   "outputs": [
    {
     "data": {
      "image/png": "[encoded data removed]",
      "text/plain": [
       "<Figure size 432x288 with 1 Axes>"
      ]
     },
     "metadata": {
      "needs_background": "light"
     },
     "output_type": "display_data"
    }
   ],
   "source": [
    "# For Lead Quality\n",
    "percent_plot('Lead Quality')"
   ]
  },
  {
   "cell_type": "code",
   "execution_count": 22,
   "id": "3a8293c6",
   "metadata": {},
   "outputs": [],
   "source": [
    "# considering 'Not Sure' for filling the null values as it can be interpret that not opting anything may be the customer is \"Not Sure\"\n",
    "df2['Lead Quality'] = df2['Lead Quality'].replace(np.nan, 'Not Sure')"
   ]
  },
  {
   "cell_type": "code",
   "execution_count": 23,
   "id": "322c4f58",
   "metadata": {},
   "outputs": [
    {
     "data": {
      "image/png": "[encoded data removed]",
      "text/plain": [
       "<Figure size 1080x360 with 2 Axes>"
      ]
     },
     "metadata": {
      "needs_background": "light"
     },
     "output_type": "display_data"
    },
    {
     "data": {
      "text/html": [
       "<div>\n",
       "<style scoped>\n",
       "    .dataframe tbody tr th:only-of-type {\n",
       "        vertical-align: middle;\n",
       "    }\n",
       "\n",
       "    .dataframe tbody tr th {\n",
       "        vertical-align: top;\n",
       "    }\n",
       "\n",
       "    .dataframe thead th {\n",
       "        text-align: right;\n",
       "    }\n",
       "</style>\n",
       "<table border=\"1\" class=\"dataframe\">\n",
       "  <thead>\n",
       "    <tr style=\"text-align: right;\">\n",
       "      <th></th>\n",
       "      <th>TotalVisits</th>\n",
       "      <th>Page Views Per Visit</th>\n",
       "    </tr>\n",
       "  </thead>\n",
       "  <tbody>\n",
       "    <tr>\n",
       "      <th>count</th>\n",
       "      <td>9103.000000</td>\n",
       "      <td>9103.000000</td>\n",
       "    </tr>\n",
       "    <tr>\n",
       "      <th>mean</th>\n",
       "      <td>3.445238</td>\n",
       "      <td>2.362820</td>\n",
       "    </tr>\n",
       "    <tr>\n",
       "      <th>std</th>\n",
       "      <td>4.854853</td>\n",
       "      <td>2.161418</td>\n",
       "    </tr>\n",
       "    <tr>\n",
       "      <th>min</th>\n",
       "      <td>0.000000</td>\n",
       "      <td>0.000000</td>\n",
       "    </tr>\n",
       "    <tr>\n",
       "      <th>25%</th>\n",
       "      <td>1.000000</td>\n",
       "      <td>1.000000</td>\n",
       "    </tr>\n",
       "    <tr>\n",
       "      <th>50%</th>\n",
       "      <td>3.000000</td>\n",
       "      <td>2.000000</td>\n",
       "    </tr>\n",
       "    <tr>\n",
       "      <th>75%</th>\n",
       "      <td>5.000000</td>\n",
       "      <td>3.000000</td>\n",
       "    </tr>\n",
       "    <tr>\n",
       "      <th>max</th>\n",
       "      <td>251.000000</td>\n",
       "      <td>55.000000</td>\n",
       "    </tr>\n",
       "  </tbody>\n",
       "</table>\n",
       "</div>"
      ],
      "text/plain": [
       "       TotalVisits  Page Views Per Visit\n",
       "count  9103.000000           9103.000000\n",
       "mean      3.445238              2.362820\n",
       "std       4.854853              2.161418\n",
       "min       0.000000              0.000000\n",
       "25%       1.000000              1.000000\n",
       "50%       3.000000              2.000000\n",
       "75%       5.000000              3.000000\n",
       "max     251.000000             55.000000"
      ]
     },
     "execution_count": 23,
     "metadata": {},
     "output_type": "execute_result"
    }
   ],
   "source": [
    "# let's check what to be imputed for null values in numerical variables.\n",
    "\n",
    "visit_list = ['TotalVisits', 'Page Views Per Visit']\n",
    "plt.figure(figsize=(15, 5))\n",
    "for var in visit_list:\n",
    "    plt.subplot(1,2,visit_list.index(var)+1)\n",
    "    sns.boxplot(df2[var])\n",
    "plt.show()\n",
    "\n",
    "df2[visit_list].describe()"
   ]
  },
  {
   "cell_type": "markdown",
   "id": "ecef7046",
   "metadata": {},
   "source": [
    "From the above analysis, it can be seen that there is a lot of variation in both of the variables. As the percentage of missing values for both of them are less than 2%, it is better to drop the rows containing missing values."
   ]
  },
  {
   "cell_type": "code",
   "execution_count": 24,
   "id": "16b58b7d",
   "metadata": {},
   "outputs": [
    {
     "data": {
      "image/png": "[encoded data removed]",
      "text/plain": [
       "<Figure size 432x288 with 1 Axes>"
      ]
     },
     "metadata": {
      "needs_background": "light"
     },
     "output_type": "display_data"
    },
    {
     "data": {
      "image/png": "[encoded data removed]",
      "text/plain": [
       "<Figure size 432x288 with 1 Axes>"
      ]
     },
     "metadata": {
      "needs_background": "light"
     },
     "output_type": "display_data"
    }
   ],
   "source": [
    "# For 'Lead Source' and 'Last Activity'\n",
    "var_list = ['Lead Source', 'Last Activity']\n",
    "\n",
    "for var in var_list:\n",
    "    percent_plot(var)\n",
    "    plt.show()"
   ]
  },
  {
   "cell_type": "markdown",
   "id": "73b5a52d",
   "metadata": {},
   "source": [
    "In these categorical variables, imputing with the most frequent value is not accurate as the next most frequent value has similar frequency. Also, as these variables have very little missing values, it is better to drop the rows containing these missing values. Hence, we'll drop the rows containing any missing missing values for above four variables."
   ]
  },
  {
   "cell_type": "code",
   "execution_count": 25,
   "id": "0c417f3a",
   "metadata": {},
   "outputs": [],
   "source": [
    "# To drop the rows containing missing values\n",
    "df2.dropna(inplace = True)"
   ]
  },
  {
   "cell_type": "code",
   "execution_count": 26,
   "id": "46b6e7a6",
   "metadata": {},
   "outputs": [
    {
     "data": {
      "text/plain": [
       "Lead Origin                                      0.0\n",
       "Lead Source                                      0.0\n",
       "Do Not Email                                     0.0\n",
       "Do Not Call                                      0.0\n",
       "Converted                                        0.0\n",
       "TotalVisits                                      0.0\n",
       "Total Time Spent on Website                      0.0\n",
       "Page Views Per Visit                             0.0\n",
       "Last Activity                                    0.0\n",
       "Country                                          0.0\n",
       "Specialization                                   0.0\n",
       "What is your current occupation                  0.0\n",
       "What matters most to you in choosing a course    0.0\n",
       "Search                                           0.0\n",
       "Newspaper Article                                0.0\n",
       "X Education Forums                               0.0\n",
       "Newspaper                                        0.0\n",
       "Digital Advertisement                            0.0\n",
       "Through Recommendations                          0.0\n",
       "Lead Quality                                     0.0\n",
       "A free copy of Mastering The Interview           0.0\n",
       "Last Notable Activity                            0.0\n",
       "dtype: float64"
      ]
     },
     "execution_count": 26,
     "metadata": {},
     "output_type": "execute_result"
    }
   ],
   "source": [
    "# To get percentage of null values in each column\n",
    "round(100*(df2.isnull().mean()), 2)"
   ]
  },
  {
   "cell_type": "code",
   "execution_count": 27,
   "id": "9fe65c56",
   "metadata": {},
   "outputs": [
    {
     "data": {
      "text/plain": [
       "(9074, 22)"
      ]
     },
     "execution_count": 27,
     "metadata": {},
     "output_type": "execute_result"
    }
   ],
   "source": [
    "#undedrstanding the data after data cleaning\n",
    "df2.shape"
   ]
  },
  {
   "cell_type": "markdown",
   "id": "706c8ad4",
   "metadata": {},
   "source": [
    "The data cleaning and manipulating part is done, from 37 variables we filtered it to 22 and from 9240 rows we slipped to 9074 where the data spilled is aroung 1.79% which doesn't have much impact in the analysis."
   ]
  },
  {
   "cell_type": "markdown",
   "id": "eb01237a",
   "metadata": {},
   "source": [
    "### Exploratory Data Analysis (EDA)"
   ]
  },
  {
   "cell_type": "code",
   "execution_count": 28,
   "id": "351069d6",
   "metadata": {},
   "outputs": [
    {
     "data": {
      "image/png": "[encoded data removed]",
      "text/plain": [
       "<Figure size 432x288 with 1 Axes>"
      ]
     },
     "metadata": {
      "needs_background": "light"
     },
     "output_type": "display_data"
    }
   ],
   "source": [
    "# For the target variable 'Converted'\n",
    "percent_plot('Converted')"
   ]
  },
  {
   "cell_type": "code",
   "execution_count": 29,
   "id": "f99467f8",
   "metadata": {},
   "outputs": [
    {
     "data": {
      "text/plain": [
       "37.85541106458012"
      ]
     },
     "execution_count": 29,
     "metadata": {},
     "output_type": "execute_result"
    }
   ],
   "source": [
    "(sum(df2['Converted'])/len(df2['Converted'].index))*100"
   ]
  },
  {
   "cell_type": "markdown",
   "id": "fa7e0cfc",
   "metadata": {},
   "source": [
    "- In this data set 37.8% of the leads are converted. This means we have enough data of converted leads for modelling."
   ]
  },
  {
   "cell_type": "code",
   "execution_count": 30,
   "id": "ae78c415",
   "metadata": {},
   "outputs": [
    {
     "data": {
      "image/png": "[encoded data removed]",
      "text/plain": [
       "<Figure size 1080x720 with 3 Axes>"
      ]
     },
     "metadata": {
      "needs_background": "light"
     },
     "output_type": "display_data"
    }
   ],
   "source": [
    "# Boxplots\n",
    "num_var = ['TotalVisits','Total Time Spent on Website','Page Views Per Visit']\n",
    "plt.figure(figsize=(15, 10))\n",
    "for var in num_var:\n",
    "    plt.subplot(3,1,num_var.index(var)+1)\n",
    "    sns.boxplot(df2[var])\n",
    "plt.show()"
   ]
  },
  {
   "cell_type": "code",
   "execution_count": 31,
   "id": "14630a08",
   "metadata": {},
   "outputs": [
    {
     "data": {
      "text/html": [
       "<div>\n",
       "<style scoped>\n",
       "    .dataframe tbody tr th:only-of-type {\n",
       "        vertical-align: middle;\n",
       "    }\n",
       "\n",
       "    .dataframe tbody tr th {\n",
       "        vertical-align: top;\n",
       "    }\n",
       "\n",
       "    .dataframe thead th {\n",
       "        text-align: right;\n",
       "    }\n",
       "</style>\n",
       "<table border=\"1\" class=\"dataframe\">\n",
       "  <thead>\n",
       "    <tr style=\"text-align: right;\">\n",
       "      <th></th>\n",
       "      <th>TotalVisits</th>\n",
       "      <th>Total Time Spent on Website</th>\n",
       "      <th>Page Views Per Visit</th>\n",
       "    </tr>\n",
       "  </thead>\n",
       "  <tbody>\n",
       "    <tr>\n",
       "      <th>count</th>\n",
       "      <td>9074.000000</td>\n",
       "      <td>9074.000000</td>\n",
       "      <td>9074.000000</td>\n",
       "    </tr>\n",
       "    <tr>\n",
       "      <th>mean</th>\n",
       "      <td>3.456028</td>\n",
       "      <td>482.887481</td>\n",
       "      <td>2.370151</td>\n",
       "    </tr>\n",
       "    <tr>\n",
       "      <th>std</th>\n",
       "      <td>4.858802</td>\n",
       "      <td>545.256560</td>\n",
       "      <td>2.160871</td>\n",
       "    </tr>\n",
       "    <tr>\n",
       "      <th>min</th>\n",
       "      <td>0.000000</td>\n",
       "      <td>0.000000</td>\n",
       "      <td>0.000000</td>\n",
       "    </tr>\n",
       "    <tr>\n",
       "      <th>5%</th>\n",
       "      <td>0.000000</td>\n",
       "      <td>0.000000</td>\n",
       "      <td>0.000000</td>\n",
       "    </tr>\n",
       "    <tr>\n",
       "      <th>25%</th>\n",
       "      <td>1.000000</td>\n",
       "      <td>11.000000</td>\n",
       "      <td>1.000000</td>\n",
       "    </tr>\n",
       "    <tr>\n",
       "      <th>50%</th>\n",
       "      <td>3.000000</td>\n",
       "      <td>246.000000</td>\n",
       "      <td>2.000000</td>\n",
       "    </tr>\n",
       "    <tr>\n",
       "      <th>75%</th>\n",
       "      <td>5.000000</td>\n",
       "      <td>922.750000</td>\n",
       "      <td>3.200000</td>\n",
       "    </tr>\n",
       "    <tr>\n",
       "      <th>90%</th>\n",
       "      <td>7.000000</td>\n",
       "      <td>1373.000000</td>\n",
       "      <td>5.000000</td>\n",
       "    </tr>\n",
       "    <tr>\n",
       "      <th>95%</th>\n",
       "      <td>10.000000</td>\n",
       "      <td>1557.000000</td>\n",
       "      <td>6.000000</td>\n",
       "    </tr>\n",
       "    <tr>\n",
       "      <th>max</th>\n",
       "      <td>251.000000</td>\n",
       "      <td>2272.000000</td>\n",
       "      <td>55.000000</td>\n",
       "    </tr>\n",
       "  </tbody>\n",
       "</table>\n",
       "</div>"
      ],
      "text/plain": [
       "       TotalVisits  Total Time Spent on Website  Page Views Per Visit\n",
       "count  9074.000000                  9074.000000           9074.000000\n",
       "mean      3.456028                   482.887481              2.370151\n",
       "std       4.858802                   545.256560              2.160871\n",
       "min       0.000000                     0.000000              0.000000\n",
       "5%        0.000000                     0.000000              0.000000\n",
       "25%       1.000000                    11.000000              1.000000\n",
       "50%       3.000000                   246.000000              2.000000\n",
       "75%       5.000000                   922.750000              3.200000\n",
       "90%       7.000000                  1373.000000              5.000000\n",
       "95%      10.000000                  1557.000000              6.000000\n",
       "max     251.000000                  2272.000000             55.000000"
      ]
     },
     "execution_count": 31,
     "metadata": {},
     "output_type": "execute_result"
    }
   ],
   "source": [
    "df2[num_var].describe([0.05,.25, .5, .75, .90, .95])"
   ]
  },
  {
   "cell_type": "code",
   "execution_count": 32,
   "id": "065d1ed4",
   "metadata": {},
   "outputs": [],
   "source": [
    "# Outlier treatment\n",
    "\n",
    "## For 'Total Visits' & 'Page views per visit' we can cap the columns at 95% value.\n",
    "percentile = df2['TotalVisits'].quantile([0.95]).values\n",
    "df2['TotalVisits'][df2['TotalVisits'] >= percentile[0]] = percentile[0]\n",
    "\n",
    "percentile = df2['Page Views Per Visit'].quantile([0.95]).values\n",
    "df2['Page Views Per Visit'][df2['Page Views Per Visit'] >= percentile[0]] = percentile[0]"
   ]
  },
  {
   "cell_type": "code",
   "execution_count": 33,
   "id": "b044f2a5",
   "metadata": {},
   "outputs": [
    {
     "data": {
      "image/png": "[encoded data removed]",
      "text/plain": [
       "<Figure size 1080x720 with 3 Axes>"
      ]
     },
     "metadata": {
      "needs_background": "light"
     },
     "output_type": "display_data"
    }
   ],
   "source": [
    "# Ploting Boxplots after outliers handling\n",
    "plt.figure(figsize=(15, 10))\n",
    "for var in num_var:\n",
    "    plt.subplot(3,1,num_var.index(var)+1)\n",
    "    sns.boxplot(df2[var])\n",
    "plt.show()"
   ]
  },
  {
   "cell_type": "code",
   "execution_count": 34,
   "id": "8cbf75aa",
   "metadata": {},
   "outputs": [
    {
     "data": {
      "image/png": "[encoded data removed]",
      "text/plain": [
       "<Figure size 1080x360 with 3 Axes>"
      ]
     },
     "metadata": {
      "needs_background": "light"
     },
     "output_type": "display_data"
    }
   ],
   "source": [
    "#Ploting numerical variables against target variable\n",
    "\n",
    "plt.figure(figsize=(15, 5))\n",
    "for var in num_var:\n",
    "    plt.subplot(1,3,num_var.index(var)+1)\n",
    "    sns.boxplot(y = var , x = 'Converted', data = df2)\n",
    "plt.show()"
   ]
  },
  {
   "cell_type": "markdown",
   "id": "e0fe5abf",
   "metadata": {},
   "source": [
    "- Observation - People spending more time on the website are more likely to be converted and has major observation rather than the total vists and page views per vist"
   ]
  },
  {
   "cell_type": "code",
   "execution_count": 35,
   "id": "b8da2a17",
   "metadata": {},
   "outputs": [],
   "source": [
    "# Functions to plot countplots for categorical variables with target variable\n",
    "\n",
    "def plot_cat_var(var):\n",
    "    plt.figure(figsize=(20, 7))\n",
    "    sns.countplot(x = var, hue = \"Converted\", data = df2)\n",
    "    plt.xticks(rotation = 90)\n",
    "    plt.show()"
   ]
  },
  {
   "cell_type": "code",
   "execution_count": 36,
   "id": "42e70eab",
   "metadata": {},
   "outputs": [
    {
     "data": {
      "image/png": "[encoded data removed]",
      "text/plain": [
       "<Figure size 1440x504 with 1 Axes>"
      ]
     },
     "metadata": {
      "needs_background": "light"
     },
     "output_type": "display_data"
    }
   ],
   "source": [
    "plot_cat_var('Lead Origin')"
   ]
  },
  {
   "cell_type": "markdown",
   "id": "821e8302",
   "metadata": {},
   "source": [
    "- __Observations:__'API' and 'Landing Page Submission' generate the most leads but have less conversion rates of around 30%. Whereas, 'Lead Add Form' generates less leads but conversion rate is great. \n",
    "<br><br>\n",
    "- __Analysis:__<br> 1. We should try to increase conversion rate for 'API' and 'Landing Page Submission' <br>2. Increase leads generation using 'Lead Add Form'. 'Lead Import' does not seem very significant."
   ]
  },
  {
   "cell_type": "code",
   "execution_count": 37,
   "id": "7bb86675",
   "metadata": {},
   "outputs": [
    {
     "data": {
      "image/png": "[encoded data removed]",
      "text/plain": [
       "<Figure size 1440x504 with 1 Axes>"
      ]
     },
     "metadata": {
      "needs_background": "light"
     },
     "output_type": "display_data"
    }
   ],
   "source": [
    "plot_cat_var('Lead Source')"
   ]
  },
  {
   "cell_type": "markdown",
   "id": "2ceccb5e",
   "metadata": {},
   "source": [
    "As it can be seen from the graph, number of leads generated by many of the sources are negligible. There are sufficient numbers till Facebook. We can convert all others in one single category of 'Others'."
   ]
  },
  {
   "cell_type": "code",
   "execution_count": 38,
   "id": "e8066320",
   "metadata": {},
   "outputs": [
    {
     "data": {
      "text/plain": [
       "array(['Olark Chat', 'Organic Search', 'Direct Traffic', 'Google',\n",
       "       'Referral Sites', 'Reference', 'google', 'Welingak Website',\n",
       "       'Facebook', 'blog', 'Pay per Click Ads', 'bing', 'Social Media',\n",
       "       'WeLearn', 'Click2call', 'Live Chat', 'welearnblog_Home',\n",
       "       'youtubechannel', 'testone', 'Press_Release', 'NC_EDM'],\n",
       "      dtype=object)"
      ]
     },
     "execution_count": 38,
     "metadata": {},
     "output_type": "execute_result"
    }
   ],
   "source": [
    "categories = df2['Lead Source'].unique()\n",
    "categories"
   ]
  },
  {
   "cell_type": "code",
   "execution_count": 39,
   "id": "89655171",
   "metadata": {},
   "outputs": [],
   "source": [
    "# To reduce categories\n",
    "df2['Lead Source'] = df2['Lead Source'].replace(categories[9:], 'Others')"
   ]
  },
  {
   "cell_type": "code",
   "execution_count": 40,
   "id": "981f1997",
   "metadata": {},
   "outputs": [
    {
     "data": {
      "image/png": "[encoded data removed]",
      "text/plain": [
       "<Figure size 1440x504 with 1 Axes>"
      ]
     },
     "metadata": {
      "needs_background": "light"
     },
     "output_type": "display_data"
    }
   ],
   "source": [
    "plot_cat_var('Lead Source')"
   ]
  },
  {
   "cell_type": "markdown",
   "id": "db773fbd",
   "metadata": {},
   "source": [
    "- Observation: 'Direct Traffic' and 'Google' generate maximum number of leads while maximum conversion rate is achieved through 'Reference' and 'Welingak Website'"
   ]
  },
  {
   "cell_type": "code",
   "execution_count": 41,
   "id": "80c0bffd",
   "metadata": {},
   "outputs": [
    {
     "data": {
      "image/png": "[encoded data removed]",
      "text/plain": [
       "<Figure size 1440x504 with 1 Axes>"
      ]
     },
     "metadata": {
      "needs_background": "light"
     },
     "output_type": "display_data"
    }
   ],
   "source": [
    "plot_cat_var('Last Activity')"
   ]
  },
  {
   "cell_type": "markdown",
   "id": "fab92995",
   "metadata": {},
   "source": [
    "- Observation - Highest number of lead are generated where the last activity is 'Email Opened' while maximum conversion rate is for the activity of 'SMS Sent'. Its conversion rate is significantly high."
   ]
  },
  {
   "cell_type": "code",
   "execution_count": 42,
   "id": "dda738c1",
   "metadata": {},
   "outputs": [
    {
     "data": {
      "image/png": "[encoded data removed]",
      "text/plain": [
       "<Figure size 1440x504 with 1 Axes>"
      ]
     },
     "metadata": {
      "needs_background": "light"
     },
     "output_type": "display_data"
    }
   ],
   "source": [
    "plot_cat_var('Specialization')"
   ]
  },
  {
   "cell_type": "markdown",
   "id": "93b4252d",
   "metadata": {},
   "source": [
    "Observation : Got no relevent observation. Conversation rate is almost same in the ratio of total leads generated for different specialization streams. "
   ]
  },
  {
   "cell_type": "code",
   "execution_count": 43,
   "id": "68d9523d",
   "metadata": {},
   "outputs": [
    {
     "data": {
      "image/png": "[encoded data removed]",
      "text/plain": [
       "<Figure size 1440x504 with 1 Axes>"
      ]
     },
     "metadata": {
      "needs_background": "light"
     },
     "output_type": "display_data"
    }
   ],
   "source": [
    "plot_cat_var('What is your current occupation')"
   ]
  },
  {
   "cell_type": "markdown",
   "id": "4c363801",
   "metadata": {},
   "source": [
    " Observation: Convertion rate is very high for the working professionals"
   ]
  },
  {
   "cell_type": "code",
   "execution_count": 44,
   "id": "3ad2a840",
   "metadata": {},
   "outputs": [
    {
     "data": {
      "image/png": "[encoded data removed]",
      "text/plain": [
       "<Figure size 1440x504 with 1 Axes>"
      ]
     },
     "metadata": {
      "needs_background": "light"
     },
     "output_type": "display_data"
    }
   ],
   "source": [
    "plot_cat_var('What matters most to you in choosing a course')"
   ]
  },
  {
   "cell_type": "markdown",
   "id": "adf35f93",
   "metadata": {},
   "source": [
    "Observation: Leads generated and Convertion rate is very high for 'Better career Prospects'"
   ]
  },
  {
   "cell_type": "code",
   "execution_count": 45,
   "id": "45cf28c2",
   "metadata": {},
   "outputs": [
    {
     "data": {
      "image/png": "[encoded data removed]",
      "text/plain": [
       "<Figure size 1440x504 with 1 Axes>"
      ]
     },
     "metadata": {
      "needs_background": "light"
     },
     "output_type": "display_data"
    }
   ],
   "source": [
    "plot_cat_var('Lead Quality')"
   ]
  },
  {
   "cell_type": "markdown",
   "id": "c0836e92",
   "metadata": {},
   "source": [
    "Observation: \n",
    "- As expected a huge amount of convertion rate can be seen from people marked as 'Might be' & 'High relevence'. And low convertion rate can be noticed in 'Worst' marked data.\n",
    "- Suprisingly we can see a good convertion rate for the 'Low Relevance' marked people."
   ]
  },
  {
   "cell_type": "markdown",
   "id": "d687cb1c",
   "metadata": {},
   "source": [
    "Based on the data visualization, we can drop the variables which are not significant for analysis and will not any information to the model."
   ]
  },
  {
   "cell_type": "code",
   "execution_count": 46,
   "id": "dbf951c6",
   "metadata": {},
   "outputs": [],
   "source": [
    "df3 = df2.drop(['Do Not Call','Country','What matters most to you in choosing a course','Search','Newspaper Article',\n",
    "                          'X Education Forums','Newspaper','Digital Advertisement','Through Recommendations','A free copy of Mastering The Interview'],1)"
   ]
  },
  {
   "cell_type": "code",
   "execution_count": 47,
   "id": "d1a497b4",
   "metadata": {},
   "outputs": [
    {
     "data": {
      "text/html": [
       "<div>\n",
       "<style scoped>\n",
       "    .dataframe tbody tr th:only-of-type {\n",
       "        vertical-align: middle;\n",
       "    }\n",
       "\n",
       "    .dataframe tbody tr th {\n",
       "        vertical-align: top;\n",
       "    }\n",
       "\n",
       "    .dataframe thead th {\n",
       "        text-align: right;\n",
       "    }\n",
       "</style>\n",
       "<table border=\"1\" class=\"dataframe\">\n",
       "  <thead>\n",
       "    <tr style=\"text-align: right;\">\n",
       "      <th></th>\n",
       "      <th>Lead Origin</th>\n",
       "      <th>Lead Source</th>\n",
       "      <th>Do Not Email</th>\n",
       "      <th>Converted</th>\n",
       "      <th>TotalVisits</th>\n",
       "      <th>Total Time Spent on Website</th>\n",
       "      <th>Page Views Per Visit</th>\n",
       "      <th>Last Activity</th>\n",
       "      <th>Specialization</th>\n",
       "      <th>What is your current occupation</th>\n",
       "      <th>Lead Quality</th>\n",
       "      <th>Last Notable Activity</th>\n",
       "    </tr>\n",
       "  </thead>\n",
       "  <tbody>\n",
       "    <tr>\n",
       "      <th>0</th>\n",
       "      <td>API</td>\n",
       "      <td>Olark Chat</td>\n",
       "      <td>No</td>\n",
       "      <td>0</td>\n",
       "      <td>0.0</td>\n",
       "      <td>0</td>\n",
       "      <td>0.0</td>\n",
       "      <td>Page Visited on Website</td>\n",
       "      <td>Others</td>\n",
       "      <td>Unemployed</td>\n",
       "      <td>Low in Relevance</td>\n",
       "      <td>Modified</td>\n",
       "    </tr>\n",
       "    <tr>\n",
       "      <th>1</th>\n",
       "      <td>API</td>\n",
       "      <td>Organic Search</td>\n",
       "      <td>No</td>\n",
       "      <td>0</td>\n",
       "      <td>5.0</td>\n",
       "      <td>674</td>\n",
       "      <td>2.5</td>\n",
       "      <td>Email Opened</td>\n",
       "      <td>Others</td>\n",
       "      <td>Unemployed</td>\n",
       "      <td>Not Sure</td>\n",
       "      <td>Email Opened</td>\n",
       "    </tr>\n",
       "    <tr>\n",
       "      <th>2</th>\n",
       "      <td>Landing Page Submission</td>\n",
       "      <td>Direct Traffic</td>\n",
       "      <td>No</td>\n",
       "      <td>1</td>\n",
       "      <td>2.0</td>\n",
       "      <td>1532</td>\n",
       "      <td>2.0</td>\n",
       "      <td>Email Opened</td>\n",
       "      <td>Business Administration</td>\n",
       "      <td>Student</td>\n",
       "      <td>Might be</td>\n",
       "      <td>Email Opened</td>\n",
       "    </tr>\n",
       "    <tr>\n",
       "      <th>3</th>\n",
       "      <td>Landing Page Submission</td>\n",
       "      <td>Direct Traffic</td>\n",
       "      <td>No</td>\n",
       "      <td>0</td>\n",
       "      <td>1.0</td>\n",
       "      <td>305</td>\n",
       "      <td>1.0</td>\n",
       "      <td>Unreachable</td>\n",
       "      <td>Media and Advertising</td>\n",
       "      <td>Unemployed</td>\n",
       "      <td>Not Sure</td>\n",
       "      <td>Modified</td>\n",
       "    </tr>\n",
       "    <tr>\n",
       "      <th>4</th>\n",
       "      <td>Landing Page Submission</td>\n",
       "      <td>Google</td>\n",
       "      <td>No</td>\n",
       "      <td>1</td>\n",
       "      <td>2.0</td>\n",
       "      <td>1428</td>\n",
       "      <td>1.0</td>\n",
       "      <td>Converted to Lead</td>\n",
       "      <td>Others</td>\n",
       "      <td>Unemployed</td>\n",
       "      <td>Might be</td>\n",
       "      <td>Modified</td>\n",
       "    </tr>\n",
       "  </tbody>\n",
       "</table>\n",
       "</div>"
      ],
      "text/plain": [
       "               Lead Origin     Lead Source Do Not Email  Converted  \\\n",
       "0                      API      Olark Chat           No          0   \n",
       "1                      API  Organic Search           No          0   \n",
       "2  Landing Page Submission  Direct Traffic           No          1   \n",
       "3  Landing Page Submission  Direct Traffic           No          0   \n",
       "4  Landing Page Submission          Google           No          1   \n",
       "\n",
       "   TotalVisits  Total Time Spent on Website  Page Views Per Visit  \\\n",
       "0          0.0                            0                   0.0   \n",
       "1          5.0                          674                   2.5   \n",
       "2          2.0                         1532                   2.0   \n",
       "3          1.0                          305                   1.0   \n",
       "4          2.0                         1428                   1.0   \n",
       "\n",
       "             Last Activity           Specialization  \\\n",
       "0  Page Visited on Website                   Others   \n",
       "1             Email Opened                   Others   \n",
       "2             Email Opened  Business Administration   \n",
       "3              Unreachable    Media and Advertising   \n",
       "4        Converted to Lead                   Others   \n",
       "\n",
       "  What is your current occupation      Lead Quality Last Notable Activity  \n",
       "0                      Unemployed  Low in Relevance              Modified  \n",
       "1                      Unemployed          Not Sure          Email Opened  \n",
       "2                         Student          Might be          Email Opened  \n",
       "3                      Unemployed          Not Sure              Modified  \n",
       "4                      Unemployed          Might be              Modified  "
      ]
     },
     "execution_count": 47,
     "metadata": {},
     "output_type": "execute_result"
    }
   ],
   "source": [
    "# Final dataframe\n",
    "df3.head()"
   ]
  },
  {
   "cell_type": "code",
   "execution_count": 48,
   "id": "b1fd395c",
   "metadata": {},
   "outputs": [
    {
     "data": {
      "text/plain": [
       "(9074, 12)"
      ]
     },
     "execution_count": 48,
     "metadata": {},
     "output_type": "execute_result"
    }
   ],
   "source": [
    "df3.shape"
   ]
  },
  {
   "cell_type": "code",
   "execution_count": 49,
   "id": "12013ab3",
   "metadata": {},
   "outputs": [
    {
     "name": "stdout",
     "output_type": "stream",
     "text": [
      "<class 'pandas.core.frame.DataFrame'>\n",
      "Int64Index: 9074 entries, 0 to 9239\n",
      "Data columns (total 12 columns):\n",
      " #   Column                           Non-Null Count  Dtype  \n",
      "---  ------                           --------------  -----  \n",
      " 0   Lead Origin                      9074 non-null   object \n",
      " 1   Lead Source                      9074 non-null   object \n",
      " 2   Do Not Email                     9074 non-null   object \n",
      " 3   Converted                        9074 non-null   int64  \n",
      " 4   TotalVisits                      9074 non-null   float64\n",
      " 5   Total Time Spent on Website      9074 non-null   int64  \n",
      " 6   Page Views Per Visit             9074 non-null   float64\n",
      " 7   Last Activity                    9074 non-null   object \n",
      " 8   Specialization                   9074 non-null   object \n",
      " 9   What is your current occupation  9074 non-null   object \n",
      " 10  Lead Quality                     9074 non-null   object \n",
      " 11  Last Notable Activity            9074 non-null   object \n",
      "dtypes: float64(2), int64(2), object(8)\n",
      "memory usage: 1.2+ MB\n"
     ]
    }
   ],
   "source": [
    "df3.info()"
   ]
  },
  {
   "cell_type": "code",
   "execution_count": 50,
   "id": "390de3ae",
   "metadata": {},
   "outputs": [
    {
     "data": {
      "text/html": [
       "<div>\n",
       "<style scoped>\n",
       "    .dataframe tbody tr th:only-of-type {\n",
       "        vertical-align: middle;\n",
       "    }\n",
       "\n",
       "    .dataframe tbody tr th {\n",
       "        vertical-align: top;\n",
       "    }\n",
       "\n",
       "    .dataframe thead th {\n",
       "        text-align: right;\n",
       "    }\n",
       "</style>\n",
       "<table border=\"1\" class=\"dataframe\">\n",
       "  <thead>\n",
       "    <tr style=\"text-align: right;\">\n",
       "      <th></th>\n",
       "      <th>Converted</th>\n",
       "      <th>TotalVisits</th>\n",
       "      <th>Total Time Spent on Website</th>\n",
       "      <th>Page Views Per Visit</th>\n",
       "    </tr>\n",
       "  </thead>\n",
       "  <tbody>\n",
       "    <tr>\n",
       "      <th>count</th>\n",
       "      <td>9074.000000</td>\n",
       "      <td>9074.000000</td>\n",
       "      <td>9074.000000</td>\n",
       "      <td>9074.000000</td>\n",
       "    </tr>\n",
       "    <tr>\n",
       "      <th>mean</th>\n",
       "      <td>0.378554</td>\n",
       "      <td>3.191867</td>\n",
       "      <td>482.887481</td>\n",
       "      <td>2.265943</td>\n",
       "    </tr>\n",
       "    <tr>\n",
       "      <th>std</th>\n",
       "      <td>0.485053</td>\n",
       "      <td>2.780618</td>\n",
       "      <td>545.256560</td>\n",
       "      <td>1.790991</td>\n",
       "    </tr>\n",
       "    <tr>\n",
       "      <th>min</th>\n",
       "      <td>0.000000</td>\n",
       "      <td>0.000000</td>\n",
       "      <td>0.000000</td>\n",
       "      <td>0.000000</td>\n",
       "    </tr>\n",
       "    <tr>\n",
       "      <th>25%</th>\n",
       "      <td>0.000000</td>\n",
       "      <td>1.000000</td>\n",
       "      <td>11.000000</td>\n",
       "      <td>1.000000</td>\n",
       "    </tr>\n",
       "    <tr>\n",
       "      <th>50%</th>\n",
       "      <td>0.000000</td>\n",
       "      <td>3.000000</td>\n",
       "      <td>246.000000</td>\n",
       "      <td>2.000000</td>\n",
       "    </tr>\n",
       "    <tr>\n",
       "      <th>75%</th>\n",
       "      <td>1.000000</td>\n",
       "      <td>5.000000</td>\n",
       "      <td>922.750000</td>\n",
       "      <td>3.200000</td>\n",
       "    </tr>\n",
       "    <tr>\n",
       "      <th>max</th>\n",
       "      <td>1.000000</td>\n",
       "      <td>10.000000</td>\n",
       "      <td>2272.000000</td>\n",
       "      <td>6.000000</td>\n",
       "    </tr>\n",
       "  </tbody>\n",
       "</table>\n",
       "</div>"
      ],
      "text/plain": [
       "         Converted  TotalVisits  Total Time Spent on Website  \\\n",
       "count  9074.000000  9074.000000                  9074.000000   \n",
       "mean      0.378554     3.191867                   482.887481   \n",
       "std       0.485053     2.780618                   545.256560   \n",
       "min       0.000000     0.000000                     0.000000   \n",
       "25%       0.000000     1.000000                    11.000000   \n",
       "50%       0.000000     3.000000                   246.000000   \n",
       "75%       1.000000     5.000000                   922.750000   \n",
       "max       1.000000    10.000000                  2272.000000   \n",
       "\n",
       "       Page Views Per Visit  \n",
       "count           9074.000000  \n",
       "mean               2.265943  \n",
       "std                1.790991  \n",
       "min                0.000000  \n",
       "25%                1.000000  \n",
       "50%                2.000000  \n",
       "75%                3.200000  \n",
       "max                6.000000  "
      ]
     },
     "execution_count": 50,
     "metadata": {},
     "output_type": "execute_result"
    }
   ],
   "source": [
    "df3.describe()"
   ]
  },
  {
   "cell_type": "markdown",
   "id": "c156d6a9",
   "metadata": {},
   "source": [
    "#### Data Preparation"
   ]
  },
  {
   "cell_type": "code",
   "execution_count": 51,
   "id": "c8cf487c",
   "metadata": {},
   "outputs": [],
   "source": [
    "# Converting some binary variables (Yes/No) to 0/1\n",
    "df3['Do Not Email'] = df3['Do Not Email'].map({'Yes': 1, 'No': 0})"
   ]
  },
  {
   "cell_type": "code",
   "execution_count": 52,
   "id": "a4d68b30",
   "metadata": {},
   "outputs": [
    {
     "data": {
      "text/plain": [
       "['Lead Origin',\n",
       " 'Lead Source',\n",
       " 'Last Activity',\n",
       " 'Specialization',\n",
       " 'What is your current occupation',\n",
       " 'Lead Quality',\n",
       " 'Last Notable Activity']"
      ]
     },
     "execution_count": 52,
     "metadata": {},
     "output_type": "execute_result"
    }
   ],
   "source": [
    "#For categorical variables with multiple levels, we create dummy features \n",
    "## Categorical variables\n",
    "cat_var = list(df3.columns[df3.dtypes == 'object'])\n",
    "cat_var"
   ]
  },
  {
   "cell_type": "code",
   "execution_count": 53,
   "id": "1739f107",
   "metadata": {},
   "outputs": [],
   "source": [
    "# To create dummy variables and drop first ones\n",
    "dummy = pd.get_dummies(df3[cat_var], drop_first=True)\n",
    "\n",
    "# To add result to the original dataframe\n",
    "df3 = pd.concat([df3, dummy], axis=1)\n",
    "\n",
    "# To drop the original variables\n",
    "df3 = df3.drop(cat_var,1)"
   ]
  },
  {
   "cell_type": "code",
   "execution_count": 54,
   "id": "d2d1767c",
   "metadata": {},
   "outputs": [
    {
     "data": {
      "text/html": [
       "<div>\n",
       "<style scoped>\n",
       "    .dataframe tbody tr th:only-of-type {\n",
       "        vertical-align: middle;\n",
       "    }\n",
       "\n",
       "    .dataframe tbody tr th {\n",
       "        vertical-align: top;\n",
       "    }\n",
       "\n",
       "    .dataframe thead th {\n",
       "        text-align: right;\n",
       "    }\n",
       "</style>\n",
       "<table border=\"1\" class=\"dataframe\">\n",
       "  <thead>\n",
       "    <tr style=\"text-align: right;\">\n",
       "      <th></th>\n",
       "      <th>Do Not Email</th>\n",
       "      <th>Converted</th>\n",
       "      <th>TotalVisits</th>\n",
       "      <th>Total Time Spent on Website</th>\n",
       "      <th>Page Views Per Visit</th>\n",
       "      <th>Lead Origin_Landing Page Submission</th>\n",
       "      <th>Lead Origin_Lead Add Form</th>\n",
       "      <th>Lead Origin_Lead Import</th>\n",
       "      <th>Lead Source_Facebook</th>\n",
       "      <th>Lead Source_Google</th>\n",
       "      <th>...</th>\n",
       "      <th>Last Notable Activity_Form Submitted on Website</th>\n",
       "      <th>Last Notable Activity_Had a Phone Conversation</th>\n",
       "      <th>Last Notable Activity_Modified</th>\n",
       "      <th>Last Notable Activity_Olark Chat Conversation</th>\n",
       "      <th>Last Notable Activity_Page Visited on Website</th>\n",
       "      <th>Last Notable Activity_Resubscribed to emails</th>\n",
       "      <th>Last Notable Activity_SMS Sent</th>\n",
       "      <th>Last Notable Activity_Unreachable</th>\n",
       "      <th>Last Notable Activity_Unsubscribed</th>\n",
       "      <th>Last Notable Activity_View in browser link Clicked</th>\n",
       "    </tr>\n",
       "  </thead>\n",
       "  <tbody>\n",
       "    <tr>\n",
       "      <th>0</th>\n",
       "      <td>0</td>\n",
       "      <td>0</td>\n",
       "      <td>0.0</td>\n",
       "      <td>0</td>\n",
       "      <td>0.0</td>\n",
       "      <td>0</td>\n",
       "      <td>0</td>\n",
       "      <td>0</td>\n",
       "      <td>0</td>\n",
       "      <td>0</td>\n",
       "      <td>...</td>\n",
       "      <td>0</td>\n",
       "      <td>0</td>\n",
       "      <td>1</td>\n",
       "      <td>0</td>\n",
       "      <td>0</td>\n",
       "      <td>0</td>\n",
       "      <td>0</td>\n",
       "      <td>0</td>\n",
       "      <td>0</td>\n",
       "      <td>0</td>\n",
       "    </tr>\n",
       "    <tr>\n",
       "      <th>1</th>\n",
       "      <td>0</td>\n",
       "      <td>0</td>\n",
       "      <td>5.0</td>\n",
       "      <td>674</td>\n",
       "      <td>2.5</td>\n",
       "      <td>0</td>\n",
       "      <td>0</td>\n",
       "      <td>0</td>\n",
       "      <td>0</td>\n",
       "      <td>0</td>\n",
       "      <td>...</td>\n",
       "      <td>0</td>\n",
       "      <td>0</td>\n",
       "      <td>0</td>\n",
       "      <td>0</td>\n",
       "      <td>0</td>\n",
       "      <td>0</td>\n",
       "      <td>0</td>\n",
       "      <td>0</td>\n",
       "      <td>0</td>\n",
       "      <td>0</td>\n",
       "    </tr>\n",
       "    <tr>\n",
       "      <th>2</th>\n",
       "      <td>0</td>\n",
       "      <td>1</td>\n",
       "      <td>2.0</td>\n",
       "      <td>1532</td>\n",
       "      <td>2.0</td>\n",
       "      <td>1</td>\n",
       "      <td>0</td>\n",
       "      <td>0</td>\n",
       "      <td>0</td>\n",
       "      <td>0</td>\n",
       "      <td>...</td>\n",
       "      <td>0</td>\n",
       "      <td>0</td>\n",
       "      <td>0</td>\n",
       "      <td>0</td>\n",
       "      <td>0</td>\n",
       "      <td>0</td>\n",
       "      <td>0</td>\n",
       "      <td>0</td>\n",
       "      <td>0</td>\n",
       "      <td>0</td>\n",
       "    </tr>\n",
       "    <tr>\n",
       "      <th>3</th>\n",
       "      <td>0</td>\n",
       "      <td>0</td>\n",
       "      <td>1.0</td>\n",
       "      <td>305</td>\n",
       "      <td>1.0</td>\n",
       "      <td>1</td>\n",
       "      <td>0</td>\n",
       "      <td>0</td>\n",
       "      <td>0</td>\n",
       "      <td>0</td>\n",
       "      <td>...</td>\n",
       "      <td>0</td>\n",
       "      <td>0</td>\n",
       "      <td>1</td>\n",
       "      <td>0</td>\n",
       "      <td>0</td>\n",
       "      <td>0</td>\n",
       "      <td>0</td>\n",
       "      <td>0</td>\n",
       "      <td>0</td>\n",
       "      <td>0</td>\n",
       "    </tr>\n",
       "    <tr>\n",
       "      <th>4</th>\n",
       "      <td>0</td>\n",
       "      <td>1</td>\n",
       "      <td>2.0</td>\n",
       "      <td>1428</td>\n",
       "      <td>1.0</td>\n",
       "      <td>1</td>\n",
       "      <td>0</td>\n",
       "      <td>0</td>\n",
       "      <td>0</td>\n",
       "      <td>1</td>\n",
       "      <td>...</td>\n",
       "      <td>0</td>\n",
       "      <td>0</td>\n",
       "      <td>1</td>\n",
       "      <td>0</td>\n",
       "      <td>0</td>\n",
       "      <td>0</td>\n",
       "      <td>0</td>\n",
       "      <td>0</td>\n",
       "      <td>0</td>\n",
       "      <td>0</td>\n",
       "    </tr>\n",
       "  </tbody>\n",
       "</table>\n",
       "<p>5 rows × 76 columns</p>\n",
       "</div>"
      ],
      "text/plain": [
       "   Do Not Email  Converted  TotalVisits  Total Time Spent on Website  \\\n",
       "0             0          0          0.0                            0   \n",
       "1             0          0          5.0                          674   \n",
       "2             0          1          2.0                         1532   \n",
       "3             0          0          1.0                          305   \n",
       "4             0          1          2.0                         1428   \n",
       "\n",
       "   Page Views Per Visit  Lead Origin_Landing Page Submission  \\\n",
       "0                   0.0                                    0   \n",
       "1                   2.5                                    0   \n",
       "2                   2.0                                    1   \n",
       "3                   1.0                                    1   \n",
       "4                   1.0                                    1   \n",
       "\n",
       "   Lead Origin_Lead Add Form  Lead Origin_Lead Import  Lead Source_Facebook  \\\n",
       "0                          0                        0                     0   \n",
       "1                          0                        0                     0   \n",
       "2                          0                        0                     0   \n",
       "3                          0                        0                     0   \n",
       "4                          0                        0                     0   \n",
       "\n",
       "   Lead Source_Google  ...  Last Notable Activity_Form Submitted on Website  \\\n",
       "0                   0  ...                                                0   \n",
       "1                   0  ...                                                0   \n",
       "2                   0  ...                                                0   \n",
       "3                   0  ...                                                0   \n",
       "4                   1  ...                                                0   \n",
       "\n",
       "   Last Notable Activity_Had a Phone Conversation  \\\n",
       "0                                               0   \n",
       "1                                               0   \n",
       "2                                               0   \n",
       "3                                               0   \n",
       "4                                               0   \n",
       "\n",
       "   Last Notable Activity_Modified  \\\n",
       "0                               1   \n",
       "1                               0   \n",
       "2                               0   \n",
       "3                               1   \n",
       "4                               1   \n",
       "\n",
       "   Last Notable Activity_Olark Chat Conversation  \\\n",
       "0                                              0   \n",
       "1                                              0   \n",
       "2                                              0   \n",
       "3                                              0   \n",
       "4                                              0   \n",
       "\n",
       "   Last Notable Activity_Page Visited on Website  \\\n",
       "0                                              0   \n",
       "1                                              0   \n",
       "2                                              0   \n",
       "3                                              0   \n",
       "4                                              0   \n",
       "\n",
       "   Last Notable Activity_Resubscribed to emails  \\\n",
       "0                                             0   \n",
       "1                                             0   \n",
       "2                                             0   \n",
       "3                                             0   \n",
       "4                                             0   \n",
       "\n",
       "   Last Notable Activity_SMS Sent  Last Notable Activity_Unreachable  \\\n",
       "0                               0                                  0   \n",
       "1                               0                                  0   \n",
       "2                               0                                  0   \n",
       "3                               0                                  0   \n",
       "4                               0                                  0   \n",
       "\n",
       "   Last Notable Activity_Unsubscribed  \\\n",
       "0                                   0   \n",
       "1                                   0   \n",
       "2                                   0   \n",
       "3                                   0   \n",
       "4                                   0   \n",
       "\n",
       "   Last Notable Activity_View in browser link Clicked  \n",
       "0                                                  0   \n",
       "1                                                  0   \n",
       "2                                                  0   \n",
       "3                                                  0   \n",
       "4                                                  0   \n",
       "\n",
       "[5 rows x 76 columns]"
      ]
     },
     "execution_count": 54,
     "metadata": {},
     "output_type": "execute_result"
    }
   ],
   "source": [
    "df3.head()"
   ]
  },
  {
   "cell_type": "markdown",
   "id": "049b44f6",
   "metadata": {},
   "source": [
    "## Test-Train Split "
   ]
  },
  {
   "cell_type": "code",
   "execution_count": 55,
   "id": "082a37e5",
   "metadata": {},
   "outputs": [],
   "source": [
    "# Importing required package\n",
    "from sklearn.model_selection import train_test_split"
   ]
  },
  {
   "cell_type": "code",
   "execution_count": 56,
   "id": "c738e441",
   "metadata": {},
   "outputs": [
    {
     "data": {
      "text/html": [
       "<div>\n",
       "<style scoped>\n",
       "    .dataframe tbody tr th:only-of-type {\n",
       "        vertical-align: middle;\n",
       "    }\n",
       "\n",
       "    .dataframe tbody tr th {\n",
       "        vertical-align: top;\n",
       "    }\n",
       "\n",
       "    .dataframe thead th {\n",
       "        text-align: right;\n",
       "    }\n",
       "</style>\n",
       "<table border=\"1\" class=\"dataframe\">\n",
       "  <thead>\n",
       "    <tr style=\"text-align: right;\">\n",
       "      <th></th>\n",
       "      <th>Do Not Email</th>\n",
       "      <th>TotalVisits</th>\n",
       "      <th>Total Time Spent on Website</th>\n",
       "      <th>Page Views Per Visit</th>\n",
       "      <th>Lead Origin_Landing Page Submission</th>\n",
       "      <th>Lead Origin_Lead Add Form</th>\n",
       "      <th>Lead Origin_Lead Import</th>\n",
       "      <th>Lead Source_Facebook</th>\n",
       "      <th>Lead Source_Google</th>\n",
       "      <th>Lead Source_Olark Chat</th>\n",
       "      <th>...</th>\n",
       "      <th>Last Notable Activity_Form Submitted on Website</th>\n",
       "      <th>Last Notable Activity_Had a Phone Conversation</th>\n",
       "      <th>Last Notable Activity_Modified</th>\n",
       "      <th>Last Notable Activity_Olark Chat Conversation</th>\n",
       "      <th>Last Notable Activity_Page Visited on Website</th>\n",
       "      <th>Last Notable Activity_Resubscribed to emails</th>\n",
       "      <th>Last Notable Activity_SMS Sent</th>\n",
       "      <th>Last Notable Activity_Unreachable</th>\n",
       "      <th>Last Notable Activity_Unsubscribed</th>\n",
       "      <th>Last Notable Activity_View in browser link Clicked</th>\n",
       "    </tr>\n",
       "  </thead>\n",
       "  <tbody>\n",
       "    <tr>\n",
       "      <th>0</th>\n",
       "      <td>0</td>\n",
       "      <td>0.0</td>\n",
       "      <td>0</td>\n",
       "      <td>0.0</td>\n",
       "      <td>0</td>\n",
       "      <td>0</td>\n",
       "      <td>0</td>\n",
       "      <td>0</td>\n",
       "      <td>0</td>\n",
       "      <td>1</td>\n",
       "      <td>...</td>\n",
       "      <td>0</td>\n",
       "      <td>0</td>\n",
       "      <td>1</td>\n",
       "      <td>0</td>\n",
       "      <td>0</td>\n",
       "      <td>0</td>\n",
       "      <td>0</td>\n",
       "      <td>0</td>\n",
       "      <td>0</td>\n",
       "      <td>0</td>\n",
       "    </tr>\n",
       "    <tr>\n",
       "      <th>1</th>\n",
       "      <td>0</td>\n",
       "      <td>5.0</td>\n",
       "      <td>674</td>\n",
       "      <td>2.5</td>\n",
       "      <td>0</td>\n",
       "      <td>0</td>\n",
       "      <td>0</td>\n",
       "      <td>0</td>\n",
       "      <td>0</td>\n",
       "      <td>0</td>\n",
       "      <td>...</td>\n",
       "      <td>0</td>\n",
       "      <td>0</td>\n",
       "      <td>0</td>\n",
       "      <td>0</td>\n",
       "      <td>0</td>\n",
       "      <td>0</td>\n",
       "      <td>0</td>\n",
       "      <td>0</td>\n",
       "      <td>0</td>\n",
       "      <td>0</td>\n",
       "    </tr>\n",
       "    <tr>\n",
       "      <th>2</th>\n",
       "      <td>0</td>\n",
       "      <td>2.0</td>\n",
       "      <td>1532</td>\n",
       "      <td>2.0</td>\n",
       "      <td>1</td>\n",
       "      <td>0</td>\n",
       "      <td>0</td>\n",
       "      <td>0</td>\n",
       "      <td>0</td>\n",
       "      <td>0</td>\n",
       "      <td>...</td>\n",
       "      <td>0</td>\n",
       "      <td>0</td>\n",
       "      <td>0</td>\n",
       "      <td>0</td>\n",
       "      <td>0</td>\n",
       "      <td>0</td>\n",
       "      <td>0</td>\n",
       "      <td>0</td>\n",
       "      <td>0</td>\n",
       "      <td>0</td>\n",
       "    </tr>\n",
       "    <tr>\n",
       "      <th>3</th>\n",
       "      <td>0</td>\n",
       "      <td>1.0</td>\n",
       "      <td>305</td>\n",
       "      <td>1.0</td>\n",
       "      <td>1</td>\n",
       "      <td>0</td>\n",
       "      <td>0</td>\n",
       "      <td>0</td>\n",
       "      <td>0</td>\n",
       "      <td>0</td>\n",
       "      <td>...</td>\n",
       "      <td>0</td>\n",
       "      <td>0</td>\n",
       "      <td>1</td>\n",
       "      <td>0</td>\n",
       "      <td>0</td>\n",
       "      <td>0</td>\n",
       "      <td>0</td>\n",
       "      <td>0</td>\n",
       "      <td>0</td>\n",
       "      <td>0</td>\n",
       "    </tr>\n",
       "    <tr>\n",
       "      <th>4</th>\n",
       "      <td>0</td>\n",
       "      <td>2.0</td>\n",
       "      <td>1428</td>\n",
       "      <td>1.0</td>\n",
       "      <td>1</td>\n",
       "      <td>0</td>\n",
       "      <td>0</td>\n",
       "      <td>0</td>\n",
       "      <td>1</td>\n",
       "      <td>0</td>\n",
       "      <td>...</td>\n",
       "      <td>0</td>\n",
       "      <td>0</td>\n",
       "      <td>1</td>\n",
       "      <td>0</td>\n",
       "      <td>0</td>\n",
       "      <td>0</td>\n",
       "      <td>0</td>\n",
       "      <td>0</td>\n",
       "      <td>0</td>\n",
       "      <td>0</td>\n",
       "    </tr>\n",
       "  </tbody>\n",
       "</table>\n",
       "<p>5 rows × 75 columns</p>\n",
       "</div>"
      ],
      "text/plain": [
       "   Do Not Email  TotalVisits  Total Time Spent on Website  \\\n",
       "0             0          0.0                            0   \n",
       "1             0          5.0                          674   \n",
       "2             0          2.0                         1532   \n",
       "3             0          1.0                          305   \n",
       "4             0          2.0                         1428   \n",
       "\n",
       "   Page Views Per Visit  Lead Origin_Landing Page Submission  \\\n",
       "0                   0.0                                    0   \n",
       "1                   2.5                                    0   \n",
       "2                   2.0                                    1   \n",
       "3                   1.0                                    1   \n",
       "4                   1.0                                    1   \n",
       "\n",
       "   Lead Origin_Lead Add Form  Lead Origin_Lead Import  Lead Source_Facebook  \\\n",
       "0                          0                        0                     0   \n",
       "1                          0                        0                     0   \n",
       "2                          0                        0                     0   \n",
       "3                          0                        0                     0   \n",
       "4                          0                        0                     0   \n",
       "\n",
       "   Lead Source_Google  Lead Source_Olark Chat  ...  \\\n",
       "0                   0                       1  ...   \n",
       "1                   0                       0  ...   \n",
       "2                   0                       0  ...   \n",
       "3                   0                       0  ...   \n",
       "4                   1                       0  ...   \n",
       "\n",
       "   Last Notable Activity_Form Submitted on Website  \\\n",
       "0                                                0   \n",
       "1                                                0   \n",
       "2                                                0   \n",
       "3                                                0   \n",
       "4                                                0   \n",
       "\n",
       "   Last Notable Activity_Had a Phone Conversation  \\\n",
       "0                                               0   \n",
       "1                                               0   \n",
       "2                                               0   \n",
       "3                                               0   \n",
       "4                                               0   \n",
       "\n",
       "   Last Notable Activity_Modified  \\\n",
       "0                               1   \n",
       "1                               0   \n",
       "2                               0   \n",
       "3                               1   \n",
       "4                               1   \n",
       "\n",
       "   Last Notable Activity_Olark Chat Conversation  \\\n",
       "0                                              0   \n",
       "1                                              0   \n",
       "2                                              0   \n",
       "3                                              0   \n",
       "4                                              0   \n",
       "\n",
       "   Last Notable Activity_Page Visited on Website  \\\n",
       "0                                              0   \n",
       "1                                              0   \n",
       "2                                              0   \n",
       "3                                              0   \n",
       "4                                              0   \n",
       "\n",
       "   Last Notable Activity_Resubscribed to emails  \\\n",
       "0                                             0   \n",
       "1                                             0   \n",
       "2                                             0   \n",
       "3                                             0   \n",
       "4                                             0   \n",
       "\n",
       "   Last Notable Activity_SMS Sent  Last Notable Activity_Unreachable  \\\n",
       "0                               0                                  0   \n",
       "1                               0                                  0   \n",
       "2                               0                                  0   \n",
       "3                               0                                  0   \n",
       "4                               0                                  0   \n",
       "\n",
       "   Last Notable Activity_Unsubscribed  \\\n",
       "0                                   0   \n",
       "1                                   0   \n",
       "2                                   0   \n",
       "3                                   0   \n",
       "4                                   0   \n",
       "\n",
       "   Last Notable Activity_View in browser link Clicked  \n",
       "0                                                  0   \n",
       "1                                                  0   \n",
       "2                                                  0   \n",
       "3                                                  0   \n",
       "4                                                  0   \n",
       "\n",
       "[5 rows x 75 columns]"
      ]
     },
     "execution_count": 56,
     "metadata": {},
     "output_type": "execute_result"
    }
   ],
   "source": [
    "# To put feature variable to X\n",
    "X = df3.drop(['Converted'],axis=1)\n",
    "\n",
    "X.head()"
   ]
  },
  {
   "cell_type": "code",
   "execution_count": 57,
   "id": "aadf9364",
   "metadata": {},
   "outputs": [
    {
     "data": {
      "text/plain": [
       "0    0\n",
       "1    0\n",
       "2    1\n",
       "3    0\n",
       "4    1\n",
       "Name: Converted, dtype: int64"
      ]
     },
     "execution_count": 57,
     "metadata": {},
     "output_type": "execute_result"
    }
   ],
   "source": [
    "# To put response variable to y\n",
    "y = df3['Converted']\n",
    "\n",
    "y.head()"
   ]
  },
  {
   "cell_type": "code",
   "execution_count": 58,
   "id": "31c869c6",
   "metadata": {},
   "outputs": [],
   "source": [
    "# To split the data into train and test\n",
    "X_train, X_test, y_train, y_test = train_test_split(X, y, train_size=0.7, test_size=0.3, random_state=100)"
   ]
  },
  {
   "cell_type": "markdown",
   "id": "d7649e62",
   "metadata": {},
   "source": [
    "## Feature Scaling"
   ]
  },
  {
   "cell_type": "code",
   "execution_count": 59,
   "id": "934a7dfa",
   "metadata": {},
   "outputs": [],
   "source": [
    "# Importing required package\n",
    "from sklearn.preprocessing import StandardScaler"
   ]
  },
  {
   "cell_type": "code",
   "execution_count": 60,
   "id": "5befabbf",
   "metadata": {},
   "outputs": [],
   "source": [
    "scaler = StandardScaler()"
   ]
  },
  {
   "cell_type": "code",
   "execution_count": 61,
   "id": "de172ede",
   "metadata": {},
   "outputs": [
    {
     "data": {
      "text/plain": [
       "['TotalVisits', 'Total Time Spent on Website', 'Page Views Per Visit']"
      ]
     },
     "execution_count": 61,
     "metadata": {},
     "output_type": "execute_result"
    }
   ],
   "source": [
    "# Numerical variables\n",
    "num_var"
   ]
  },
  {
   "cell_type": "code",
   "execution_count": 62,
   "id": "7b3dcc61",
   "metadata": {},
   "outputs": [
    {
     "data": {
      "text/html": [
       "<div>\n",
       "<style scoped>\n",
       "    .dataframe tbody tr th:only-of-type {\n",
       "        vertical-align: middle;\n",
       "    }\n",
       "\n",
       "    .dataframe tbody tr th {\n",
       "        vertical-align: top;\n",
       "    }\n",
       "\n",
       "    .dataframe thead th {\n",
       "        text-align: right;\n",
       "    }\n",
       "</style>\n",
       "<table border=\"1\" class=\"dataframe\">\n",
       "  <thead>\n",
       "    <tr style=\"text-align: right;\">\n",
       "      <th></th>\n",
       "      <th>Do Not Email</th>\n",
       "      <th>TotalVisits</th>\n",
       "      <th>Total Time Spent on Website</th>\n",
       "      <th>Page Views Per Visit</th>\n",
       "      <th>Lead Origin_Landing Page Submission</th>\n",
       "      <th>Lead Origin_Lead Add Form</th>\n",
       "      <th>Lead Origin_Lead Import</th>\n",
       "      <th>Lead Source_Facebook</th>\n",
       "      <th>Lead Source_Google</th>\n",
       "      <th>Lead Source_Olark Chat</th>\n",
       "      <th>...</th>\n",
       "      <th>Last Notable Activity_Form Submitted on Website</th>\n",
       "      <th>Last Notable Activity_Had a Phone Conversation</th>\n",
       "      <th>Last Notable Activity_Modified</th>\n",
       "      <th>Last Notable Activity_Olark Chat Conversation</th>\n",
       "      <th>Last Notable Activity_Page Visited on Website</th>\n",
       "      <th>Last Notable Activity_Resubscribed to emails</th>\n",
       "      <th>Last Notable Activity_SMS Sent</th>\n",
       "      <th>Last Notable Activity_Unreachable</th>\n",
       "      <th>Last Notable Activity_Unsubscribed</th>\n",
       "      <th>Last Notable Activity_View in browser link Clicked</th>\n",
       "    </tr>\n",
       "  </thead>\n",
       "  <tbody>\n",
       "    <tr>\n",
       "      <th>3009</th>\n",
       "      <td>0</td>\n",
       "      <td>-0.432779</td>\n",
       "      <td>-0.160255</td>\n",
       "      <td>-0.155018</td>\n",
       "      <td>1</td>\n",
       "      <td>0</td>\n",
       "      <td>0</td>\n",
       "      <td>0</td>\n",
       "      <td>0</td>\n",
       "      <td>0</td>\n",
       "      <td>...</td>\n",
       "      <td>0</td>\n",
       "      <td>0</td>\n",
       "      <td>0</td>\n",
       "      <td>0</td>\n",
       "      <td>0</td>\n",
       "      <td>0</td>\n",
       "      <td>0</td>\n",
       "      <td>0</td>\n",
       "      <td>0</td>\n",
       "      <td>0</td>\n",
       "    </tr>\n",
       "    <tr>\n",
       "      <th>1012</th>\n",
       "      <td>1</td>\n",
       "      <td>-0.432779</td>\n",
       "      <td>-0.540048</td>\n",
       "      <td>-0.155018</td>\n",
       "      <td>1</td>\n",
       "      <td>0</td>\n",
       "      <td>0</td>\n",
       "      <td>0</td>\n",
       "      <td>0</td>\n",
       "      <td>0</td>\n",
       "      <td>...</td>\n",
       "      <td>0</td>\n",
       "      <td>0</td>\n",
       "      <td>0</td>\n",
       "      <td>0</td>\n",
       "      <td>0</td>\n",
       "      <td>0</td>\n",
       "      <td>0</td>\n",
       "      <td>0</td>\n",
       "      <td>0</td>\n",
       "      <td>0</td>\n",
       "    </tr>\n",
       "    <tr>\n",
       "      <th>9226</th>\n",
       "      <td>0</td>\n",
       "      <td>-1.150329</td>\n",
       "      <td>-0.888650</td>\n",
       "      <td>-1.265540</td>\n",
       "      <td>0</td>\n",
       "      <td>0</td>\n",
       "      <td>0</td>\n",
       "      <td>0</td>\n",
       "      <td>0</td>\n",
       "      <td>1</td>\n",
       "      <td>...</td>\n",
       "      <td>0</td>\n",
       "      <td>0</td>\n",
       "      <td>1</td>\n",
       "      <td>0</td>\n",
       "      <td>0</td>\n",
       "      <td>0</td>\n",
       "      <td>0</td>\n",
       "      <td>0</td>\n",
       "      <td>0</td>\n",
       "      <td>0</td>\n",
       "    </tr>\n",
       "    <tr>\n",
       "      <th>4750</th>\n",
       "      <td>0</td>\n",
       "      <td>-0.432779</td>\n",
       "      <td>1.643304</td>\n",
       "      <td>-0.155018</td>\n",
       "      <td>1</td>\n",
       "      <td>0</td>\n",
       "      <td>0</td>\n",
       "      <td>0</td>\n",
       "      <td>0</td>\n",
       "      <td>0</td>\n",
       "      <td>...</td>\n",
       "      <td>0</td>\n",
       "      <td>0</td>\n",
       "      <td>0</td>\n",
       "      <td>0</td>\n",
       "      <td>0</td>\n",
       "      <td>0</td>\n",
       "      <td>1</td>\n",
       "      <td>0</td>\n",
       "      <td>0</td>\n",
       "      <td>0</td>\n",
       "    </tr>\n",
       "    <tr>\n",
       "      <th>7987</th>\n",
       "      <td>0</td>\n",
       "      <td>0.643547</td>\n",
       "      <td>2.017593</td>\n",
       "      <td>0.122613</td>\n",
       "      <td>1</td>\n",
       "      <td>0</td>\n",
       "      <td>0</td>\n",
       "      <td>0</td>\n",
       "      <td>0</td>\n",
       "      <td>0</td>\n",
       "      <td>...</td>\n",
       "      <td>0</td>\n",
       "      <td>0</td>\n",
       "      <td>1</td>\n",
       "      <td>0</td>\n",
       "      <td>0</td>\n",
       "      <td>0</td>\n",
       "      <td>0</td>\n",
       "      <td>0</td>\n",
       "      <td>0</td>\n",
       "      <td>0</td>\n",
       "    </tr>\n",
       "  </tbody>\n",
       "</table>\n",
       "<p>5 rows × 75 columns</p>\n",
       "</div>"
      ],
      "text/plain": [
       "      Do Not Email  TotalVisits  Total Time Spent on Website  \\\n",
       "3009             0    -0.432779                    -0.160255   \n",
       "1012             1    -0.432779                    -0.540048   \n",
       "9226             0    -1.150329                    -0.888650   \n",
       "4750             0    -0.432779                     1.643304   \n",
       "7987             0     0.643547                     2.017593   \n",
       "\n",
       "      Page Views Per Visit  Lead Origin_Landing Page Submission  \\\n",
       "3009             -0.155018                                    1   \n",
       "1012             -0.155018                                    1   \n",
       "9226             -1.265540                                    0   \n",
       "4750             -0.155018                                    1   \n",
       "7987              0.122613                                    1   \n",
       "\n",
       "      Lead Origin_Lead Add Form  Lead Origin_Lead Import  \\\n",
       "3009                          0                        0   \n",
       "1012                          0                        0   \n",
       "9226                          0                        0   \n",
       "4750                          0                        0   \n",
       "7987                          0                        0   \n",
       "\n",
       "      Lead Source_Facebook  Lead Source_Google  Lead Source_Olark Chat  ...  \\\n",
       "3009                     0                   0                       0  ...   \n",
       "1012                     0                   0                       0  ...   \n",
       "9226                     0                   0                       1  ...   \n",
       "4750                     0                   0                       0  ...   \n",
       "7987                     0                   0                       0  ...   \n",
       "\n",
       "      Last Notable Activity_Form Submitted on Website  \\\n",
       "3009                                                0   \n",
       "1012                                                0   \n",
       "9226                                                0   \n",
       "4750                                                0   \n",
       "7987                                                0   \n",
       "\n",
       "      Last Notable Activity_Had a Phone Conversation  \\\n",
       "3009                                               0   \n",
       "1012                                               0   \n",
       "9226                                               0   \n",
       "4750                                               0   \n",
       "7987                                               0   \n",
       "\n",
       "      Last Notable Activity_Modified  \\\n",
       "3009                               0   \n",
       "1012                               0   \n",
       "9226                               1   \n",
       "4750                               0   \n",
       "7987                               1   \n",
       "\n",
       "      Last Notable Activity_Olark Chat Conversation  \\\n",
       "3009                                              0   \n",
       "1012                                              0   \n",
       "9226                                              0   \n",
       "4750                                              0   \n",
       "7987                                              0   \n",
       "\n",
       "      Last Notable Activity_Page Visited on Website  \\\n",
       "3009                                              0   \n",
       "1012                                              0   \n",
       "9226                                              0   \n",
       "4750                                              0   \n",
       "7987                                              0   \n",
       "\n",
       "      Last Notable Activity_Resubscribed to emails  \\\n",
       "3009                                             0   \n",
       "1012                                             0   \n",
       "9226                                             0   \n",
       "4750                                             0   \n",
       "7987                                             0   \n",
       "\n",
       "      Last Notable Activity_SMS Sent  Last Notable Activity_Unreachable  \\\n",
       "3009                               0                                  0   \n",
       "1012                               0                                  0   \n",
       "9226                               0                                  0   \n",
       "4750                               1                                  0   \n",
       "7987                               0                                  0   \n",
       "\n",
       "      Last Notable Activity_Unsubscribed  \\\n",
       "3009                                   0   \n",
       "1012                                   0   \n",
       "9226                                   0   \n",
       "4750                                   0   \n",
       "7987                                   0   \n",
       "\n",
       "      Last Notable Activity_View in browser link Clicked  \n",
       "3009                                                  0   \n",
       "1012                                                  0   \n",
       "9226                                                  0   \n",
       "4750                                                  0   \n",
       "7987                                                  0   \n",
       "\n",
       "[5 rows x 75 columns]"
      ]
     },
     "execution_count": 62,
     "metadata": {},
     "output_type": "execute_result"
    }
   ],
   "source": [
    "#Applying scaler to all numerical columns\n",
    "X_train[num_var] = scaler.fit_transform(X_train[num_var])\n",
    "\n",
    "X_train.head()"
   ]
  },
  {
   "cell_type": "code",
   "execution_count": 63,
   "id": "2366e616",
   "metadata": {},
   "outputs": [
    {
     "data": {
      "text/plain": [
       "37.85541106458012"
      ]
     },
     "execution_count": 63,
     "metadata": {},
     "output_type": "execute_result"
    }
   ],
   "source": [
    "# To check the conversion rate\n",
    "conversion = (sum(df3['Converted'])/len(df3['Converted'].index))*100\n",
    "conversion"
   ]
  },
  {
   "cell_type": "markdown",
   "id": "536ecbad",
   "metadata": {},
   "source": [
    "We have 37.85% conversion rate"
   ]
  },
  {
   "cell_type": "markdown",
   "id": "95f3b4c2",
   "metadata": {},
   "source": [
    "- Building the Model\n",
    "<br>After the creation of dummy variables, we have a large number of features. It is better to use RFE first for feature elimination."
   ]
  },
  {
   "cell_type": "markdown",
   "id": "754834bc",
   "metadata": {},
   "source": [
    "### Feature Selection using RFE"
   ]
  },
  {
   "cell_type": "code",
   "execution_count": 64,
   "id": "9a34bceb",
   "metadata": {},
   "outputs": [],
   "source": [
    "# To create an instance of Logistic Regression\n",
    "from sklearn.linear_model import LogisticRegression\n",
    "logreg = LogisticRegression()"
   ]
  },
  {
   "cell_type": "code",
   "execution_count": 65,
   "id": "93a3443f",
   "metadata": {},
   "outputs": [],
   "source": [
    "from sklearn.feature_selection import RFE\n",
    "rfe = RFE(logreg, 15)             # running RFE with 15 variables as output\n",
    "rfe = rfe.fit(X_train, y_train)"
   ]
  },
  {
   "cell_type": "code",
   "execution_count": 66,
   "id": "41a34d8d",
   "metadata": {},
   "outputs": [
    {
     "data": {
      "text/plain": [
       "array([ True, False,  True, False, False,  True, False, False, False,\n",
       "        True, False, False, False, False,  True, False, False, False,\n",
       "       False, False, False, False, False,  True,  True, False, False,\n",
       "        True, False, False, False, False, False, False, False, False,\n",
       "       False, False, False, False, False, False, False, False, False,\n",
       "       False, False, False, False, False, False, False, False, False,\n",
       "        True, False,  True,  True,  True,  True, False, False, False,\n",
       "       False, False, False, False,  True, False, False, False, False,\n",
       "        True, False, False])"
      ]
     },
     "execution_count": 66,
     "metadata": {},
     "output_type": "execute_result"
    }
   ],
   "source": [
    "# To check output of RFE\n",
    "rfe.support_"
   ]
  },
  {
   "cell_type": "code",
   "execution_count": 67,
   "id": "fdfcb157",
   "metadata": {},
   "outputs": [
    {
     "data": {
      "text/plain": [
       "[('Do Not Email', True, 1),\n",
       " ('TotalVisits', False, 26),\n",
       " ('Total Time Spent on Website', True, 1),\n",
       " ('Page Views Per Visit', False, 24),\n",
       " ('Lead Origin_Landing Page Submission', False, 9),\n",
       " ('Lead Origin_Lead Add Form', True, 1),\n",
       " ('Lead Origin_Lead Import', False, 25),\n",
       " ('Lead Source_Facebook', False, 48),\n",
       " ('Lead Source_Google', False, 30),\n",
       " ('Lead Source_Olark Chat', True, 1),\n",
       " ('Lead Source_Organic Search', False, 57),\n",
       " ('Lead Source_Others', False, 18),\n",
       " ('Lead Source_Reference', False, 29),\n",
       " ('Lead Source_Referral Sites', False, 14),\n",
       " ('Lead Source_Welingak Website', True, 1),\n",
       " ('Lead Source_google', False, 42),\n",
       " ('Last Activity_Converted to Lead', False, 7),\n",
       " ('Last Activity_Email Bounced', False, 8),\n",
       " ('Last Activity_Email Link Clicked', False, 27),\n",
       " ('Last Activity_Email Marked Spam', False, 35),\n",
       " ('Last Activity_Email Opened', False, 54),\n",
       " ('Last Activity_Email Received', False, 53),\n",
       " ('Last Activity_Form Submitted on Website', False, 47),\n",
       " ('Last Activity_Had a Phone Conversation', True, 1),\n",
       " ('Last Activity_Olark Chat Conversation', True, 1),\n",
       " ('Last Activity_Page Visited on Website', False, 60),\n",
       " ('Last Activity_Resubscribed to emails', False, 10),\n",
       " ('Last Activity_SMS Sent', True, 1),\n",
       " ('Last Activity_Unreachable', False, 17),\n",
       " ('Last Activity_Unsubscribed', False, 39),\n",
       " ('Last Activity_View in browser link Clicked', False, 21),\n",
       " ('Last Activity_Visited Booth in Tradeshow', False, 45),\n",
       " ('Specialization_Business Administration', False, 46),\n",
       " ('Specialization_E-Business', False, 20),\n",
       " ('Specialization_E-COMMERCE', False, 19),\n",
       " ('Specialization_Finance Management', False, 52),\n",
       " ('Specialization_Healthcare Management', False, 44),\n",
       " ('Specialization_Hospitality Management', False, 23),\n",
       " ('Specialization_Human Resource Management', False, 49),\n",
       " ('Specialization_IT Projects Management', False, 40),\n",
       " ('Specialization_International Business', False, 34),\n",
       " ('Specialization_Marketing Management', False, 50),\n",
       " ('Specialization_Media and Advertising', False, 31),\n",
       " ('Specialization_Operations Management', False, 61),\n",
       " ('Specialization_Others', False, 22),\n",
       " ('Specialization_Retail Management', False, 33),\n",
       " ('Specialization_Rural and Agribusiness', False, 59),\n",
       " ('Specialization_Services Excellence', False, 16),\n",
       " ('Specialization_Supply Chain Management', False, 55),\n",
       " ('Specialization_Travel and Tourism', False, 32),\n",
       " ('What is your current occupation_Housewife', False, 2),\n",
       " ('What is your current occupation_Other', False, 56),\n",
       " ('What is your current occupation_Student', False, 28),\n",
       " ('What is your current occupation_Unemployed', False, 13),\n",
       " ('What is your current occupation_Working Professional', True, 1),\n",
       " ('What is your current occupation_not provided', False, 12),\n",
       " ('Lead Quality_Low in Relevance', True, 1),\n",
       " ('Lead Quality_Might be', True, 1),\n",
       " ('Lead Quality_Not Sure', True, 1),\n",
       " ('Lead Quality_Worst', True, 1),\n",
       " ('Last Notable Activity_Email Bounced', False, 43),\n",
       " ('Last Notable Activity_Email Link Clicked', False, 4),\n",
       " ('Last Notable Activity_Email Marked Spam', False, 37),\n",
       " ('Last Notable Activity_Email Opened', False, 6),\n",
       " ('Last Notable Activity_Email Received', False, 58),\n",
       " ('Last Notable Activity_Form Submitted on Website', False, 51),\n",
       " ('Last Notable Activity_Had a Phone Conversation', False, 11),\n",
       " ('Last Notable Activity_Modified', True, 1),\n",
       " ('Last Notable Activity_Olark Chat Conversation', False, 3),\n",
       " ('Last Notable Activity_Page Visited on Website', False, 5),\n",
       " ('Last Notable Activity_Resubscribed to emails', False, 15),\n",
       " ('Last Notable Activity_SMS Sent', False, 38),\n",
       " ('Last Notable Activity_Unreachable', True, 1),\n",
       " ('Last Notable Activity_Unsubscribed', False, 36),\n",
       " ('Last Notable Activity_View in browser link Clicked', False, 41)]"
      ]
     },
     "execution_count": 67,
     "metadata": {},
     "output_type": "execute_result"
    }
   ],
   "source": [
    "list(zip(X_train.columns, rfe.support_, rfe.ranking_))"
   ]
  },
  {
   "cell_type": "code",
   "execution_count": 68,
   "id": "7e45ed0b",
   "metadata": {},
   "outputs": [
    {
     "data": {
      "text/plain": [
       "Index(['Do Not Email', 'Total Time Spent on Website',\n",
       "       'Lead Origin_Lead Add Form', 'Lead Source_Olark Chat',\n",
       "       'Lead Source_Welingak Website',\n",
       "       'Last Activity_Had a Phone Conversation',\n",
       "       'Last Activity_Olark Chat Conversation', 'Last Activity_SMS Sent',\n",
       "       'What is your current occupation_Working Professional',\n",
       "       'Lead Quality_Low in Relevance', 'Lead Quality_Might be',\n",
       "       'Lead Quality_Not Sure', 'Lead Quality_Worst',\n",
       "       'Last Notable Activity_Modified', 'Last Notable Activity_Unreachable'],\n",
       "      dtype='object')"
      ]
     },
     "execution_count": 68,
     "metadata": {},
     "output_type": "execute_result"
    }
   ],
   "source": [
    "# Features selected\n",
    "col = X_train.columns[rfe.support_]\n",
    "col"
   ]
  },
  {
   "cell_type": "code",
   "execution_count": 69,
   "id": "62ce7a6f",
   "metadata": {},
   "outputs": [],
   "source": [
    "import statsmodels.api as sm\n",
    "\n",
    "# Function for building the model\n",
    "def build_model(X,y):\n",
    "    X_sm = sm.add_constant(X)    # To add a constant\n",
    "    logm = sm.GLM(y, X_sm, family = sm.families.Binomial()).fit()    # To fit the model\n",
    "    print(logm.summary())    # Summary of the model  \n",
    "    return X_sm, logm"
   ]
  },
  {
   "cell_type": "code",
   "execution_count": 70,
   "id": "8c8ab803",
   "metadata": {},
   "outputs": [],
   "source": [
    "from statsmodels.stats.outliers_influence import variance_inflation_factor\n",
    "\n",
    "# Function to calculate Variance Inflation Factor (VIF)\n",
    "def check_VIF(X_in):\n",
    "    X = X_in.drop('const',1)    # As we don't need constant\n",
    "    vif = pd.DataFrame()\n",
    "    vif['Features'] = X.columns\n",
    "    vif['VIF'] = [variance_inflation_factor(X.values, i) for i in range(X.shape[1])]\n",
    "    vif['VIF'] = round(vif['VIF'], 2)\n",
    "    return vif.sort_values(by = \"VIF\", ascending = False)"
   ]
  },
  {
   "cell_type": "code",
   "execution_count": 71,
   "id": "0bd61eed",
   "metadata": {},
   "outputs": [],
   "source": [
    "# Function to get predicted values on train set\n",
    "\n",
    "def get_pred(X,logm):\n",
    "    y_train_pred = logm.predict(X)\n",
    "    y_train_pred = y_train_pred.values.reshape(-1)\n",
    "    # To create a dataframe to store original and predicted values\n",
    "    y_train_pred_final = pd.DataFrame({'Converted':y_train.values, 'Converted_prob':y_train_pred})\n",
    "    y_train_pred_final['Lead ID'] = y_train.index\n",
    "    # Using default threshold of 0.5 for now\n",
    "    y_train_pred_final['predicted'] = y_train_pred_final.Converted_prob.map(lambda x: 1 if x > 0.5 else 0)\n",
    "    return y_train_pred_final"
   ]
  },
  {
   "cell_type": "code",
   "execution_count": 72,
   "id": "876c94a2",
   "metadata": {},
   "outputs": [],
   "source": [
    "from sklearn import metrics\n",
    "\n",
    "# Function to get confusion matrix and accuracy\n",
    "def conf_mat(Converted,predicted):\n",
    "    confusion = metrics.confusion_matrix(Converted, predicted )\n",
    "    print(\"Confusion Matrix:\")\n",
    "    print(confusion)\n",
    "    print(\"Training Accuracy: \", metrics.accuracy_score(Converted, predicted))\n",
    "    return confusion"
   ]
  },
  {
   "cell_type": "code",
   "execution_count": 73,
   "id": "03004763",
   "metadata": {},
   "outputs": [],
   "source": [
    "# Function for calculating metric beyond accuracy\n",
    "def other_metrics(confusion):\n",
    "    TP = confusion[1,1]    # True positives \n",
    "    TN = confusion[0,0]    # True negatives\n",
    "    FP = confusion[0,1]    # False positives\n",
    "    FN = confusion[1,0]    # False negatives\n",
    "    print(\"Sensitivity: \", TP / float(TP+FN))\n",
    "    print(\"Specificity: \", TN / float(TN+FP))\n",
    "    print(\"False postive rate - predicting the lead conversion when the lead does not convert: \", FP/ float(TN+FP))\n",
    "    print(\"Positive predictive value: \", TP / float(TP+FP))\n",
    "    print(\"Negative predictive value: \", TN / float(TN+FN))"
   ]
  },
  {
   "cell_type": "markdown",
   "id": "e74d1820",
   "metadata": {},
   "source": [
    "Model 1:"
   ]
  },
  {
   "cell_type": "code",
   "execution_count": 74,
   "id": "d7f90298",
   "metadata": {},
   "outputs": [
    {
     "name": "stdout",
     "output_type": "stream",
     "text": [
      "                 Generalized Linear Model Regression Results                  \n",
      "==============================================================================\n",
      "Dep. Variable:              Converted   No. Observations:                 6351\n",
      "Model:                            GLM   Df Residuals:                     6335\n",
      "Model Family:                Binomial   Df Model:                           15\n",
      "Link Function:                  logit   Scale:                          1.0000\n",
      "Method:                          IRLS   Log-Likelihood:                -2131.3\n",
      "Date:                Tue, 18 Oct 2022   Deviance:                       4262.7\n",
      "Time:                        18:03:03   Pearson chi2:                 6.23e+03\n",
      "No. Iterations:                     7                                         \n",
      "Covariance Type:            nonrobust                                         \n",
      "========================================================================================================================\n",
      "                                                           coef    std err          z      P>|z|      [0.025      0.975]\n",
      "------------------------------------------------------------------------------------------------------------------------\n",
      "const                                                    2.1934      0.244      8.988      0.000       1.715       2.672\n",
      "Do Not Email                                            -1.3909      0.194     -7.176      0.000      -1.771      -1.011\n",
      "Total Time Spent on Website                              1.1012      0.045     24.314      0.000       1.012       1.190\n",
      "Lead Origin_Lead Add Form                                2.6439      0.247     10.720      0.000       2.160       3.127\n",
      "Lead Source_Olark Chat                                   1.5673      0.119     13.181      0.000       1.334       1.800\n",
      "Lead Source_Welingak Website                             3.7249      0.761      4.894      0.000       2.233       5.217\n",
      "Last Activity_Had a Phone Conversation                   1.9189      0.916      2.096      0.036       0.125       3.713\n",
      "Last Activity_Olark Chat Conversation                   -0.8322      0.184     -4.516      0.000      -1.193      -0.471\n",
      "Last Activity_SMS Sent                                   1.2662      0.085     14.928      0.000       1.100       1.432\n",
      "What is your current occupation_Working Professional     1.8245      0.220      8.285      0.000       1.393       2.256\n",
      "Lead Quality_Low in Relevance                           -1.3342      0.285     -4.681      0.000      -1.893      -0.776\n",
      "Lead Quality_Might be                                   -2.3216      0.258     -9.007      0.000      -2.827      -1.816\n",
      "Lead Quality_Not Sure                                   -4.0680      0.247    -16.462      0.000      -4.552      -3.584\n",
      "Lead Quality_Worst                                      -6.2039      0.446    -13.906      0.000      -7.078      -5.329\n",
      "Last Notable Activity_Modified                          -0.8710      0.092     -9.498      0.000      -1.051      -0.691\n",
      "Last Notable Activity_Unreachable                        1.4479      0.552      2.622      0.009       0.366       2.530\n",
      "========================================================================================================================\n"
     ]
    }
   ],
   "source": [
    "X1, logm1 = build_model(X_train[col],y_train)"
   ]
  },
  {
   "cell_type": "markdown",
   "id": "1411db29",
   "metadata": {},
   "source": [
    "We also have to check VIFs (Variance Inflation Factors) of features to see if there's any multicollinearity present."
   ]
  },
  {
   "cell_type": "markdown",
   "id": "3ae98022",
   "metadata": {},
   "source": [
    "Model 2:"
   ]
  },
  {
   "cell_type": "code",
   "execution_count": 75,
   "id": "747a139e",
   "metadata": {},
   "outputs": [
    {
     "data": {
      "text/html": [
       "<div>\n",
       "<style scoped>\n",
       "    .dataframe tbody tr th:only-of-type {\n",
       "        vertical-align: middle;\n",
       "    }\n",
       "\n",
       "    .dataframe tbody tr th {\n",
       "        vertical-align: top;\n",
       "    }\n",
       "\n",
       "    .dataframe thead th {\n",
       "        text-align: right;\n",
       "    }\n",
       "</style>\n",
       "<table border=\"1\" class=\"dataframe\">\n",
       "  <thead>\n",
       "    <tr style=\"text-align: right;\">\n",
       "      <th></th>\n",
       "      <th>Features</th>\n",
       "      <th>VIF</th>\n",
       "    </tr>\n",
       "  </thead>\n",
       "  <tbody>\n",
       "    <tr>\n",
       "      <th>11</th>\n",
       "      <td>Lead Quality_Not Sure</td>\n",
       "      <td>2.09</td>\n",
       "    </tr>\n",
       "    <tr>\n",
       "      <th>13</th>\n",
       "      <td>Last Notable Activity_Modified</td>\n",
       "      <td>1.82</td>\n",
       "    </tr>\n",
       "    <tr>\n",
       "      <th>7</th>\n",
       "      <td>Last Activity_SMS Sent</td>\n",
       "      <td>1.74</td>\n",
       "    </tr>\n",
       "    <tr>\n",
       "      <th>3</th>\n",
       "      <td>Lead Source_Olark Chat</td>\n",
       "      <td>1.72</td>\n",
       "    </tr>\n",
       "    <tr>\n",
       "      <th>10</th>\n",
       "      <td>Lead Quality_Might be</td>\n",
       "      <td>1.70</td>\n",
       "    </tr>\n",
       "    <tr>\n",
       "      <th>2</th>\n",
       "      <td>Lead Origin_Lead Add Form</td>\n",
       "      <td>1.61</td>\n",
       "    </tr>\n",
       "    <tr>\n",
       "      <th>6</th>\n",
       "      <td>Last Activity_Olark Chat Conversation</td>\n",
       "      <td>1.56</td>\n",
       "    </tr>\n",
       "    <tr>\n",
       "      <th>4</th>\n",
       "      <td>Lead Source_Welingak Website</td>\n",
       "      <td>1.36</td>\n",
       "    </tr>\n",
       "    <tr>\n",
       "      <th>8</th>\n",
       "      <td>What is your current occupation_Working Profes...</td>\n",
       "      <td>1.35</td>\n",
       "    </tr>\n",
       "    <tr>\n",
       "      <th>1</th>\n",
       "      <td>Total Time Spent on Website</td>\n",
       "      <td>1.32</td>\n",
       "    </tr>\n",
       "    <tr>\n",
       "      <th>0</th>\n",
       "      <td>Do Not Email</td>\n",
       "      <td>1.13</td>\n",
       "    </tr>\n",
       "    <tr>\n",
       "      <th>9</th>\n",
       "      <td>Lead Quality_Low in Relevance</td>\n",
       "      <td>1.13</td>\n",
       "    </tr>\n",
       "    <tr>\n",
       "      <th>12</th>\n",
       "      <td>Lead Quality_Worst</td>\n",
       "      <td>1.13</td>\n",
       "    </tr>\n",
       "    <tr>\n",
       "      <th>5</th>\n",
       "      <td>Last Activity_Had a Phone Conversation</td>\n",
       "      <td>1.01</td>\n",
       "    </tr>\n",
       "    <tr>\n",
       "      <th>14</th>\n",
       "      <td>Last Notable Activity_Unreachable</td>\n",
       "      <td>1.01</td>\n",
       "    </tr>\n",
       "  </tbody>\n",
       "</table>\n",
       "</div>"
      ],
      "text/plain": [
       "                                             Features   VIF\n",
       "11                              Lead Quality_Not Sure  2.09\n",
       "13                     Last Notable Activity_Modified  1.82\n",
       "7                              Last Activity_SMS Sent  1.74\n",
       "3                              Lead Source_Olark Chat  1.72\n",
       "10                              Lead Quality_Might be  1.70\n",
       "2                           Lead Origin_Lead Add Form  1.61\n",
       "6               Last Activity_Olark Chat Conversation  1.56\n",
       "4                        Lead Source_Welingak Website  1.36\n",
       "8   What is your current occupation_Working Profes...  1.35\n",
       "1                         Total Time Spent on Website  1.32\n",
       "0                                        Do Not Email  1.13\n",
       "9                       Lead Quality_Low in Relevance  1.13\n",
       "12                                 Lead Quality_Worst  1.13\n",
       "5              Last Activity_Had a Phone Conversation  1.01\n",
       "14                  Last Notable Activity_Unreachable  1.01"
      ]
     },
     "execution_count": 75,
     "metadata": {},
     "output_type": "execute_result"
    }
   ],
   "source": [
    "# checking VIF for model-1\n",
    "check_VIF(X1)"
   ]
  },
  {
   "cell_type": "markdown",
   "id": "54c5d65f",
   "metadata": {},
   "source": [
    "Model 2:"
   ]
  },
  {
   "cell_type": "code",
   "execution_count": 76,
   "id": "d32bc12e",
   "metadata": {},
   "outputs": [
    {
     "name": "stdout",
     "output_type": "stream",
     "text": [
      "                 Generalized Linear Model Regression Results                  \n",
      "==============================================================================\n",
      "Dep. Variable:              Converted   No. Observations:                 6351\n",
      "Model:                            GLM   Df Residuals:                     6336\n",
      "Model Family:                Binomial   Df Model:                           14\n",
      "Link Function:                  logit   Scale:                          1.0000\n",
      "Method:                          IRLS   Log-Likelihood:                -2134.0\n",
      "Date:                Tue, 18 Oct 2022   Deviance:                       4268.1\n",
      "Time:                        18:03:03   Pearson chi2:                 6.23e+03\n",
      "No. Iterations:                     7                                         \n",
      "Covariance Type:            nonrobust                                         \n",
      "========================================================================================================================\n",
      "                                                           coef    std err          z      P>|z|      [0.025      0.975]\n",
      "------------------------------------------------------------------------------------------------------------------------\n",
      "const                                                    2.2309      0.244      9.156      0.000       1.753       2.708\n",
      "Do Not Email                                            -1.3940      0.194     -7.187      0.000      -1.774      -1.014\n",
      "Total Time Spent on Website                              1.1008      0.045     24.335      0.000       1.012       1.189\n",
      "Lead Origin_Lead Add Form                                2.6349      0.247     10.677      0.000       2.151       3.119\n",
      "Lead Source_Olark Chat                                   1.5627      0.119     13.151      0.000       1.330       1.796\n",
      "Lead Source_Welingak Website                             3.7307      0.761      4.901      0.000       2.239       5.223\n",
      "Last Activity_Olark Chat Conversation                   -0.8389      0.184     -4.552      0.000      -1.200      -0.478\n",
      "Last Activity_SMS Sent                                   1.2562      0.085     14.835      0.000       1.090       1.422\n",
      "What is your current occupation_Working Professional     1.8190      0.220      8.264      0.000       1.388       2.250\n",
      "Lead Quality_Low in Relevance                           -1.3690      0.285     -4.806      0.000      -1.927      -0.811\n",
      "Lead Quality_Might be                                   -2.3373      0.258     -9.075      0.000      -2.842      -1.833\n",
      "Lead Quality_Not Sure                                   -4.0983      0.247    -16.592      0.000      -4.582      -3.614\n",
      "Lead Quality_Worst                                      -6.2380      0.446    -13.985      0.000      -7.112      -5.364\n",
      "Last Notable Activity_Modified                          -0.8704      0.092     -9.501      0.000      -1.050      -0.691\n",
      "Last Notable Activity_Unreachable                        1.4384      0.553      2.603      0.009       0.355       2.522\n",
      "========================================================================================================================\n"
     ]
    }
   ],
   "source": [
    "# dropping the 'Last Activity_Had a Phone Conversation' as p value is presented and VIF for model-1 are within the limit.\n",
    "col1 = col.drop('Last Activity_Had a Phone Conversation',1)\n",
    "\n",
    "# To rebuild the model\n",
    "X2, logm2 = build_model(X_train[col1],y_train)"
   ]
  },
  {
   "cell_type": "code",
   "execution_count": 77,
   "id": "f45d2e7d",
   "metadata": {},
   "outputs": [
    {
     "data": {
      "text/html": [
       "<div>\n",
       "<style scoped>\n",
       "    .dataframe tbody tr th:only-of-type {\n",
       "        vertical-align: middle;\n",
       "    }\n",
       "\n",
       "    .dataframe tbody tr th {\n",
       "        vertical-align: top;\n",
       "    }\n",
       "\n",
       "    .dataframe thead th {\n",
       "        text-align: right;\n",
       "    }\n",
       "</style>\n",
       "<table border=\"1\" class=\"dataframe\">\n",
       "  <thead>\n",
       "    <tr style=\"text-align: right;\">\n",
       "      <th></th>\n",
       "      <th>Features</th>\n",
       "      <th>VIF</th>\n",
       "    </tr>\n",
       "  </thead>\n",
       "  <tbody>\n",
       "    <tr>\n",
       "      <th>10</th>\n",
       "      <td>Lead Quality_Not Sure</td>\n",
       "      <td>2.09</td>\n",
       "    </tr>\n",
       "    <tr>\n",
       "      <th>12</th>\n",
       "      <td>Last Notable Activity_Modified</td>\n",
       "      <td>1.82</td>\n",
       "    </tr>\n",
       "    <tr>\n",
       "      <th>6</th>\n",
       "      <td>Last Activity_SMS Sent</td>\n",
       "      <td>1.73</td>\n",
       "    </tr>\n",
       "    <tr>\n",
       "      <th>3</th>\n",
       "      <td>Lead Source_Olark Chat</td>\n",
       "      <td>1.72</td>\n",
       "    </tr>\n",
       "    <tr>\n",
       "      <th>9</th>\n",
       "      <td>Lead Quality_Might be</td>\n",
       "      <td>1.69</td>\n",
       "    </tr>\n",
       "    <tr>\n",
       "      <th>2</th>\n",
       "      <td>Lead Origin_Lead Add Form</td>\n",
       "      <td>1.61</td>\n",
       "    </tr>\n",
       "    <tr>\n",
       "      <th>5</th>\n",
       "      <td>Last Activity_Olark Chat Conversation</td>\n",
       "      <td>1.56</td>\n",
       "    </tr>\n",
       "    <tr>\n",
       "      <th>4</th>\n",
       "      <td>Lead Source_Welingak Website</td>\n",
       "      <td>1.36</td>\n",
       "    </tr>\n",
       "    <tr>\n",
       "      <th>7</th>\n",
       "      <td>What is your current occupation_Working Profes...</td>\n",
       "      <td>1.35</td>\n",
       "    </tr>\n",
       "    <tr>\n",
       "      <th>1</th>\n",
       "      <td>Total Time Spent on Website</td>\n",
       "      <td>1.31</td>\n",
       "    </tr>\n",
       "    <tr>\n",
       "      <th>0</th>\n",
       "      <td>Do Not Email</td>\n",
       "      <td>1.13</td>\n",
       "    </tr>\n",
       "    <tr>\n",
       "      <th>8</th>\n",
       "      <td>Lead Quality_Low in Relevance</td>\n",
       "      <td>1.13</td>\n",
       "    </tr>\n",
       "    <tr>\n",
       "      <th>11</th>\n",
       "      <td>Lead Quality_Worst</td>\n",
       "      <td>1.13</td>\n",
       "    </tr>\n",
       "    <tr>\n",
       "      <th>13</th>\n",
       "      <td>Last Notable Activity_Unreachable</td>\n",
       "      <td>1.01</td>\n",
       "    </tr>\n",
       "  </tbody>\n",
       "</table>\n",
       "</div>"
      ],
      "text/plain": [
       "                                             Features   VIF\n",
       "10                              Lead Quality_Not Sure  2.09\n",
       "12                     Last Notable Activity_Modified  1.82\n",
       "6                              Last Activity_SMS Sent  1.73\n",
       "3                              Lead Source_Olark Chat  1.72\n",
       "9                               Lead Quality_Might be  1.69\n",
       "2                           Lead Origin_Lead Add Form  1.61\n",
       "5               Last Activity_Olark Chat Conversation  1.56\n",
       "4                        Lead Source_Welingak Website  1.36\n",
       "7   What is your current occupation_Working Profes...  1.35\n",
       "1                         Total Time Spent on Website  1.31\n",
       "0                                        Do Not Email  1.13\n",
       "8                       Lead Quality_Low in Relevance  1.13\n",
       "11                                 Lead Quality_Worst  1.13\n",
       "13                  Last Notable Activity_Unreachable  1.01"
      ]
     },
     "execution_count": 77,
     "metadata": {},
     "output_type": "execute_result"
    }
   ],
   "source": [
    "# checking VIF for model-2\n",
    "check_VIF(X2)"
   ]
  },
  {
   "cell_type": "markdown",
   "id": "27c08988",
   "metadata": {},
   "source": [
    "Model 3:"
   ]
  },
  {
   "cell_type": "code",
   "execution_count": 78,
   "id": "e6d02989",
   "metadata": {},
   "outputs": [
    {
     "name": "stdout",
     "output_type": "stream",
     "text": [
      "                 Generalized Linear Model Regression Results                  \n",
      "==============================================================================\n",
      "Dep. Variable:              Converted   No. Observations:                 6351\n",
      "Model:                            GLM   Df Residuals:                     6337\n",
      "Model Family:                Binomial   Df Model:                           13\n",
      "Link Function:                  logit   Scale:                          1.0000\n",
      "Method:                          IRLS   Log-Likelihood:                -2137.3\n",
      "Date:                Tue, 18 Oct 2022   Deviance:                       4274.7\n",
      "Time:                        18:03:03   Pearson chi2:                 6.23e+03\n",
      "No. Iterations:                     7                                         \n",
      "Covariance Type:            nonrobust                                         \n",
      "========================================================================================================================\n",
      "                                                           coef    std err          z      P>|z|      [0.025      0.975]\n",
      "------------------------------------------------------------------------------------------------------------------------\n",
      "const                                                    2.2562      0.243      9.276      0.000       1.779       2.733\n",
      "Do Not Email                                            -1.3973      0.194     -7.204      0.000      -1.777      -1.017\n",
      "Total Time Spent on Website                              1.0972      0.045     24.299      0.000       1.009       1.186\n",
      "Lead Origin_Lead Add Form                                2.6240      0.247     10.635      0.000       2.140       3.108\n",
      "Lead Source_Olark Chat                                   1.5551      0.119     13.106      0.000       1.323       1.788\n",
      "Lead Source_Welingak Website                             3.7303      0.761      4.900      0.000       2.238       5.222\n",
      "Last Activity_Olark Chat Conversation                   -0.8453      0.184     -4.589      0.000      -1.206      -0.484\n",
      "Last Activity_SMS Sent                                   1.2423      0.084     14.717      0.000       1.077       1.408\n",
      "What is your current occupation_Working Professional     1.8279      0.220      8.315      0.000       1.397       2.259\n",
      "Lead Quality_Low in Relevance                           -1.3835      0.285     -4.862      0.000      -1.941      -0.826\n",
      "Lead Quality_Might be                                   -2.3439      0.257     -9.111      0.000      -2.848      -1.840\n",
      "Lead Quality_Not Sure                                   -4.1061      0.247    -16.642      0.000      -4.590      -3.623\n",
      "Lead Quality_Worst                                      -6.2546      0.446    -14.028      0.000      -7.129      -5.381\n",
      "Last Notable Activity_Modified                          -0.8800      0.091     -9.622      0.000      -1.059      -0.701\n",
      "========================================================================================================================\n"
     ]
    }
   ],
   "source": [
    "# dropping the 'Last Notable Activity_Unreachable' as p value is presented and VIF for model-2 are within the limit.\n",
    "col2 = col1.drop('Last Notable Activity_Unreachable',1)\n",
    "\n",
    "# To rebuild the model\n",
    "X3, logm3 = build_model(X_train[col2],y_train)"
   ]
  },
  {
   "cell_type": "markdown",
   "id": "243aba3b",
   "metadata": {},
   "source": [
    "All of the features have p-value zero i.e. they all seem significant."
   ]
  },
  {
   "cell_type": "code",
   "execution_count": 79,
   "id": "94dc675d",
   "metadata": {},
   "outputs": [
    {
     "data": {
      "text/html": [
       "<div>\n",
       "<style scoped>\n",
       "    .dataframe tbody tr th:only-of-type {\n",
       "        vertical-align: middle;\n",
       "    }\n",
       "\n",
       "    .dataframe tbody tr th {\n",
       "        vertical-align: top;\n",
       "    }\n",
       "\n",
       "    .dataframe thead th {\n",
       "        text-align: right;\n",
       "    }\n",
       "</style>\n",
       "<table border=\"1\" class=\"dataframe\">\n",
       "  <thead>\n",
       "    <tr style=\"text-align: right;\">\n",
       "      <th></th>\n",
       "      <th>Features</th>\n",
       "      <th>VIF</th>\n",
       "    </tr>\n",
       "  </thead>\n",
       "  <tbody>\n",
       "    <tr>\n",
       "      <th>10</th>\n",
       "      <td>Lead Quality_Not Sure</td>\n",
       "      <td>2.08</td>\n",
       "    </tr>\n",
       "    <tr>\n",
       "      <th>12</th>\n",
       "      <td>Last Notable Activity_Modified</td>\n",
       "      <td>1.82</td>\n",
       "    </tr>\n",
       "    <tr>\n",
       "      <th>6</th>\n",
       "      <td>Last Activity_SMS Sent</td>\n",
       "      <td>1.73</td>\n",
       "    </tr>\n",
       "    <tr>\n",
       "      <th>3</th>\n",
       "      <td>Lead Source_Olark Chat</td>\n",
       "      <td>1.72</td>\n",
       "    </tr>\n",
       "    <tr>\n",
       "      <th>9</th>\n",
       "      <td>Lead Quality_Might be</td>\n",
       "      <td>1.69</td>\n",
       "    </tr>\n",
       "    <tr>\n",
       "      <th>2</th>\n",
       "      <td>Lead Origin_Lead Add Form</td>\n",
       "      <td>1.61</td>\n",
       "    </tr>\n",
       "    <tr>\n",
       "      <th>5</th>\n",
       "      <td>Last Activity_Olark Chat Conversation</td>\n",
       "      <td>1.56</td>\n",
       "    </tr>\n",
       "    <tr>\n",
       "      <th>4</th>\n",
       "      <td>Lead Source_Welingak Website</td>\n",
       "      <td>1.36</td>\n",
       "    </tr>\n",
       "    <tr>\n",
       "      <th>7</th>\n",
       "      <td>What is your current occupation_Working Profes...</td>\n",
       "      <td>1.35</td>\n",
       "    </tr>\n",
       "    <tr>\n",
       "      <th>1</th>\n",
       "      <td>Total Time Spent on Website</td>\n",
       "      <td>1.31</td>\n",
       "    </tr>\n",
       "    <tr>\n",
       "      <th>0</th>\n",
       "      <td>Do Not Email</td>\n",
       "      <td>1.13</td>\n",
       "    </tr>\n",
       "    <tr>\n",
       "      <th>8</th>\n",
       "      <td>Lead Quality_Low in Relevance</td>\n",
       "      <td>1.13</td>\n",
       "    </tr>\n",
       "    <tr>\n",
       "      <th>11</th>\n",
       "      <td>Lead Quality_Worst</td>\n",
       "      <td>1.13</td>\n",
       "    </tr>\n",
       "  </tbody>\n",
       "</table>\n",
       "</div>"
      ],
      "text/plain": [
       "                                             Features   VIF\n",
       "10                              Lead Quality_Not Sure  2.08\n",
       "12                     Last Notable Activity_Modified  1.82\n",
       "6                              Last Activity_SMS Sent  1.73\n",
       "3                              Lead Source_Olark Chat  1.72\n",
       "9                               Lead Quality_Might be  1.69\n",
       "2                           Lead Origin_Lead Add Form  1.61\n",
       "5               Last Activity_Olark Chat Conversation  1.56\n",
       "4                        Lead Source_Welingak Website  1.36\n",
       "7   What is your current occupation_Working Profes...  1.35\n",
       "1                         Total Time Spent on Website  1.31\n",
       "0                                        Do Not Email  1.13\n",
       "8                       Lead Quality_Low in Relevance  1.13\n",
       "11                                 Lead Quality_Worst  1.13"
      ]
     },
     "execution_count": 79,
     "metadata": {},
     "output_type": "execute_result"
    }
   ],
   "source": [
    "# checking VIF for model-3\n",
    "check_VIF(X3)"
   ]
  },
  {
   "cell_type": "code",
   "execution_count": 80,
   "id": "2ef1e974",
   "metadata": {},
   "outputs": [
    {
     "data": {
      "text/plain": [
       "<AxesSubplot:>"
      ]
     },
     "execution_count": 80,
     "metadata": {},
     "output_type": "execute_result"
    },
    {
     "data": {
      "image/png": "[encoded data removed]",
      "text/plain": [
       "<Figure size 1440x720 with 2 Axes>"
      ]
     },
     "metadata": {
      "needs_background": "light"
     },
     "output_type": "display_data"
    }
   ],
   "source": [
    "# To plot correlations\n",
    "plt.figure(figsize = (20,10))  \n",
    "sns.heatmap(X3.corr(),annot = True)"
   ]
  },
  {
   "cell_type": "markdown",
   "id": "c4e6914a",
   "metadata": {},
   "source": [
    "- From VIF values and heat maps, we can see that there is not much multicollinearity present. All variables have a good value of VIF.\n",
    "- We do not need to drop any more variables and we can proceed with making predictions using this model only."
   ]
  },
  {
   "cell_type": "code",
   "execution_count": 81,
   "id": "21875dc3",
   "metadata": {},
   "outputs": [
    {
     "data": {
      "text/html": [
       "<div>\n",
       "<style scoped>\n",
       "    .dataframe tbody tr th:only-of-type {\n",
       "        vertical-align: middle;\n",
       "    }\n",
       "\n",
       "    .dataframe tbody tr th {\n",
       "        vertical-align: top;\n",
       "    }\n",
       "\n",
       "    .dataframe thead th {\n",
       "        text-align: right;\n",
       "    }\n",
       "</style>\n",
       "<table border=\"1\" class=\"dataframe\">\n",
       "  <thead>\n",
       "    <tr style=\"text-align: right;\">\n",
       "      <th></th>\n",
       "      <th>Converted</th>\n",
       "      <th>Converted_prob</th>\n",
       "      <th>Lead ID</th>\n",
       "      <th>predicted</th>\n",
       "    </tr>\n",
       "  </thead>\n",
       "  <tbody>\n",
       "    <tr>\n",
       "      <th>0</th>\n",
       "      <td>0</td>\n",
       "      <td>0.116526</td>\n",
       "      <td>3009</td>\n",
       "      <td>0</td>\n",
       "    </tr>\n",
       "    <tr>\n",
       "      <th>1</th>\n",
       "      <td>0</td>\n",
       "      <td>0.117968</td>\n",
       "      <td>1012</td>\n",
       "      <td>0</td>\n",
       "    </tr>\n",
       "    <tr>\n",
       "      <th>2</th>\n",
       "      <td>0</td>\n",
       "      <td>0.287521</td>\n",
       "      <td>9226</td>\n",
       "      <td>0</td>\n",
       "    </tr>\n",
       "    <tr>\n",
       "      <th>3</th>\n",
       "      <td>1</td>\n",
       "      <td>0.767704</td>\n",
       "      <td>4750</td>\n",
       "      <td>1</td>\n",
       "    </tr>\n",
       "    <tr>\n",
       "      <th>4</th>\n",
       "      <td>1</td>\n",
       "      <td>0.673934</td>\n",
       "      <td>7987</td>\n",
       "      <td>1</td>\n",
       "    </tr>\n",
       "  </tbody>\n",
       "</table>\n",
       "</div>"
      ],
      "text/plain": [
       "   Converted  Converted_prob  Lead ID  predicted\n",
       "0          0        0.116526     3009          0\n",
       "1          0        0.117968     1012          0\n",
       "2          0        0.287521     9226          0\n",
       "3          1        0.767704     4750          1\n",
       "4          1        0.673934     7987          1"
      ]
     },
     "execution_count": 81,
     "metadata": {},
     "output_type": "execute_result"
    }
   ],
   "source": [
    "# To get predicted values on train set\n",
    "y_train_pred_final = get_pred(X3,logm3)\n",
    "y_train_pred_final.head()"
   ]
  },
  {
   "cell_type": "code",
   "execution_count": 82,
   "id": "282ef29c",
   "metadata": {},
   "outputs": [
    {
     "name": "stdout",
     "output_type": "stream",
     "text": [
      "Confusion Matrix:\n",
      "[[3540  365]\n",
      " [ 612 1834]]\n",
      "Training Accuracy:  0.846165958116832\n"
     ]
    }
   ],
   "source": [
    "# Confusion Matrix and accuracy\n",
    "confusion = conf_mat(y_train_pred_final.Converted,y_train_pred_final.predicted)"
   ]
  },
  {
   "cell_type": "markdown",
   "id": "00c1f402",
   "metadata": {},
   "source": [
    "__This is our final model:__\n",
    "\n",
    "- All p-values are zero.\n",
    "- VIFs for all features are very low. There is hardly any multicollinearity present.\n",
    "- Training accuracy of 84.61% at a probability threshold of 0.5 is also very good."
   ]
  },
  {
   "cell_type": "code",
   "execution_count": 83,
   "id": "03ab850a",
   "metadata": {},
   "outputs": [
    {
     "name": "stdout",
     "output_type": "stream",
     "text": [
      "Sensitivity:  0.749795584627964\n",
      "Specificity:  0.9065300896286812\n",
      "False postive rate - predicting the lead conversion when the lead does not convert:  0.09346991037131883\n",
      "Positive predictive value:  0.8340154615734425\n",
      "Negative predictive value:  0.8526011560693642\n"
     ]
    }
   ],
   "source": [
    "other_metrics(confusion)"
   ]
  },
  {
   "cell_type": "markdown",
   "id": "7148ce0a",
   "metadata": {},
   "source": [
    "## Plotting the ROC Curve"
   ]
  },
  {
   "cell_type": "code",
   "execution_count": 84,
   "id": "184907c7",
   "metadata": {},
   "outputs": [],
   "source": [
    "# Function to plot ROC\n",
    "def plot_roc(actual,probs):\n",
    "    fpr, tpr, thresholds = metrics.roc_curve(actual, probs, drop_intermediate = False)\n",
    "    auc_score = metrics.roc_auc_score(actual, probs)\n",
    "    plt.figure(figsize=(5, 5))\n",
    "    plt.plot(fpr, tpr, label='ROC curve (area = %0.2f)' % auc_score)\n",
    "    plt.plot([0, 1], [0, 1], 'k--')\n",
    "    plt.xlim([0.0, 1.0])\n",
    "    plt.ylim([0.0, 1.05])\n",
    "    plt.xlabel('False Positive Rate or [1 - True Negative Rate]')\n",
    "    plt.ylabel('True Positive Rate')\n",
    "    plt.title('Receiver operating characteristic example')\n",
    "    plt.legend(loc=\"lower right\")\n",
    "    plt.show()"
   ]
  },
  {
   "cell_type": "code",
   "execution_count": 85,
   "id": "d70749dc",
   "metadata": {},
   "outputs": [],
   "source": [
    "fpr, tpr, thresholds = metrics.roc_curve(y_train_pred_final.Converted, y_train_pred_final.Converted_prob, drop_intermediate = False)"
   ]
  },
  {
   "cell_type": "code",
   "execution_count": 86,
   "id": "e2ec3425",
   "metadata": {},
   "outputs": [
    {
     "data": {
      "image/png": "[encoded data removed]",
      "text/plain": [
       "<Figure size 360x360 with 1 Axes>"
      ]
     },
     "metadata": {
      "needs_background": "light"
     },
     "output_type": "display_data"
    }
   ],
   "source": [
    "# To plot ROC\n",
    "plot_roc(y_train_pred_final.Converted, y_train_pred_final.Converted_prob)"
   ]
  },
  {
   "cell_type": "code",
   "execution_count": 87,
   "id": "3e8b732b",
   "metadata": {},
   "outputs": [
    {
     "name": "stdout",
     "output_type": "stream",
     "text": [
      "Area under curve:  0.9250577126626555\n"
     ]
    }
   ],
   "source": [
    "print(\"Area under curve: \", metrics.roc_auc_score(y_train_pred_final.Converted, y_train_pred_final.Converted_prob))"
   ]
  },
  {
   "cell_type": "markdown",
   "id": "23cc51b6",
   "metadata": {},
   "source": [
    " Area under curve (auc) is approximately 0.925 which is very close to ideal auc of 1."
   ]
  },
  {
   "cell_type": "markdown",
   "id": "4f838e31",
   "metadata": {},
   "source": [
    "## Finding Optimal Cutoff Point"
   ]
  },
  {
   "cell_type": "code",
   "execution_count": 88,
   "id": "7021d13a",
   "metadata": {},
   "outputs": [
    {
     "data": {
      "text/html": [
       "<div>\n",
       "<style scoped>\n",
       "    .dataframe tbody tr th:only-of-type {\n",
       "        vertical-align: middle;\n",
       "    }\n",
       "\n",
       "    .dataframe tbody tr th {\n",
       "        vertical-align: top;\n",
       "    }\n",
       "\n",
       "    .dataframe thead th {\n",
       "        text-align: right;\n",
       "    }\n",
       "</style>\n",
       "<table border=\"1\" class=\"dataframe\">\n",
       "  <thead>\n",
       "    <tr style=\"text-align: right;\">\n",
       "      <th></th>\n",
       "      <th>Converted</th>\n",
       "      <th>Converted_prob</th>\n",
       "      <th>Lead ID</th>\n",
       "      <th>predicted</th>\n",
       "      <th>0.0</th>\n",
       "      <th>0.1</th>\n",
       "      <th>0.2</th>\n",
       "      <th>0.3</th>\n",
       "      <th>0.4</th>\n",
       "      <th>0.5</th>\n",
       "      <th>0.6</th>\n",
       "      <th>0.7</th>\n",
       "      <th>0.8</th>\n",
       "      <th>0.9</th>\n",
       "    </tr>\n",
       "  </thead>\n",
       "  <tbody>\n",
       "    <tr>\n",
       "      <th>0</th>\n",
       "      <td>0</td>\n",
       "      <td>0.116526</td>\n",
       "      <td>3009</td>\n",
       "      <td>0</td>\n",
       "      <td>1</td>\n",
       "      <td>1</td>\n",
       "      <td>0</td>\n",
       "      <td>0</td>\n",
       "      <td>0</td>\n",
       "      <td>0</td>\n",
       "      <td>0</td>\n",
       "      <td>0</td>\n",
       "      <td>0</td>\n",
       "      <td>0</td>\n",
       "    </tr>\n",
       "    <tr>\n",
       "      <th>1</th>\n",
       "      <td>0</td>\n",
       "      <td>0.117968</td>\n",
       "      <td>1012</td>\n",
       "      <td>0</td>\n",
       "      <td>1</td>\n",
       "      <td>1</td>\n",
       "      <td>0</td>\n",
       "      <td>0</td>\n",
       "      <td>0</td>\n",
       "      <td>0</td>\n",
       "      <td>0</td>\n",
       "      <td>0</td>\n",
       "      <td>0</td>\n",
       "      <td>0</td>\n",
       "    </tr>\n",
       "    <tr>\n",
       "      <th>2</th>\n",
       "      <td>0</td>\n",
       "      <td>0.287521</td>\n",
       "      <td>9226</td>\n",
       "      <td>0</td>\n",
       "      <td>1</td>\n",
       "      <td>1</td>\n",
       "      <td>1</td>\n",
       "      <td>0</td>\n",
       "      <td>0</td>\n",
       "      <td>0</td>\n",
       "      <td>0</td>\n",
       "      <td>0</td>\n",
       "      <td>0</td>\n",
       "      <td>0</td>\n",
       "    </tr>\n",
       "    <tr>\n",
       "      <th>3</th>\n",
       "      <td>1</td>\n",
       "      <td>0.767704</td>\n",
       "      <td>4750</td>\n",
       "      <td>1</td>\n",
       "      <td>1</td>\n",
       "      <td>1</td>\n",
       "      <td>1</td>\n",
       "      <td>1</td>\n",
       "      <td>1</td>\n",
       "      <td>1</td>\n",
       "      <td>1</td>\n",
       "      <td>1</td>\n",
       "      <td>0</td>\n",
       "      <td>0</td>\n",
       "    </tr>\n",
       "    <tr>\n",
       "      <th>4</th>\n",
       "      <td>1</td>\n",
       "      <td>0.673934</td>\n",
       "      <td>7987</td>\n",
       "      <td>1</td>\n",
       "      <td>1</td>\n",
       "      <td>1</td>\n",
       "      <td>1</td>\n",
       "      <td>1</td>\n",
       "      <td>1</td>\n",
       "      <td>1</td>\n",
       "      <td>1</td>\n",
       "      <td>0</td>\n",
       "      <td>0</td>\n",
       "      <td>0</td>\n",
       "    </tr>\n",
       "  </tbody>\n",
       "</table>\n",
       "</div>"
      ],
      "text/plain": [
       "   Converted  Converted_prob  Lead ID  predicted  0.0  0.1  0.2  0.3  0.4  \\\n",
       "0          0        0.116526     3009          0    1    1    0    0    0   \n",
       "1          0        0.117968     1012          0    1    1    0    0    0   \n",
       "2          0        0.287521     9226          0    1    1    1    0    0   \n",
       "3          1        0.767704     4750          1    1    1    1    1    1   \n",
       "4          1        0.673934     7987          1    1    1    1    1    1   \n",
       "\n",
       "   0.5  0.6  0.7  0.8  0.9  \n",
       "0    0    0    0    0    0  \n",
       "1    0    0    0    0    0  \n",
       "2    0    0    0    0    0  \n",
       "3    1    1    1    0    0  \n",
       "4    1    1    0    0    0  "
      ]
     },
     "execution_count": 88,
     "metadata": {},
     "output_type": "execute_result"
    }
   ],
   "source": [
    "# For creating columns with different probability cutoffs \n",
    "numbers = [float(x)/10 for x in range(10)]\n",
    "for i in numbers:\n",
    "    y_train_pred_final[i]= y_train_pred_final.Converted_prob.map(lambda x: 1 if x > i else 0)\n",
    "y_train_pred_final.head()"
   ]
  },
  {
   "cell_type": "code",
   "execution_count": 89,
   "id": "b839061e",
   "metadata": {},
   "outputs": [
    {
     "name": "stdout",
     "output_type": "stream",
     "text": [
      "     prob  accuracy     sensi     speci\n",
      "0.0   0.0  0.385136  1.000000  0.000000\n",
      "0.1   0.1  0.713903  0.968111  0.554673\n",
      "0.2   0.2  0.795780  0.929272  0.712164\n",
      "0.3   0.3  0.842072  0.863451  0.828681\n",
      "0.4   0.4  0.854511  0.825429  0.872727\n",
      "0.5   0.5  0.846166  0.749796  0.906530\n",
      "0.6   0.6  0.844749  0.709321  0.929577\n",
      "0.7   0.7  0.831995  0.636141  0.954673\n",
      "0.8   0.8  0.818454  0.570319  0.973880\n",
      "0.9   0.9  0.777830  0.444399  0.986684\n"
     ]
    }
   ],
   "source": [
    "# To calculate accuracy, sensitivity and specificity for various probability cutoffs\n",
    "cutoff_df = pd.DataFrame(columns = ['prob','accuracy','sensi','speci'])\n",
    "\n",
    "# TP = confusion[1,1]    # True positive \n",
    "# TN = confusion[0,0]    # True negatives\n",
    "# FP = confusion[0,1]    # False positives\n",
    "# FN = confusion[1,0]    # False negatives\n",
    "\n",
    "num = [0.0,0.1,0.2,0.3,0.4,0.5,0.6,0.7,0.8,0.9]\n",
    "for i in num:\n",
    "    cm1 = metrics.confusion_matrix(y_train_pred_final.Converted, y_train_pred_final[i] )\n",
    "    total1=sum(sum(cm1))\n",
    "    accuracy = (cm1[0,0]+cm1[1,1])/total1\n",
    "    \n",
    "    speci = cm1[0,0]/(cm1[0,0]+cm1[0,1])\n",
    "    sensi = cm1[1,1]/(cm1[1,0]+cm1[1,1])\n",
    "    cutoff_df.loc[i] =[ i ,accuracy,sensi,speci]\n",
    "print(cutoff_df)"
   ]
  },
  {
   "cell_type": "code",
   "execution_count": 90,
   "id": "f31dce82",
   "metadata": {},
   "outputs": [
    {
     "data": {
      "image/png": "[encoded data removed]",
      "text/plain": [
       "<Figure size 432x288 with 1 Axes>"
      ]
     },
     "metadata": {},
     "output_type": "display_data"
    }
   ],
   "source": [
    "# Plotting accuracy, sensitivity and specificity for various probabilities\n",
    "sns.set_style('white')\n",
    "cutoff_df.plot.line(x='prob', y=['accuracy','sensi','speci'])\n",
    "plt.show()"
   ]
  },
  {
   "cell_type": "markdown",
   "id": "10ee83bd",
   "metadata": {},
   "source": [
    "From the curve above, __0.35 is the optimum point to take as a cutoff probability__."
   ]
  },
  {
   "cell_type": "code",
   "execution_count": 91,
   "id": "da2a004c",
   "metadata": {},
   "outputs": [
    {
     "data": {
      "text/html": [
       "<div>\n",
       "<style scoped>\n",
       "    .dataframe tbody tr th:only-of-type {\n",
       "        vertical-align: middle;\n",
       "    }\n",
       "\n",
       "    .dataframe tbody tr th {\n",
       "        vertical-align: top;\n",
       "    }\n",
       "\n",
       "    .dataframe thead th {\n",
       "        text-align: right;\n",
       "    }\n",
       "</style>\n",
       "<table border=\"1\" class=\"dataframe\">\n",
       "  <thead>\n",
       "    <tr style=\"text-align: right;\">\n",
       "      <th></th>\n",
       "      <th>Converted</th>\n",
       "      <th>Converted_prob</th>\n",
       "      <th>Lead ID</th>\n",
       "      <th>predicted</th>\n",
       "      <th>0.0</th>\n",
       "      <th>0.1</th>\n",
       "      <th>0.2</th>\n",
       "      <th>0.3</th>\n",
       "      <th>0.4</th>\n",
       "      <th>0.5</th>\n",
       "      <th>0.6</th>\n",
       "      <th>0.7</th>\n",
       "      <th>0.8</th>\n",
       "      <th>0.9</th>\n",
       "      <th>final_predicted</th>\n",
       "    </tr>\n",
       "  </thead>\n",
       "  <tbody>\n",
       "    <tr>\n",
       "      <th>0</th>\n",
       "      <td>0</td>\n",
       "      <td>0.116526</td>\n",
       "      <td>3009</td>\n",
       "      <td>0</td>\n",
       "      <td>1</td>\n",
       "      <td>1</td>\n",
       "      <td>0</td>\n",
       "      <td>0</td>\n",
       "      <td>0</td>\n",
       "      <td>0</td>\n",
       "      <td>0</td>\n",
       "      <td>0</td>\n",
       "      <td>0</td>\n",
       "      <td>0</td>\n",
       "      <td>0</td>\n",
       "    </tr>\n",
       "    <tr>\n",
       "      <th>1</th>\n",
       "      <td>0</td>\n",
       "      <td>0.117968</td>\n",
       "      <td>1012</td>\n",
       "      <td>0</td>\n",
       "      <td>1</td>\n",
       "      <td>1</td>\n",
       "      <td>0</td>\n",
       "      <td>0</td>\n",
       "      <td>0</td>\n",
       "      <td>0</td>\n",
       "      <td>0</td>\n",
       "      <td>0</td>\n",
       "      <td>0</td>\n",
       "      <td>0</td>\n",
       "      <td>0</td>\n",
       "    </tr>\n",
       "    <tr>\n",
       "      <th>2</th>\n",
       "      <td>0</td>\n",
       "      <td>0.287521</td>\n",
       "      <td>9226</td>\n",
       "      <td>0</td>\n",
       "      <td>1</td>\n",
       "      <td>1</td>\n",
       "      <td>1</td>\n",
       "      <td>0</td>\n",
       "      <td>0</td>\n",
       "      <td>0</td>\n",
       "      <td>0</td>\n",
       "      <td>0</td>\n",
       "      <td>0</td>\n",
       "      <td>0</td>\n",
       "      <td>0</td>\n",
       "    </tr>\n",
       "    <tr>\n",
       "      <th>3</th>\n",
       "      <td>1</td>\n",
       "      <td>0.767704</td>\n",
       "      <td>4750</td>\n",
       "      <td>1</td>\n",
       "      <td>1</td>\n",
       "      <td>1</td>\n",
       "      <td>1</td>\n",
       "      <td>1</td>\n",
       "      <td>1</td>\n",
       "      <td>1</td>\n",
       "      <td>1</td>\n",
       "      <td>1</td>\n",
       "      <td>0</td>\n",
       "      <td>0</td>\n",
       "      <td>1</td>\n",
       "    </tr>\n",
       "    <tr>\n",
       "      <th>4</th>\n",
       "      <td>1</td>\n",
       "      <td>0.673934</td>\n",
       "      <td>7987</td>\n",
       "      <td>1</td>\n",
       "      <td>1</td>\n",
       "      <td>1</td>\n",
       "      <td>1</td>\n",
       "      <td>1</td>\n",
       "      <td>1</td>\n",
       "      <td>1</td>\n",
       "      <td>1</td>\n",
       "      <td>0</td>\n",
       "      <td>0</td>\n",
       "      <td>0</td>\n",
       "      <td>1</td>\n",
       "    </tr>\n",
       "  </tbody>\n",
       "</table>\n",
       "</div>"
      ],
      "text/plain": [
       "   Converted  Converted_prob  Lead ID  predicted  0.0  0.1  0.2  0.3  0.4  \\\n",
       "0          0        0.116526     3009          0    1    1    0    0    0   \n",
       "1          0        0.117968     1012          0    1    1    0    0    0   \n",
       "2          0        0.287521     9226          0    1    1    1    0    0   \n",
       "3          1        0.767704     4750          1    1    1    1    1    1   \n",
       "4          1        0.673934     7987          1    1    1    1    1    1   \n",
       "\n",
       "   0.5  0.6  0.7  0.8  0.9  final_predicted  \n",
       "0    0    0    0    0    0                0  \n",
       "1    0    0    0    0    0                0  \n",
       "2    0    0    0    0    0                0  \n",
       "3    1    1    1    0    0                1  \n",
       "4    1    1    0    0    0                1  "
      ]
     },
     "execution_count": 91,
     "metadata": {},
     "output_type": "execute_result"
    }
   ],
   "source": [
    "# Using 0.35 threshold for predictions\n",
    "y_train_pred_final['final_predicted'] = y_train_pred_final.Converted_prob.map(lambda x: 1 if x > 0.35 else 0)\n",
    "\n",
    "y_train_pred_final.head()"
   ]
  },
  {
   "cell_type": "code",
   "execution_count": 92,
   "id": "a3e0ad95",
   "metadata": {},
   "outputs": [
    {
     "name": "stdout",
     "output_type": "stream",
     "text": [
      "Confusion Matrix:\n",
      "[[3340  565]\n",
      " [ 386 2060]]\n",
      "Training Accuracy:  0.8502598016060463\n"
     ]
    }
   ],
   "source": [
    "# Confusion matrix and Overall Accuracy\n",
    "confusion2 = conf_mat(y_train_pred_final.Converted,y_train_pred_final.final_predicted)"
   ]
  },
  {
   "cell_type": "code",
   "execution_count": 93,
   "id": "068beee6",
   "metadata": {},
   "outputs": [
    {
     "name": "stdout",
     "output_type": "stream",
     "text": [
      "Sensitivity:  0.8421913327882257\n",
      "Specificity:  0.8553137003841229\n",
      "False postive rate - predicting the lead conversion when the lead does not convert:  0.1446862996158771\n",
      "Positive predictive value:  0.7847619047619048\n",
      "Negative predictive value:  0.8964036500268384\n"
     ]
    }
   ],
   "source": [
    "# Other metrics\n",
    "other_metrics(confusion2)"
   ]
  },
  {
   "cell_type": "code",
   "execution_count": 94,
   "id": "eab19491",
   "metadata": {},
   "outputs": [
    {
     "data": {
      "text/plain": [
       "0.7847619047619048"
      ]
     },
     "execution_count": 94,
     "metadata": {},
     "output_type": "execute_result"
    }
   ],
   "source": [
    "# Precision = TP / TP + FP\n",
    "confusion2[1,1]/(confusion2[0,1]+confusion2[1,1])"
   ]
  },
  {
   "cell_type": "code",
   "execution_count": 95,
   "id": "5521c186",
   "metadata": {},
   "outputs": [
    {
     "data": {
      "text/plain": [
       "0.8421913327882257"
      ]
     },
     "execution_count": 95,
     "metadata": {},
     "output_type": "execute_result"
    }
   ],
   "source": [
    "# Recall = TP / TP + FN\n",
    "confusion2[1,1]/(confusion2[1,0]+confusion2[1,1])"
   ]
  },
  {
   "cell_type": "code",
   "execution_count": 96,
   "id": "482005a5",
   "metadata": {},
   "outputs": [],
   "source": [
    "# Precision and Recall Tradeoff\n",
    "## importing necessary library\n",
    "\n",
    "from sklearn.metrics import precision_recall_curve"
   ]
  },
  {
   "cell_type": "code",
   "execution_count": 97,
   "id": "667a9728",
   "metadata": {},
   "outputs": [
    {
     "data": {
      "text/plain": [
       "(0       0\n",
       " 1       0\n",
       " 2       0\n",
       " 3       1\n",
       " 4       1\n",
       "        ..\n",
       " 6346    0\n",
       " 6347    1\n",
       " 6348    0\n",
       " 6349    0\n",
       " 6350    0\n",
       " Name: Converted, Length: 6351, dtype: int64,\n",
       " 0       0\n",
       " 1       0\n",
       " 2       0\n",
       " 3       1\n",
       " 4       1\n",
       "        ..\n",
       " 6346    0\n",
       " 6347    1\n",
       " 6348    1\n",
       " 6349    0\n",
       " 6350    0\n",
       " Name: predicted, Length: 6351, dtype: int64)"
      ]
     },
     "execution_count": 97,
     "metadata": {},
     "output_type": "execute_result"
    }
   ],
   "source": [
    "y_train_pred_final.Converted, y_train_pred_final.predicted"
   ]
  },
  {
   "cell_type": "code",
   "execution_count": 98,
   "id": "bbbd3ffe",
   "metadata": {},
   "outputs": [],
   "source": [
    "p, r, thresholds = precision_recall_curve(y_train_pred_final.Converted, y_train_pred_final.Converted_prob)"
   ]
  },
  {
   "cell_type": "code",
   "execution_count": 99,
   "id": "98aebfdc",
   "metadata": {},
   "outputs": [
    {
     "data": {
      "image/png": "[encoded data removed]",
      "text/plain": [
       "<Figure size 432x288 with 1 Axes>"
      ]
     },
     "metadata": {},
     "output_type": "display_data"
    }
   ],
   "source": [
    "# To plot precision vs recall for different thresholds\n",
    "plt.plot(thresholds, p[:-1], \"g-\")\n",
    "plt.plot(thresholds, r[:-1], \"r-\")\n",
    "plt.show()"
   ]
  },
  {
   "cell_type": "markdown",
   "id": "a58b123a",
   "metadata": {},
   "source": [
    "From the curve above, __0.4 is the optimum point to take as a cutoff probability using Precision-Recall.__ We can check our accuracy using this cutoff too."
   ]
  },
  {
   "cell_type": "code",
   "execution_count": 100,
   "id": "53331288",
   "metadata": {},
   "outputs": [
    {
     "data": {
      "text/html": [
       "<div>\n",
       "<style scoped>\n",
       "    .dataframe tbody tr th:only-of-type {\n",
       "        vertical-align: middle;\n",
       "    }\n",
       "\n",
       "    .dataframe tbody tr th {\n",
       "        vertical-align: top;\n",
       "    }\n",
       "\n",
       "    .dataframe thead th {\n",
       "        text-align: right;\n",
       "    }\n",
       "</style>\n",
       "<table border=\"1\" class=\"dataframe\">\n",
       "  <thead>\n",
       "    <tr style=\"text-align: right;\">\n",
       "      <th></th>\n",
       "      <th>Converted</th>\n",
       "      <th>Converted_prob</th>\n",
       "      <th>Lead ID</th>\n",
       "      <th>predicted</th>\n",
       "      <th>0.0</th>\n",
       "      <th>0.1</th>\n",
       "      <th>0.2</th>\n",
       "      <th>0.3</th>\n",
       "      <th>0.4</th>\n",
       "      <th>0.5</th>\n",
       "      <th>0.6</th>\n",
       "      <th>0.7</th>\n",
       "      <th>0.8</th>\n",
       "      <th>0.9</th>\n",
       "      <th>final_predicted</th>\n",
       "      <th>final_predicted_pr</th>\n",
       "    </tr>\n",
       "  </thead>\n",
       "  <tbody>\n",
       "    <tr>\n",
       "      <th>0</th>\n",
       "      <td>0</td>\n",
       "      <td>0.116526</td>\n",
       "      <td>3009</td>\n",
       "      <td>0</td>\n",
       "      <td>1</td>\n",
       "      <td>1</td>\n",
       "      <td>0</td>\n",
       "      <td>0</td>\n",
       "      <td>0</td>\n",
       "      <td>0</td>\n",
       "      <td>0</td>\n",
       "      <td>0</td>\n",
       "      <td>0</td>\n",
       "      <td>0</td>\n",
       "      <td>0</td>\n",
       "      <td>0</td>\n",
       "    </tr>\n",
       "    <tr>\n",
       "      <th>1</th>\n",
       "      <td>0</td>\n",
       "      <td>0.117968</td>\n",
       "      <td>1012</td>\n",
       "      <td>0</td>\n",
       "      <td>1</td>\n",
       "      <td>1</td>\n",
       "      <td>0</td>\n",
       "      <td>0</td>\n",
       "      <td>0</td>\n",
       "      <td>0</td>\n",
       "      <td>0</td>\n",
       "      <td>0</td>\n",
       "      <td>0</td>\n",
       "      <td>0</td>\n",
       "      <td>0</td>\n",
       "      <td>0</td>\n",
       "    </tr>\n",
       "    <tr>\n",
       "      <th>2</th>\n",
       "      <td>0</td>\n",
       "      <td>0.287521</td>\n",
       "      <td>9226</td>\n",
       "      <td>0</td>\n",
       "      <td>1</td>\n",
       "      <td>1</td>\n",
       "      <td>1</td>\n",
       "      <td>0</td>\n",
       "      <td>0</td>\n",
       "      <td>0</td>\n",
       "      <td>0</td>\n",
       "      <td>0</td>\n",
       "      <td>0</td>\n",
       "      <td>0</td>\n",
       "      <td>0</td>\n",
       "      <td>0</td>\n",
       "    </tr>\n",
       "    <tr>\n",
       "      <th>3</th>\n",
       "      <td>1</td>\n",
       "      <td>0.767704</td>\n",
       "      <td>4750</td>\n",
       "      <td>1</td>\n",
       "      <td>1</td>\n",
       "      <td>1</td>\n",
       "      <td>1</td>\n",
       "      <td>1</td>\n",
       "      <td>1</td>\n",
       "      <td>1</td>\n",
       "      <td>1</td>\n",
       "      <td>1</td>\n",
       "      <td>0</td>\n",
       "      <td>0</td>\n",
       "      <td>1</td>\n",
       "      <td>1</td>\n",
       "    </tr>\n",
       "    <tr>\n",
       "      <th>4</th>\n",
       "      <td>1</td>\n",
       "      <td>0.673934</td>\n",
       "      <td>7987</td>\n",
       "      <td>1</td>\n",
       "      <td>1</td>\n",
       "      <td>1</td>\n",
       "      <td>1</td>\n",
       "      <td>1</td>\n",
       "      <td>1</td>\n",
       "      <td>1</td>\n",
       "      <td>1</td>\n",
       "      <td>0</td>\n",
       "      <td>0</td>\n",
       "      <td>0</td>\n",
       "      <td>1</td>\n",
       "      <td>1</td>\n",
       "    </tr>\n",
       "  </tbody>\n",
       "</table>\n",
       "</div>"
      ],
      "text/plain": [
       "   Converted  Converted_prob  Lead ID  predicted  0.0  0.1  0.2  0.3  0.4  \\\n",
       "0          0        0.116526     3009          0    1    1    0    0    0   \n",
       "1          0        0.117968     1012          0    1    1    0    0    0   \n",
       "2          0        0.287521     9226          0    1    1    1    0    0   \n",
       "3          1        0.767704     4750          1    1    1    1    1    1   \n",
       "4          1        0.673934     7987          1    1    1    1    1    1   \n",
       "\n",
       "   0.5  0.6  0.7  0.8  0.9  final_predicted  final_predicted_pr  \n",
       "0    0    0    0    0    0                0                   0  \n",
       "1    0    0    0    0    0                0                   0  \n",
       "2    0    0    0    0    0                0                   0  \n",
       "3    1    1    1    0    0                1                   1  \n",
       "4    1    1    0    0    0                1                   1  "
      ]
     },
     "execution_count": 100,
     "metadata": {},
     "output_type": "execute_result"
    }
   ],
   "source": [
    "# Using 0.40 threshold for predictions\n",
    "y_train_pred_final['final_predicted_pr'] = y_train_pred_final.Converted_prob.map(lambda x: 1 if x > 0.4 else 0)\n",
    "\n",
    "y_train_pred_final.head()"
   ]
  },
  {
   "cell_type": "code",
   "execution_count": 101,
   "id": "b5855e02",
   "metadata": {},
   "outputs": [
    {
     "name": "stdout",
     "output_type": "stream",
     "text": [
      "Confusion Matrix:\n",
      "[[3408  497]\n",
      " [ 427 2019]]\n",
      "Training Accuracy:  0.8545111006140765\n"
     ]
    }
   ],
   "source": [
    "# Confusion matrix and overall accuracy\n",
    "confusion3 = conf_mat(y_train_pred_final.Converted,y_train_pred_final.final_predicted_pr)"
   ]
  },
  {
   "cell_type": "code",
   "execution_count": 102,
   "id": "a9c42123",
   "metadata": {},
   "outputs": [
    {
     "name": "stdout",
     "output_type": "stream",
     "text": [
      "Sensitivity:  0.8254292722812756\n",
      "Specificity:  0.8727272727272727\n",
      "False postive rate - predicting the lead conversion when the lead does not convert:  0.12727272727272726\n",
      "Positive predictive value:  0.8024642289348172\n",
      "Negative predictive value:  0.8886571056062581\n"
     ]
    }
   ],
   "source": [
    "# Other metrics\n",
    "other_metrics(confusion3)"
   ]
  },
  {
   "cell_type": "code",
   "execution_count": 103,
   "id": "02ef3d9b",
   "metadata": {},
   "outputs": [
    {
     "data": {
      "text/plain": [
       "0.8024642289348172"
      ]
     },
     "execution_count": 103,
     "metadata": {},
     "output_type": "execute_result"
    }
   ],
   "source": [
    "# Precision = TP / TP + FP\n",
    "confusion3[1,1]/(confusion3[0,1]+confusion3[1,1])"
   ]
  },
  {
   "cell_type": "code",
   "execution_count": 104,
   "id": "2d5dd83a",
   "metadata": {},
   "outputs": [
    {
     "data": {
      "text/plain": [
       "0.8254292722812756"
      ]
     },
     "execution_count": 104,
     "metadata": {},
     "output_type": "execute_result"
    }
   ],
   "source": [
    "# Recall = TP / TP + FN\n",
    "confusion3[1,1]/(confusion3[1,0]+confusion3[1,1])"
   ]
  },
  {
   "cell_type": "markdown",
   "id": "ade92aef",
   "metadata": {},
   "source": [
    "## Making Prediction on Test Set"
   ]
  },
  {
   "cell_type": "code",
   "execution_count": 105,
   "id": "89a2b3dd",
   "metadata": {},
   "outputs": [
    {
     "data": {
      "text/html": [
       "<div>\n",
       "<style scoped>\n",
       "    .dataframe tbody tr th:only-of-type {\n",
       "        vertical-align: middle;\n",
       "    }\n",
       "\n",
       "    .dataframe tbody tr th {\n",
       "        vertical-align: top;\n",
       "    }\n",
       "\n",
       "    .dataframe thead th {\n",
       "        text-align: right;\n",
       "    }\n",
       "</style>\n",
       "<table border=\"1\" class=\"dataframe\">\n",
       "  <thead>\n",
       "    <tr style=\"text-align: right;\">\n",
       "      <th></th>\n",
       "      <th>Do Not Email</th>\n",
       "      <th>TotalVisits</th>\n",
       "      <th>Total Time Spent on Website</th>\n",
       "      <th>Page Views Per Visit</th>\n",
       "      <th>Lead Origin_Landing Page Submission</th>\n",
       "      <th>Lead Origin_Lead Add Form</th>\n",
       "      <th>Lead Origin_Lead Import</th>\n",
       "      <th>Lead Source_Facebook</th>\n",
       "      <th>Lead Source_Google</th>\n",
       "      <th>Lead Source_Olark Chat</th>\n",
       "      <th>...</th>\n",
       "      <th>Last Notable Activity_Form Submitted on Website</th>\n",
       "      <th>Last Notable Activity_Had a Phone Conversation</th>\n",
       "      <th>Last Notable Activity_Modified</th>\n",
       "      <th>Last Notable Activity_Olark Chat Conversation</th>\n",
       "      <th>Last Notable Activity_Page Visited on Website</th>\n",
       "      <th>Last Notable Activity_Resubscribed to emails</th>\n",
       "      <th>Last Notable Activity_SMS Sent</th>\n",
       "      <th>Last Notable Activity_Unreachable</th>\n",
       "      <th>Last Notable Activity_Unsubscribed</th>\n",
       "      <th>Last Notable Activity_View in browser link Clicked</th>\n",
       "    </tr>\n",
       "  </thead>\n",
       "  <tbody>\n",
       "    <tr>\n",
       "      <th>3271</th>\n",
       "      <td>0</td>\n",
       "      <td>0.304501</td>\n",
       "      <td>-0.591008</td>\n",
       "      <td>0.998931</td>\n",
       "      <td>0</td>\n",
       "      <td>0</td>\n",
       "      <td>0</td>\n",
       "      <td>0</td>\n",
       "      <td>1</td>\n",
       "      <td>0</td>\n",
       "      <td>...</td>\n",
       "      <td>0</td>\n",
       "      <td>0</td>\n",
       "      <td>0</td>\n",
       "      <td>0</td>\n",
       "      <td>0</td>\n",
       "      <td>0</td>\n",
       "      <td>0</td>\n",
       "      <td>0</td>\n",
       "      <td>0</td>\n",
       "      <td>0</td>\n",
       "    </tr>\n",
       "    <tr>\n",
       "      <th>1490</th>\n",
       "      <td>0</td>\n",
       "      <td>0.666261</td>\n",
       "      <td>1.894051</td>\n",
       "      <td>1.564920</td>\n",
       "      <td>1</td>\n",
       "      <td>0</td>\n",
       "      <td>0</td>\n",
       "      <td>0</td>\n",
       "      <td>0</td>\n",
       "      <td>0</td>\n",
       "      <td>...</td>\n",
       "      <td>0</td>\n",
       "      <td>0</td>\n",
       "      <td>0</td>\n",
       "      <td>0</td>\n",
       "      <td>0</td>\n",
       "      <td>0</td>\n",
       "      <td>0</td>\n",
       "      <td>0</td>\n",
       "      <td>0</td>\n",
       "      <td>0</td>\n",
       "    </tr>\n",
       "    <tr>\n",
       "      <th>7936</th>\n",
       "      <td>0</td>\n",
       "      <td>-0.419021</td>\n",
       "      <td>-0.743117</td>\n",
       "      <td>-0.133048</td>\n",
       "      <td>0</td>\n",
       "      <td>0</td>\n",
       "      <td>0</td>\n",
       "      <td>0</td>\n",
       "      <td>1</td>\n",
       "      <td>0</td>\n",
       "      <td>...</td>\n",
       "      <td>0</td>\n",
       "      <td>0</td>\n",
       "      <td>0</td>\n",
       "      <td>0</td>\n",
       "      <td>0</td>\n",
       "      <td>0</td>\n",
       "      <td>0</td>\n",
       "      <td>0</td>\n",
       "      <td>0</td>\n",
       "      <td>0</td>\n",
       "    </tr>\n",
       "    <tr>\n",
       "      <th>4216</th>\n",
       "      <td>0</td>\n",
       "      <td>-1.142542</td>\n",
       "      <td>-0.878732</td>\n",
       "      <td>-1.265027</td>\n",
       "      <td>0</td>\n",
       "      <td>1</td>\n",
       "      <td>0</td>\n",
       "      <td>0</td>\n",
       "      <td>0</td>\n",
       "      <td>0</td>\n",
       "      <td>...</td>\n",
       "      <td>0</td>\n",
       "      <td>0</td>\n",
       "      <td>1</td>\n",
       "      <td>0</td>\n",
       "      <td>0</td>\n",
       "      <td>0</td>\n",
       "      <td>0</td>\n",
       "      <td>0</td>\n",
       "      <td>0</td>\n",
       "      <td>0</td>\n",
       "    </tr>\n",
       "    <tr>\n",
       "      <th>3830</th>\n",
       "      <td>0</td>\n",
       "      <td>1.751544</td>\n",
       "      <td>-0.578179</td>\n",
       "      <td>2.130909</td>\n",
       "      <td>1</td>\n",
       "      <td>0</td>\n",
       "      <td>0</td>\n",
       "      <td>0</td>\n",
       "      <td>0</td>\n",
       "      <td>0</td>\n",
       "      <td>...</td>\n",
       "      <td>0</td>\n",
       "      <td>0</td>\n",
       "      <td>0</td>\n",
       "      <td>0</td>\n",
       "      <td>0</td>\n",
       "      <td>0</td>\n",
       "      <td>0</td>\n",
       "      <td>0</td>\n",
       "      <td>0</td>\n",
       "      <td>0</td>\n",
       "    </tr>\n",
       "  </tbody>\n",
       "</table>\n",
       "<p>5 rows × 75 columns</p>\n",
       "</div>"
      ],
      "text/plain": [
       "      Do Not Email  TotalVisits  Total Time Spent on Website  \\\n",
       "3271             0     0.304501                    -0.591008   \n",
       "1490             0     0.666261                     1.894051   \n",
       "7936             0    -0.419021                    -0.743117   \n",
       "4216             0    -1.142542                    -0.878732   \n",
       "3830             0     1.751544                    -0.578179   \n",
       "\n",
       "      Page Views Per Visit  Lead Origin_Landing Page Submission  \\\n",
       "3271              0.998931                                    0   \n",
       "1490              1.564920                                    1   \n",
       "7936             -0.133048                                    0   \n",
       "4216             -1.265027                                    0   \n",
       "3830              2.130909                                    1   \n",
       "\n",
       "      Lead Origin_Lead Add Form  Lead Origin_Lead Import  \\\n",
       "3271                          0                        0   \n",
       "1490                          0                        0   \n",
       "7936                          0                        0   \n",
       "4216                          1                        0   \n",
       "3830                          0                        0   \n",
       "\n",
       "      Lead Source_Facebook  Lead Source_Google  Lead Source_Olark Chat  ...  \\\n",
       "3271                     0                   1                       0  ...   \n",
       "1490                     0                   0                       0  ...   \n",
       "7936                     0                   1                       0  ...   \n",
       "4216                     0                   0                       0  ...   \n",
       "3830                     0                   0                       0  ...   \n",
       "\n",
       "      Last Notable Activity_Form Submitted on Website  \\\n",
       "3271                                                0   \n",
       "1490                                                0   \n",
       "7936                                                0   \n",
       "4216                                                0   \n",
       "3830                                                0   \n",
       "\n",
       "      Last Notable Activity_Had a Phone Conversation  \\\n",
       "3271                                               0   \n",
       "1490                                               0   \n",
       "7936                                               0   \n",
       "4216                                               0   \n",
       "3830                                               0   \n",
       "\n",
       "      Last Notable Activity_Modified  \\\n",
       "3271                               0   \n",
       "1490                               0   \n",
       "7936                               0   \n",
       "4216                               1   \n",
       "3830                               0   \n",
       "\n",
       "      Last Notable Activity_Olark Chat Conversation  \\\n",
       "3271                                              0   \n",
       "1490                                              0   \n",
       "7936                                              0   \n",
       "4216                                              0   \n",
       "3830                                              0   \n",
       "\n",
       "      Last Notable Activity_Page Visited on Website  \\\n",
       "3271                                              0   \n",
       "1490                                              0   \n",
       "7936                                              0   \n",
       "4216                                              0   \n",
       "3830                                              0   \n",
       "\n",
       "      Last Notable Activity_Resubscribed to emails  \\\n",
       "3271                                             0   \n",
       "1490                                             0   \n",
       "7936                                             0   \n",
       "4216                                             0   \n",
       "3830                                             0   \n",
       "\n",
       "      Last Notable Activity_SMS Sent  Last Notable Activity_Unreachable  \\\n",
       "3271                               0                                  0   \n",
       "1490                               0                                  0   \n",
       "7936                               0                                  0   \n",
       "4216                               0                                  0   \n",
       "3830                               0                                  0   \n",
       "\n",
       "      Last Notable Activity_Unsubscribed  \\\n",
       "3271                                   0   \n",
       "1490                                   0   \n",
       "7936                                   0   \n",
       "4216                                   0   \n",
       "3830                                   0   \n",
       "\n",
       "      Last Notable Activity_View in browser link Clicked  \n",
       "3271                                                  0   \n",
       "1490                                                  0   \n",
       "7936                                                  0   \n",
       "4216                                                  0   \n",
       "3830                                                  0   \n",
       "\n",
       "[5 rows x 75 columns]"
      ]
     },
     "execution_count": 105,
     "metadata": {},
     "output_type": "execute_result"
    }
   ],
   "source": [
    "# Feature transform on Test set\n",
    "X_test[num_var] = scaler.fit_transform(X_test[num_var])\n",
    "\n",
    "X_test.head()"
   ]
  },
  {
   "cell_type": "code",
   "execution_count": 106,
   "id": "3214eeff",
   "metadata": {},
   "outputs": [],
   "source": [
    "# To get final features\n",
    "X_test_sm = X_test[col2]"
   ]
  },
  {
   "cell_type": "code",
   "execution_count": 107,
   "id": "d1f2d53f",
   "metadata": {},
   "outputs": [],
   "source": [
    "# To add a constant\n",
    "X_test_sm = sm.add_constant(X_test_sm)"
   ]
  },
  {
   "cell_type": "code",
   "execution_count": 108,
   "id": "b5d2fd2e",
   "metadata": {},
   "outputs": [
    {
     "data": {
      "text/plain": [
       "3271    0.075974\n",
       "1490    0.991663\n",
       "7936    0.065056\n",
       "4216    0.839237\n",
       "3830    0.076968\n",
       "1800    0.868673\n",
       "6507    0.212101\n",
       "4821    0.191122\n",
       "4223    0.994282\n",
       "4714    0.289755\n",
       "dtype: float64"
      ]
     },
     "execution_count": 108,
     "metadata": {},
     "output_type": "execute_result"
    }
   ],
   "source": [
    "# Making predictions\n",
    "y_test_pred = logm3.predict(X_test_sm)\n",
    "\n",
    "y_test_pred[:10]"
   ]
  },
  {
   "cell_type": "code",
   "execution_count": 109,
   "id": "befd2fe3",
   "metadata": {},
   "outputs": [
    {
     "data": {
      "text/html": [
       "<div>\n",
       "<style scoped>\n",
       "    .dataframe tbody tr th:only-of-type {\n",
       "        vertical-align: middle;\n",
       "    }\n",
       "\n",
       "    .dataframe tbody tr th {\n",
       "        vertical-align: top;\n",
       "    }\n",
       "\n",
       "    .dataframe thead th {\n",
       "        text-align: right;\n",
       "    }\n",
       "</style>\n",
       "<table border=\"1\" class=\"dataframe\">\n",
       "  <thead>\n",
       "    <tr style=\"text-align: right;\">\n",
       "      <th></th>\n",
       "      <th>0</th>\n",
       "    </tr>\n",
       "  </thead>\n",
       "  <tbody>\n",
       "    <tr>\n",
       "      <th>3271</th>\n",
       "      <td>0.075974</td>\n",
       "    </tr>\n",
       "    <tr>\n",
       "      <th>1490</th>\n",
       "      <td>0.991663</td>\n",
       "    </tr>\n",
       "    <tr>\n",
       "      <th>7936</th>\n",
       "      <td>0.065056</td>\n",
       "    </tr>\n",
       "    <tr>\n",
       "      <th>4216</th>\n",
       "      <td>0.839237</td>\n",
       "    </tr>\n",
       "    <tr>\n",
       "      <th>3830</th>\n",
       "      <td>0.076968</td>\n",
       "    </tr>\n",
       "  </tbody>\n",
       "</table>\n",
       "</div>"
      ],
      "text/plain": [
       "             0\n",
       "3271  0.075974\n",
       "1490  0.991663\n",
       "7936  0.065056\n",
       "4216  0.839237\n",
       "3830  0.076968"
      ]
     },
     "execution_count": 109,
     "metadata": {},
     "output_type": "execute_result"
    }
   ],
   "source": [
    "# Converting y_pred to a dataframe which is an array\n",
    "y_pred_1 = pd.DataFrame(y_test_pred)\n",
    "\n",
    "y_pred_1.head()"
   ]
  },
  {
   "cell_type": "code",
   "execution_count": 110,
   "id": "136eab28",
   "metadata": {},
   "outputs": [],
   "source": [
    "# Converting y_test to dataframe\n",
    "y_test_df = pd.DataFrame(y_test)"
   ]
  },
  {
   "cell_type": "code",
   "execution_count": 111,
   "id": "ce750933",
   "metadata": {},
   "outputs": [],
   "source": [
    "# Putting Lead ID to index\n",
    "y_test_df['Lead ID'] = y_test_df.index"
   ]
  },
  {
   "cell_type": "code",
   "execution_count": 112,
   "id": "0eb23242",
   "metadata": {},
   "outputs": [],
   "source": [
    "#Removing index for both dataframes to append them side by side \n",
    "y_pred_1.reset_index(drop=True, inplace=True)\n",
    "y_test_df.reset_index(drop=True, inplace=True)"
   ]
  },
  {
   "cell_type": "code",
   "execution_count": 113,
   "id": "9a614130",
   "metadata": {},
   "outputs": [
    {
     "data": {
      "text/html": [
       "<div>\n",
       "<style scoped>\n",
       "    .dataframe tbody tr th:only-of-type {\n",
       "        vertical-align: middle;\n",
       "    }\n",
       "\n",
       "    .dataframe tbody tr th {\n",
       "        vertical-align: top;\n",
       "    }\n",
       "\n",
       "    .dataframe thead th {\n",
       "        text-align: right;\n",
       "    }\n",
       "</style>\n",
       "<table border=\"1\" class=\"dataframe\">\n",
       "  <thead>\n",
       "    <tr style=\"text-align: right;\">\n",
       "      <th></th>\n",
       "      <th>Converted</th>\n",
       "      <th>Lead ID</th>\n",
       "      <th>0</th>\n",
       "    </tr>\n",
       "  </thead>\n",
       "  <tbody>\n",
       "    <tr>\n",
       "      <th>0</th>\n",
       "      <td>0</td>\n",
       "      <td>3271</td>\n",
       "      <td>0.075974</td>\n",
       "    </tr>\n",
       "    <tr>\n",
       "      <th>1</th>\n",
       "      <td>1</td>\n",
       "      <td>1490</td>\n",
       "      <td>0.991663</td>\n",
       "    </tr>\n",
       "    <tr>\n",
       "      <th>2</th>\n",
       "      <td>0</td>\n",
       "      <td>7936</td>\n",
       "      <td>0.065056</td>\n",
       "    </tr>\n",
       "    <tr>\n",
       "      <th>3</th>\n",
       "      <td>1</td>\n",
       "      <td>4216</td>\n",
       "      <td>0.839237</td>\n",
       "    </tr>\n",
       "    <tr>\n",
       "      <th>4</th>\n",
       "      <td>0</td>\n",
       "      <td>3830</td>\n",
       "      <td>0.076968</td>\n",
       "    </tr>\n",
       "  </tbody>\n",
       "</table>\n",
       "</div>"
      ],
      "text/plain": [
       "   Converted  Lead ID         0\n",
       "0          0     3271  0.075974\n",
       "1          1     1490  0.991663\n",
       "2          0     7936  0.065056\n",
       "3          1     4216  0.839237\n",
       "4          0     3830  0.076968"
      ]
     },
     "execution_count": 113,
     "metadata": {},
     "output_type": "execute_result"
    }
   ],
   "source": [
    "# To append y_test_df and y_pred_1\n",
    "y_pred_final = pd.concat([y_test_df, y_pred_1],axis=1)\n",
    "\n",
    "y_pred_final.head()"
   ]
  },
  {
   "cell_type": "code",
   "execution_count": 114,
   "id": "023a53ef",
   "metadata": {},
   "outputs": [
    {
     "data": {
      "text/html": [
       "<div>\n",
       "<style scoped>\n",
       "    .dataframe tbody tr th:only-of-type {\n",
       "        vertical-align: middle;\n",
       "    }\n",
       "\n",
       "    .dataframe tbody tr th {\n",
       "        vertical-align: top;\n",
       "    }\n",
       "\n",
       "    .dataframe thead th {\n",
       "        text-align: right;\n",
       "    }\n",
       "</style>\n",
       "<table border=\"1\" class=\"dataframe\">\n",
       "  <thead>\n",
       "    <tr style=\"text-align: right;\">\n",
       "      <th></th>\n",
       "      <th>Converted</th>\n",
       "      <th>Lead ID</th>\n",
       "      <th>Converted_prob</th>\n",
       "    </tr>\n",
       "  </thead>\n",
       "  <tbody>\n",
       "    <tr>\n",
       "      <th>0</th>\n",
       "      <td>0</td>\n",
       "      <td>3271</td>\n",
       "      <td>0.075974</td>\n",
       "    </tr>\n",
       "    <tr>\n",
       "      <th>1</th>\n",
       "      <td>1</td>\n",
       "      <td>1490</td>\n",
       "      <td>0.991663</td>\n",
       "    </tr>\n",
       "    <tr>\n",
       "      <th>2</th>\n",
       "      <td>0</td>\n",
       "      <td>7936</td>\n",
       "      <td>0.065056</td>\n",
       "    </tr>\n",
       "    <tr>\n",
       "      <th>3</th>\n",
       "      <td>1</td>\n",
       "      <td>4216</td>\n",
       "      <td>0.839237</td>\n",
       "    </tr>\n",
       "    <tr>\n",
       "      <th>4</th>\n",
       "      <td>0</td>\n",
       "      <td>3830</td>\n",
       "      <td>0.076968</td>\n",
       "    </tr>\n",
       "  </tbody>\n",
       "</table>\n",
       "</div>"
      ],
      "text/plain": [
       "   Converted  Lead ID  Converted_prob\n",
       "0          0     3271        0.075974\n",
       "1          1     1490        0.991663\n",
       "2          0     7936        0.065056\n",
       "3          1     4216        0.839237\n",
       "4          0     3830        0.076968"
      ]
     },
     "execution_count": 114,
     "metadata": {},
     "output_type": "execute_result"
    }
   ],
   "source": [
    "# To Rename the column \n",
    "y_pred_final= y_pred_final.rename(columns={ 0 : 'Converted_prob'})\n",
    "\n",
    "y_pred_final.head()"
   ]
  },
  {
   "cell_type": "code",
   "execution_count": 115,
   "id": "1003de67",
   "metadata": {},
   "outputs": [
    {
     "data": {
      "text/html": [
       "<div>\n",
       "<style scoped>\n",
       "    .dataframe tbody tr th:only-of-type {\n",
       "        vertical-align: middle;\n",
       "    }\n",
       "\n",
       "    .dataframe tbody tr th {\n",
       "        vertical-align: top;\n",
       "    }\n",
       "\n",
       "    .dataframe thead th {\n",
       "        text-align: right;\n",
       "    }\n",
       "</style>\n",
       "<table border=\"1\" class=\"dataframe\">\n",
       "  <thead>\n",
       "    <tr style=\"text-align: right;\">\n",
       "      <th></th>\n",
       "      <th>Converted</th>\n",
       "      <th>Lead ID</th>\n",
       "      <th>Converted_prob</th>\n",
       "      <th>final_predicted</th>\n",
       "    </tr>\n",
       "  </thead>\n",
       "  <tbody>\n",
       "    <tr>\n",
       "      <th>0</th>\n",
       "      <td>0</td>\n",
       "      <td>3271</td>\n",
       "      <td>0.075974</td>\n",
       "      <td>0</td>\n",
       "    </tr>\n",
       "    <tr>\n",
       "      <th>1</th>\n",
       "      <td>1</td>\n",
       "      <td>1490</td>\n",
       "      <td>0.991663</td>\n",
       "      <td>1</td>\n",
       "    </tr>\n",
       "    <tr>\n",
       "      <th>2</th>\n",
       "      <td>0</td>\n",
       "      <td>7936</td>\n",
       "      <td>0.065056</td>\n",
       "      <td>0</td>\n",
       "    </tr>\n",
       "    <tr>\n",
       "      <th>3</th>\n",
       "      <td>1</td>\n",
       "      <td>4216</td>\n",
       "      <td>0.839237</td>\n",
       "      <td>1</td>\n",
       "    </tr>\n",
       "    <tr>\n",
       "      <th>4</th>\n",
       "      <td>0</td>\n",
       "      <td>3830</td>\n",
       "      <td>0.076968</td>\n",
       "      <td>0</td>\n",
       "    </tr>\n",
       "  </tbody>\n",
       "</table>\n",
       "</div>"
      ],
      "text/plain": [
       "   Converted  Lead ID  Converted_prob  final_predicted\n",
       "0          0     3271        0.075974                0\n",
       "1          1     1490        0.991663                1\n",
       "2          0     7936        0.065056                0\n",
       "3          1     4216        0.839237                1\n",
       "4          0     3830        0.076968                0"
      ]
     },
     "execution_count": 115,
     "metadata": {},
     "output_type": "execute_result"
    }
   ],
   "source": [
    "# To put the threshold of 0.4 as derived\n",
    "y_pred_final['final_predicted'] = y_pred_final.Converted_prob.map(lambda x: 1 if x > 0.4 else 0)\n",
    "\n",
    "y_pred_final.head()"
   ]
  },
  {
   "cell_type": "code",
   "execution_count": 116,
   "id": "289c7834",
   "metadata": {},
   "outputs": [
    {
     "name": "stdout",
     "output_type": "stream",
     "text": [
      "Area under curve:  0.9139890001084596\n"
     ]
    }
   ],
   "source": [
    "print(\"Area under curve: \", metrics.roc_auc_score(y_pred_final.Converted, y_pred_final.Converted_prob))"
   ]
  },
  {
   "cell_type": "code",
   "execution_count": 117,
   "id": "a280cf4a",
   "metadata": {},
   "outputs": [
    {
     "data": {
      "text/plain": [
       "array([[1507,  227],\n",
       "       [ 192,  797]], dtype=int64)"
      ]
     },
     "execution_count": 117,
     "metadata": {},
     "output_type": "execute_result"
    }
   ],
   "source": [
    "# Confusion matrix\n",
    "confusion_test = metrics.confusion_matrix(y_pred_final.Converted,y_pred_final.final_predicted)\n",
    "confusion_test"
   ]
  },
  {
   "cell_type": "code",
   "execution_count": 118,
   "id": "6e3aa102",
   "metadata": {},
   "outputs": [
    {
     "data": {
      "text/plain": [
       "0.8461255967682703"
      ]
     },
     "execution_count": 118,
     "metadata": {},
     "output_type": "execute_result"
    }
   ],
   "source": [
    "# Accuracy\n",
    "metrics.accuracy_score(y_pred_final.Converted,y_pred_final.final_predicted)"
   ]
  },
  {
   "cell_type": "code",
   "execution_count": 119,
   "id": "26407f3c",
   "metadata": {},
   "outputs": [
    {
     "data": {
      "text/plain": [
       "0.7783203125"
      ]
     },
     "execution_count": 119,
     "metadata": {},
     "output_type": "execute_result"
    }
   ],
   "source": [
    "# Precision = TP / TP + FP\n",
    "confusion_test[1,1]/(confusion_test[0,1]+confusion_test[1,1])"
   ]
  },
  {
   "cell_type": "code",
   "execution_count": 120,
   "id": "2f10ec23",
   "metadata": {},
   "outputs": [
    {
     "data": {
      "text/plain": [
       "0.8058645096056622"
      ]
     },
     "execution_count": 120,
     "metadata": {},
     "output_type": "execute_result"
    }
   ],
   "source": [
    "# Recall = TP / TP + FN\n",
    "confusion_test[1,1]/(confusion_test[1,0]+confusion_test[1,1])"
   ]
  },
  {
   "cell_type": "code",
   "execution_count": 121,
   "id": "6886f62e",
   "metadata": {},
   "outputs": [
    {
     "name": "stdout",
     "output_type": "stream",
     "text": [
      "Sensitivity:  0.8058645096056622\n",
      "Specificity:  0.8690888119953863\n",
      "False postive rate - predicting the lead conversion when the lead does not convert:  0.1309111880046136\n",
      "Positive predictive value:  0.7783203125\n",
      "Negative predictive value:  0.886992348440259\n"
     ]
    }
   ],
   "source": [
    "# Other metrics\n",
    "other_metrics(confusion_test)"
   ]
  },
  {
   "cell_type": "markdown",
   "id": "55cc9bf9",
   "metadata": {},
   "source": [
    "##### With probability threshold cutoff of 0.4 we got a Recall of 80.58% and Precision of 77.83% which is a good."
   ]
  },
  {
   "cell_type": "markdown",
   "id": "c303a7ba",
   "metadata": {},
   "source": [
    "## Assigning Lead Score"
   ]
  },
  {
   "cell_type": "code",
   "execution_count": 122,
   "id": "0692b658",
   "metadata": {},
   "outputs": [
    {
     "data": {
      "text/html": [
       "<div>\n",
       "<style scoped>\n",
       "    .dataframe tbody tr th:only-of-type {\n",
       "        vertical-align: middle;\n",
       "    }\n",
       "\n",
       "    .dataframe tbody tr th {\n",
       "        vertical-align: top;\n",
       "    }\n",
       "\n",
       "    .dataframe thead th {\n",
       "        text-align: right;\n",
       "    }\n",
       "</style>\n",
       "<table border=\"1\" class=\"dataframe\">\n",
       "  <thead>\n",
       "    <tr style=\"text-align: right;\">\n",
       "      <th></th>\n",
       "      <th>Converted</th>\n",
       "      <th>Lead ID</th>\n",
       "      <th>Converted_prob</th>\n",
       "      <th>final_predicted</th>\n",
       "    </tr>\n",
       "  </thead>\n",
       "  <tbody>\n",
       "    <tr>\n",
       "      <th>0</th>\n",
       "      <td>0</td>\n",
       "      <td>3271</td>\n",
       "      <td>0.075974</td>\n",
       "      <td>0</td>\n",
       "    </tr>\n",
       "    <tr>\n",
       "      <th>1</th>\n",
       "      <td>1</td>\n",
       "      <td>1490</td>\n",
       "      <td>0.991663</td>\n",
       "      <td>1</td>\n",
       "    </tr>\n",
       "    <tr>\n",
       "      <th>2</th>\n",
       "      <td>0</td>\n",
       "      <td>7936</td>\n",
       "      <td>0.065056</td>\n",
       "      <td>0</td>\n",
       "    </tr>\n",
       "    <tr>\n",
       "      <th>3</th>\n",
       "      <td>1</td>\n",
       "      <td>4216</td>\n",
       "      <td>0.839237</td>\n",
       "      <td>1</td>\n",
       "    </tr>\n",
       "    <tr>\n",
       "      <th>4</th>\n",
       "      <td>0</td>\n",
       "      <td>3830</td>\n",
       "      <td>0.076968</td>\n",
       "      <td>0</td>\n",
       "    </tr>\n",
       "  </tbody>\n",
       "</table>\n",
       "</div>"
      ],
      "text/plain": [
       "   Converted  Lead ID  Converted_prob  final_predicted\n",
       "0          0     3271        0.075974                0\n",
       "1          1     1490        0.991663                1\n",
       "2          0     7936        0.065056                0\n",
       "3          1     4216        0.839237                1\n",
       "4          0     3830        0.076968                0"
      ]
     },
     "execution_count": 122,
     "metadata": {},
     "output_type": "execute_result"
    }
   ],
   "source": [
    "# To select test set\n",
    "leads_test_pred = y_pred_final.copy()\n",
    "leads_test_pred.head()"
   ]
  },
  {
   "cell_type": "code",
   "execution_count": 123,
   "id": "5c7f5232",
   "metadata": {},
   "outputs": [
    {
     "data": {
      "text/html": [
       "<div>\n",
       "<style scoped>\n",
       "    .dataframe tbody tr th:only-of-type {\n",
       "        vertical-align: middle;\n",
       "    }\n",
       "\n",
       "    .dataframe tbody tr th {\n",
       "        vertical-align: top;\n",
       "    }\n",
       "\n",
       "    .dataframe thead th {\n",
       "        text-align: right;\n",
       "    }\n",
       "</style>\n",
       "<table border=\"1\" class=\"dataframe\">\n",
       "  <thead>\n",
       "    <tr style=\"text-align: right;\">\n",
       "      <th></th>\n",
       "      <th>Converted</th>\n",
       "      <th>Converted_prob</th>\n",
       "      <th>Lead ID</th>\n",
       "      <th>predicted</th>\n",
       "      <th>0.0</th>\n",
       "      <th>0.1</th>\n",
       "      <th>0.2</th>\n",
       "      <th>0.3</th>\n",
       "      <th>0.4</th>\n",
       "      <th>0.5</th>\n",
       "      <th>0.6</th>\n",
       "      <th>0.7</th>\n",
       "      <th>0.8</th>\n",
       "      <th>0.9</th>\n",
       "      <th>final_predicted</th>\n",
       "      <th>final_predicted_pr</th>\n",
       "    </tr>\n",
       "  </thead>\n",
       "  <tbody>\n",
       "    <tr>\n",
       "      <th>0</th>\n",
       "      <td>0</td>\n",
       "      <td>0.116526</td>\n",
       "      <td>3009</td>\n",
       "      <td>0</td>\n",
       "      <td>1</td>\n",
       "      <td>1</td>\n",
       "      <td>0</td>\n",
       "      <td>0</td>\n",
       "      <td>0</td>\n",
       "      <td>0</td>\n",
       "      <td>0</td>\n",
       "      <td>0</td>\n",
       "      <td>0</td>\n",
       "      <td>0</td>\n",
       "      <td>0</td>\n",
       "      <td>0</td>\n",
       "    </tr>\n",
       "    <tr>\n",
       "      <th>1</th>\n",
       "      <td>0</td>\n",
       "      <td>0.117968</td>\n",
       "      <td>1012</td>\n",
       "      <td>0</td>\n",
       "      <td>1</td>\n",
       "      <td>1</td>\n",
       "      <td>0</td>\n",
       "      <td>0</td>\n",
       "      <td>0</td>\n",
       "      <td>0</td>\n",
       "      <td>0</td>\n",
       "      <td>0</td>\n",
       "      <td>0</td>\n",
       "      <td>0</td>\n",
       "      <td>0</td>\n",
       "      <td>0</td>\n",
       "    </tr>\n",
       "    <tr>\n",
       "      <th>2</th>\n",
       "      <td>0</td>\n",
       "      <td>0.287521</td>\n",
       "      <td>9226</td>\n",
       "      <td>0</td>\n",
       "      <td>1</td>\n",
       "      <td>1</td>\n",
       "      <td>1</td>\n",
       "      <td>0</td>\n",
       "      <td>0</td>\n",
       "      <td>0</td>\n",
       "      <td>0</td>\n",
       "      <td>0</td>\n",
       "      <td>0</td>\n",
       "      <td>0</td>\n",
       "      <td>0</td>\n",
       "      <td>0</td>\n",
       "    </tr>\n",
       "    <tr>\n",
       "      <th>3</th>\n",
       "      <td>1</td>\n",
       "      <td>0.767704</td>\n",
       "      <td>4750</td>\n",
       "      <td>1</td>\n",
       "      <td>1</td>\n",
       "      <td>1</td>\n",
       "      <td>1</td>\n",
       "      <td>1</td>\n",
       "      <td>1</td>\n",
       "      <td>1</td>\n",
       "      <td>1</td>\n",
       "      <td>1</td>\n",
       "      <td>0</td>\n",
       "      <td>0</td>\n",
       "      <td>1</td>\n",
       "      <td>1</td>\n",
       "    </tr>\n",
       "    <tr>\n",
       "      <th>4</th>\n",
       "      <td>1</td>\n",
       "      <td>0.673934</td>\n",
       "      <td>7987</td>\n",
       "      <td>1</td>\n",
       "      <td>1</td>\n",
       "      <td>1</td>\n",
       "      <td>1</td>\n",
       "      <td>1</td>\n",
       "      <td>1</td>\n",
       "      <td>1</td>\n",
       "      <td>1</td>\n",
       "      <td>0</td>\n",
       "      <td>0</td>\n",
       "      <td>0</td>\n",
       "      <td>1</td>\n",
       "      <td>1</td>\n",
       "    </tr>\n",
       "  </tbody>\n",
       "</table>\n",
       "</div>"
      ],
      "text/plain": [
       "   Converted  Converted_prob  Lead ID  predicted  0.0  0.1  0.2  0.3  0.4  \\\n",
       "0          0        0.116526     3009          0    1    1    0    0    0   \n",
       "1          0        0.117968     1012          0    1    1    0    0    0   \n",
       "2          0        0.287521     9226          0    1    1    1    0    0   \n",
       "3          1        0.767704     4750          1    1    1    1    1    1   \n",
       "4          1        0.673934     7987          1    1    1    1    1    1   \n",
       "\n",
       "   0.5  0.6  0.7  0.8  0.9  final_predicted  final_predicted_pr  \n",
       "0    0    0    0    0    0                0                   0  \n",
       "1    0    0    0    0    0                0                   0  \n",
       "2    0    0    0    0    0                0                   0  \n",
       "3    1    1    1    0    0                1                   1  \n",
       "4    1    1    0    0    0                1                   1  "
      ]
     },
     "execution_count": 123,
     "metadata": {},
     "output_type": "execute_result"
    }
   ],
   "source": [
    "# To select train set\n",
    "leads_train_pred = y_train_pred_final.copy()\n",
    "leads_train_pred.head()"
   ]
  },
  {
   "cell_type": "code",
   "execution_count": 124,
   "id": "284db632",
   "metadata": {},
   "outputs": [
    {
     "data": {
      "text/html": [
       "<div>\n",
       "<style scoped>\n",
       "    .dataframe tbody tr th:only-of-type {\n",
       "        vertical-align: middle;\n",
       "    }\n",
       "\n",
       "    .dataframe tbody tr th {\n",
       "        vertical-align: top;\n",
       "    }\n",
       "\n",
       "    .dataframe thead th {\n",
       "        text-align: right;\n",
       "    }\n",
       "</style>\n",
       "<table border=\"1\" class=\"dataframe\">\n",
       "  <thead>\n",
       "    <tr style=\"text-align: right;\">\n",
       "      <th></th>\n",
       "      <th>Lead ID</th>\n",
       "      <th>Converted</th>\n",
       "      <th>Converted_prob</th>\n",
       "      <th>final_predicted</th>\n",
       "    </tr>\n",
       "  </thead>\n",
       "  <tbody>\n",
       "    <tr>\n",
       "      <th>0</th>\n",
       "      <td>3009</td>\n",
       "      <td>0</td>\n",
       "      <td>0.116526</td>\n",
       "      <td>0</td>\n",
       "    </tr>\n",
       "    <tr>\n",
       "      <th>1</th>\n",
       "      <td>1012</td>\n",
       "      <td>0</td>\n",
       "      <td>0.117968</td>\n",
       "      <td>0</td>\n",
       "    </tr>\n",
       "    <tr>\n",
       "      <th>2</th>\n",
       "      <td>9226</td>\n",
       "      <td>0</td>\n",
       "      <td>0.287521</td>\n",
       "      <td>0</td>\n",
       "    </tr>\n",
       "    <tr>\n",
       "      <th>3</th>\n",
       "      <td>4750</td>\n",
       "      <td>1</td>\n",
       "      <td>0.767704</td>\n",
       "      <td>1</td>\n",
       "    </tr>\n",
       "    <tr>\n",
       "      <th>4</th>\n",
       "      <td>7987</td>\n",
       "      <td>1</td>\n",
       "      <td>0.673934</td>\n",
       "      <td>1</td>\n",
       "    </tr>\n",
       "  </tbody>\n",
       "</table>\n",
       "</div>"
      ],
      "text/plain": [
       "   Lead ID  Converted  Converted_prob  final_predicted\n",
       "0     3009          0        0.116526                0\n",
       "1     1012          0        0.117968                0\n",
       "2     9226          0        0.287521                0\n",
       "3     4750          1        0.767704                1\n",
       "4     7987          1        0.673934                1"
      ]
     },
     "execution_count": 124,
     "metadata": {},
     "output_type": "execute_result"
    }
   ],
   "source": [
    "# To drop unnecessary columns from train set\n",
    "leads_train_pred = leads_train_pred[['Lead ID','Converted','Converted_prob','final_predicted']]\n",
    "leads_train_pred.head()"
   ]
  },
  {
   "cell_type": "code",
   "execution_count": 125,
   "id": "3193006b",
   "metadata": {},
   "outputs": [
    {
     "data": {
      "text/html": [
       "<div>\n",
       "<style scoped>\n",
       "    .dataframe tbody tr th:only-of-type {\n",
       "        vertical-align: middle;\n",
       "    }\n",
       "\n",
       "    .dataframe tbody tr th {\n",
       "        vertical-align: top;\n",
       "    }\n",
       "\n",
       "    .dataframe thead th {\n",
       "        text-align: right;\n",
       "    }\n",
       "</style>\n",
       "<table border=\"1\" class=\"dataframe\">\n",
       "  <thead>\n",
       "    <tr style=\"text-align: right;\">\n",
       "      <th></th>\n",
       "      <th>Lead ID</th>\n",
       "      <th>Converted</th>\n",
       "      <th>Converted_prob</th>\n",
       "      <th>final_predicted</th>\n",
       "    </tr>\n",
       "  </thead>\n",
       "  <tbody>\n",
       "    <tr>\n",
       "      <th>0</th>\n",
       "      <td>3009</td>\n",
       "      <td>0</td>\n",
       "      <td>0.116526</td>\n",
       "      <td>0</td>\n",
       "    </tr>\n",
       "    <tr>\n",
       "      <th>1</th>\n",
       "      <td>1012</td>\n",
       "      <td>0</td>\n",
       "      <td>0.117968</td>\n",
       "      <td>0</td>\n",
       "    </tr>\n",
       "    <tr>\n",
       "      <th>2</th>\n",
       "      <td>9226</td>\n",
       "      <td>0</td>\n",
       "      <td>0.287521</td>\n",
       "      <td>0</td>\n",
       "    </tr>\n",
       "    <tr>\n",
       "      <th>3</th>\n",
       "      <td>4750</td>\n",
       "      <td>1</td>\n",
       "      <td>0.767704</td>\n",
       "      <td>1</td>\n",
       "    </tr>\n",
       "    <tr>\n",
       "      <th>4</th>\n",
       "      <td>7987</td>\n",
       "      <td>1</td>\n",
       "      <td>0.673934</td>\n",
       "      <td>1</td>\n",
       "    </tr>\n",
       "  </tbody>\n",
       "</table>\n",
       "</div>"
      ],
      "text/plain": [
       "   Lead ID  Converted  Converted_prob  final_predicted\n",
       "0     3009          0        0.116526                0\n",
       "1     1012          0        0.117968                0\n",
       "2     9226          0        0.287521                0\n",
       "3     4750          1        0.767704                1\n",
       "4     7987          1        0.673934                1"
      ]
     },
     "execution_count": 125,
     "metadata": {},
     "output_type": "execute_result"
    }
   ],
   "source": [
    "# To concatenate 2 datasets\n",
    "lead_full_pred = leads_train_pred.append(leads_test_pred)\n",
    "lead_full_pred.head()"
   ]
  },
  {
   "cell_type": "code",
   "execution_count": 126,
   "id": "2d5d04fc",
   "metadata": {},
   "outputs": [
    {
     "name": "stdout",
     "output_type": "stream",
     "text": [
      "(6351, 4)\n",
      "(2723, 4)\n",
      "(9074, 4)\n"
     ]
    }
   ],
   "source": [
    "# To inspect the shape of the final dataset\n",
    "print(leads_train_pred.shape)\n",
    "print(leads_test_pred.shape)\n",
    "print(lead_full_pred.shape)"
   ]
  },
  {
   "cell_type": "code",
   "execution_count": 127,
   "id": "6db1026c",
   "metadata": {},
   "outputs": [
    {
     "data": {
      "text/plain": [
       "9074"
      ]
     },
     "execution_count": 127,
     "metadata": {},
     "output_type": "execute_result"
    }
   ],
   "source": [
    "# To ensure uniqueness of Lead IDs\n",
    "len(lead_full_pred['Lead ID'].unique().tolist())"
   ]
  },
  {
   "cell_type": "code",
   "execution_count": 128,
   "id": "ab092898",
   "metadata": {},
   "outputs": [
    {
     "data": {
      "text/html": [
       "<div>\n",
       "<style scoped>\n",
       "    .dataframe tbody tr th:only-of-type {\n",
       "        vertical-align: middle;\n",
       "    }\n",
       "\n",
       "    .dataframe tbody tr th {\n",
       "        vertical-align: top;\n",
       "    }\n",
       "\n",
       "    .dataframe thead th {\n",
       "        text-align: right;\n",
       "    }\n",
       "</style>\n",
       "<table border=\"1\" class=\"dataframe\">\n",
       "  <thead>\n",
       "    <tr style=\"text-align: right;\">\n",
       "      <th></th>\n",
       "      <th>Lead ID</th>\n",
       "      <th>Converted</th>\n",
       "      <th>Converted_prob</th>\n",
       "      <th>final_predicted</th>\n",
       "      <th>Lead_Score</th>\n",
       "    </tr>\n",
       "  </thead>\n",
       "  <tbody>\n",
       "    <tr>\n",
       "      <th>0</th>\n",
       "      <td>3009</td>\n",
       "      <td>0</td>\n",
       "      <td>0.116526</td>\n",
       "      <td>0</td>\n",
       "      <td>12</td>\n",
       "    </tr>\n",
       "    <tr>\n",
       "      <th>1</th>\n",
       "      <td>1012</td>\n",
       "      <td>0</td>\n",
       "      <td>0.117968</td>\n",
       "      <td>0</td>\n",
       "      <td>12</td>\n",
       "    </tr>\n",
       "    <tr>\n",
       "      <th>2</th>\n",
       "      <td>9226</td>\n",
       "      <td>0</td>\n",
       "      <td>0.287521</td>\n",
       "      <td>0</td>\n",
       "      <td>29</td>\n",
       "    </tr>\n",
       "    <tr>\n",
       "      <th>3</th>\n",
       "      <td>4750</td>\n",
       "      <td>1</td>\n",
       "      <td>0.767704</td>\n",
       "      <td>1</td>\n",
       "      <td>77</td>\n",
       "    </tr>\n",
       "    <tr>\n",
       "      <th>4</th>\n",
       "      <td>7987</td>\n",
       "      <td>1</td>\n",
       "      <td>0.673934</td>\n",
       "      <td>1</td>\n",
       "      <td>67</td>\n",
       "    </tr>\n",
       "  </tbody>\n",
       "</table>\n",
       "</div>"
      ],
      "text/plain": [
       "   Lead ID  Converted  Converted_prob  final_predicted  Lead_Score\n",
       "0     3009          0        0.116526                0          12\n",
       "1     1012          0        0.117968                0          12\n",
       "2     9226          0        0.287521                0          29\n",
       "3     4750          1        0.767704                1          77\n",
       "4     7987          1        0.673934                1          67"
      ]
     },
     "execution_count": 128,
     "metadata": {},
     "output_type": "execute_result"
    }
   ],
   "source": [
    "# To calculate the Lead Score\n",
    "lead_full_pred['Lead_Score'] = lead_full_pred['Converted_prob'].apply(lambda x : round(x*100))\n",
    "lead_full_pred.head()"
   ]
  },
  {
   "cell_type": "code",
   "execution_count": 129,
   "id": "9aef2dad",
   "metadata": {},
   "outputs": [
    {
     "data": {
      "text/html": [
       "<div>\n",
       "<style scoped>\n",
       "    .dataframe tbody tr th:only-of-type {\n",
       "        vertical-align: middle;\n",
       "    }\n",
       "\n",
       "    .dataframe tbody tr th {\n",
       "        vertical-align: top;\n",
       "    }\n",
       "\n",
       "    .dataframe thead th {\n",
       "        text-align: right;\n",
       "    }\n",
       "</style>\n",
       "<table border=\"1\" class=\"dataframe\">\n",
       "  <thead>\n",
       "    <tr style=\"text-align: right;\">\n",
       "      <th></th>\n",
       "      <th>Converted</th>\n",
       "      <th>Converted_prob</th>\n",
       "      <th>final_predicted</th>\n",
       "      <th>Lead_Score</th>\n",
       "    </tr>\n",
       "    <tr>\n",
       "      <th>Lead ID</th>\n",
       "      <th></th>\n",
       "      <th></th>\n",
       "      <th></th>\n",
       "      <th></th>\n",
       "    </tr>\n",
       "  </thead>\n",
       "  <tbody>\n",
       "    <tr>\n",
       "      <th>0</th>\n",
       "      <td>0</td>\n",
       "      <td>0.641912</td>\n",
       "      <td>1</td>\n",
       "      <td>64</td>\n",
       "    </tr>\n",
       "    <tr>\n",
       "      <th>1</th>\n",
       "      <td>0</td>\n",
       "      <td>0.187225</td>\n",
       "      <td>0</td>\n",
       "      <td>19</td>\n",
       "    </tr>\n",
       "    <tr>\n",
       "      <th>2</th>\n",
       "      <td>1</td>\n",
       "      <td>0.883006</td>\n",
       "      <td>1</td>\n",
       "      <td>88</td>\n",
       "    </tr>\n",
       "    <tr>\n",
       "      <th>3</th>\n",
       "      <td>0</td>\n",
       "      <td>0.043907</td>\n",
       "      <td>0</td>\n",
       "      <td>4</td>\n",
       "    </tr>\n",
       "    <tr>\n",
       "      <th>4</th>\n",
       "      <td>1</td>\n",
       "      <td>0.717449</td>\n",
       "      <td>1</td>\n",
       "      <td>72</td>\n",
       "    </tr>\n",
       "  </tbody>\n",
       "</table>\n",
       "</div>"
      ],
      "text/plain": [
       "         Converted  Converted_prob  final_predicted  Lead_Score\n",
       "Lead ID                                                        \n",
       "0                0        0.641912                1          64\n",
       "1                0        0.187225                0          19\n",
       "2                1        0.883006                1          88\n",
       "3                0        0.043907                0           4\n",
       "4                1        0.717449                1          72"
      ]
     },
     "execution_count": 129,
     "metadata": {},
     "output_type": "execute_result"
    }
   ],
   "source": [
    "# To make the Lead ID column as index\n",
    "lead_full_pred = lead_full_pred.set_index('Lead ID').sort_index(axis = 0, ascending = True)\n",
    "lead_full_pred.head()"
   ]
  },
  {
   "cell_type": "code",
   "execution_count": 130,
   "id": "3249b83c",
   "metadata": {},
   "outputs": [
    {
     "data": {
      "text/html": [
       "<div>\n",
       "<style scoped>\n",
       "    .dataframe tbody tr th:only-of-type {\n",
       "        vertical-align: middle;\n",
       "    }\n",
       "\n",
       "    .dataframe tbody tr th {\n",
       "        vertical-align: top;\n",
       "    }\n",
       "\n",
       "    .dataframe thead th {\n",
       "        text-align: right;\n",
       "    }\n",
       "</style>\n",
       "<table border=\"1\" class=\"dataframe\">\n",
       "  <thead>\n",
       "    <tr style=\"text-align: right;\">\n",
       "      <th></th>\n",
       "      <th>Lead Number</th>\n",
       "    </tr>\n",
       "  </thead>\n",
       "  <tbody>\n",
       "    <tr>\n",
       "      <th>0</th>\n",
       "      <td>660737</td>\n",
       "    </tr>\n",
       "    <tr>\n",
       "      <th>1</th>\n",
       "      <td>660728</td>\n",
       "    </tr>\n",
       "    <tr>\n",
       "      <th>2</th>\n",
       "      <td>660727</td>\n",
       "    </tr>\n",
       "    <tr>\n",
       "      <th>3</th>\n",
       "      <td>660719</td>\n",
       "    </tr>\n",
       "    <tr>\n",
       "      <th>4</th>\n",
       "      <td>660681</td>\n",
       "    </tr>\n",
       "  </tbody>\n",
       "</table>\n",
       "</div>"
      ],
      "text/plain": [
       "   Lead Number\n",
       "0       660737\n",
       "1       660728\n",
       "2       660727\n",
       "3       660719\n",
       "4       660681"
      ]
     },
     "execution_count": 130,
     "metadata": {},
     "output_type": "execute_result"
    }
   ],
   "source": [
    "# To get Lead Number column from original data\n",
    "leads_original = df_leads_original[['Lead Number']]\n",
    "leads_original.head()"
   ]
  },
  {
   "cell_type": "code",
   "execution_count": 131,
   "id": "ef011864",
   "metadata": {},
   "outputs": [
    {
     "data": {
      "text/html": [
       "<div>\n",
       "<style scoped>\n",
       "    .dataframe tbody tr th:only-of-type {\n",
       "        vertical-align: middle;\n",
       "    }\n",
       "\n",
       "    .dataframe tbody tr th {\n",
       "        vertical-align: top;\n",
       "    }\n",
       "\n",
       "    .dataframe thead th {\n",
       "        text-align: right;\n",
       "    }\n",
       "</style>\n",
       "<table border=\"1\" class=\"dataframe\">\n",
       "  <thead>\n",
       "    <tr style=\"text-align: right;\">\n",
       "      <th></th>\n",
       "      <th>Lead Number</th>\n",
       "      <th>Converted</th>\n",
       "      <th>Converted_prob</th>\n",
       "      <th>final_predicted</th>\n",
       "      <th>Lead_Score</th>\n",
       "    </tr>\n",
       "  </thead>\n",
       "  <tbody>\n",
       "    <tr>\n",
       "      <th>0</th>\n",
       "      <td>660737</td>\n",
       "      <td>0.0</td>\n",
       "      <td>0.641912</td>\n",
       "      <td>1.0</td>\n",
       "      <td>64.0</td>\n",
       "    </tr>\n",
       "    <tr>\n",
       "      <th>1</th>\n",
       "      <td>660728</td>\n",
       "      <td>0.0</td>\n",
       "      <td>0.187225</td>\n",
       "      <td>0.0</td>\n",
       "      <td>19.0</td>\n",
       "    </tr>\n",
       "    <tr>\n",
       "      <th>2</th>\n",
       "      <td>660727</td>\n",
       "      <td>1.0</td>\n",
       "      <td>0.883006</td>\n",
       "      <td>1.0</td>\n",
       "      <td>88.0</td>\n",
       "    </tr>\n",
       "    <tr>\n",
       "      <th>3</th>\n",
       "      <td>660719</td>\n",
       "      <td>0.0</td>\n",
       "      <td>0.043907</td>\n",
       "      <td>0.0</td>\n",
       "      <td>4.0</td>\n",
       "    </tr>\n",
       "    <tr>\n",
       "      <th>4</th>\n",
       "      <td>660681</td>\n",
       "      <td>1.0</td>\n",
       "      <td>0.717449</td>\n",
       "      <td>1.0</td>\n",
       "      <td>72.0</td>\n",
       "    </tr>\n",
       "  </tbody>\n",
       "</table>\n",
       "</div>"
      ],
      "text/plain": [
       "   Lead Number  Converted  Converted_prob  final_predicted  Lead_Score\n",
       "0       660737        0.0        0.641912              1.0        64.0\n",
       "1       660728        0.0        0.187225              0.0        19.0\n",
       "2       660727        1.0        0.883006              1.0        88.0\n",
       "3       660719        0.0        0.043907              0.0         4.0\n",
       "4       660681        1.0        0.717449              1.0        72.0"
      ]
     },
     "execution_count": 131,
     "metadata": {},
     "output_type": "execute_result"
    }
   ],
   "source": [
    "# To concatenate the 2 dataframes based on index\n",
    "leads_with_score = pd.concat([leads_original, lead_full_pred], axis=1)\n",
    "leads_with_score.head()"
   ]
  },
  {
   "cell_type": "code",
   "execution_count": 132,
   "id": "a280e487",
   "metadata": {},
   "outputs": [
    {
     "data": {
      "text/plain": [
       "Do Not Email                                           -1.40\n",
       "Total Time Spent on Website                             1.10\n",
       "Lead Origin_Lead Add Form                               2.62\n",
       "Lead Source_Olark Chat                                  1.56\n",
       "Lead Source_Welingak Website                            3.73\n",
       "Last Activity_Olark Chat Conversation                  -0.85\n",
       "Last Activity_SMS Sent                                  1.24\n",
       "What is your current occupation_Working Professional    1.83\n",
       "Lead Quality_Low in Relevance                          -1.38\n",
       "Lead Quality_Might be                                  -2.34\n",
       "Lead Quality_Not Sure                                  -4.11\n",
       "Lead Quality_Worst                                     -6.25\n",
       "Last Notable Activity_Modified                         -0.88\n",
       "dtype: float64"
      ]
     },
     "execution_count": 132,
     "metadata": {},
     "output_type": "execute_result"
    }
   ],
   "source": [
    "# To display features with corrsponding coefficients in final model\n",
    "pd.options.display.float_format = '{:.2f}'.format\n",
    "new_params = logm3.params[1:]\n",
    "new_params"
   ]
  },
  {
   "cell_type": "code",
   "execution_count": 133,
   "id": "8b163336",
   "metadata": {},
   "outputs": [
    {
     "data": {
      "text/plain": [
       "Do Not Email                                            -37.46\n",
       "Total Time Spent on Website                              29.41\n",
       "Lead Origin_Lead Add Form                                70.34\n",
       "Lead Source_Olark Chat                                   41.69\n",
       "Lead Source_Welingak Website                            100.00\n",
       "Last Activity_Olark Chat Conversation                   -22.66\n",
       "Last Activity_SMS Sent                                   33.30\n",
       "What is your current occupation_Working Professional     49.00\n",
       "Lead Quality_Low in Relevance                           -37.09\n",
       "Lead Quality_Might be                                   -62.84\n",
       "Lead Quality_Not Sure                                  -110.08\n",
       "Lead Quality_Worst                                     -167.67\n",
       "Last Notable Activity_Modified                          -23.59\n",
       "dtype: float64"
      ]
     },
     "execution_count": 133,
     "metadata": {},
     "output_type": "execute_result"
    }
   ],
   "source": [
    "# Relative feature importance\n",
    "feature_importance = new_params\n",
    "feature_importance = 100.0 * (feature_importance / feature_importance.max())\n",
    "feature_importance"
   ]
  },
  {
   "cell_type": "code",
   "execution_count": 134,
   "id": "39c15f2f",
   "metadata": {},
   "outputs": [
    {
     "data": {
      "text/plain": [
       "Do Not Email                                            11\n",
       "Total Time Spent on Website                             10\n",
       "Lead Origin_Lead Add Form                                9\n",
       "Lead Source_Olark Chat                                   0\n",
       "Lead Source_Welingak Website                             8\n",
       "Last Activity_Olark Chat Conversation                   12\n",
       "Last Activity_SMS Sent                                   5\n",
       "What is your current occupation_Working Professional     1\n",
       "Lead Quality_Low in Relevance                            6\n",
       "Lead Quality_Might be                                    3\n",
       "Lead Quality_Not Sure                                    7\n",
       "Lead Quality_Worst                                       2\n",
       "Last Notable Activity_Modified                           4\n",
       "dtype: int64"
      ]
     },
     "execution_count": 134,
     "metadata": {},
     "output_type": "execute_result"
    }
   ],
   "source": [
    "# To sort features based on importance\n",
    "sorted_idx = np.argsort(feature_importance,kind='quicksort',order='list of str')\n",
    "sorted_idx"
   ]
  },
  {
   "cell_type": "code",
   "execution_count": 135,
   "id": "444872e4",
   "metadata": {},
   "outputs": [
    {
     "data": {
      "image/png": "[encoded data removed]",
      "text/plain": [
       "<Figure size 720x432 with 1 Axes>"
      ]
     },
     "metadata": {},
     "output_type": "display_data"
    }
   ],
   "source": [
    "# To plot features with their relative importance\n",
    "fig = plt.figure(figsize=(10,6))\n",
    "ax = fig.add_subplot(1, 1, 1)\n",
    "pos = np.arange(sorted_idx.shape[0])\n",
    "ax.barh(pos, feature_importance[sorted_idx])\n",
    "ax.set_yticks(pos)\n",
    "ax.set_yticklabels(np.array(X_train[col2].columns)[sorted_idx], fontsize=12)\n",
    "ax.set_xlabel('Relative Feature Importance', fontsize=12) \n",
    "plt.show()"
   ]
  },
  {
   "cell_type": "markdown",
   "id": "5a78db76",
   "metadata": {},
   "source": [
    "###  Conclusion"
   ]
  },
  {
   "cell_type": "markdown",
   "id": "12e22741",
   "metadata": {},
   "source": [
    "##### Final Observations:\n",
    "\n",
    "With Probability cutoff of 0.4 on train set we got the following:\n",
    "* Accuracy : 85.45% \n",
    "* Recall : 82.54% \n",
    "* Precision : 80.24% \n",
    "\n",
    "With Probability cutoff of 0.4 on test set we got the following:\n",
    "* Accuracy : 84.61%\n",
    "* Recall : 80.58%\n",
    "* Precision : 77.83%"
   ]
  },
  {
   "cell_type": "markdown",
   "id": "0561b35b",
   "metadata": {},
   "source": [
    "### Recommendations"
   ]
  },
  {
   "cell_type": "markdown",
   "id": "764282b3",
   "metadata": {},
   "source": [
    "- __The positive features that a lead converts into hot leads are the following:__\n",
    " <br>Leads sourced from Welingak Website.<br>\n",
    "Leads origined from Lead Add Form.<br>\n",
    "Leads whose current occupation is Working Professional.<br>\n",
    "Leads sourced from Olark Chat.<br>\n",
    "Whose last activity is SMS sent.<br>\n",
    "Leads who spend most time on the website.<br>\n"
   ]
  },
  {
   "cell_type": "markdown",
   "id": "914e4097",
   "metadata": {},
   "source": [
    "- __The negative features that have impact on conversion rate:__\n",
    "    <br>Leads marked by the assigned employee as Worst Quality. <br>\n",
    "   Leads marked by the assigned employee as Not Sure.<br>\n",
    "   Leads marked by the assigned employee as Might be.<br>\n",
    "   Customers opted not to be emailed about the course (Do Not Email). <br>\n",
    "   Leads marked by the assigned employee as Low in Relevance.<br>\n",
    "   If the Last Notable Activity by the student is Modified. <br>\n",
    "   If the Last activity performed by the customer is Olark Chat Conversation. <br>"
   ]
  },
  {
   "cell_type": "markdown",
   "id": "77587c9b",
   "metadata": {},
   "source": [
    "#### The X Education can increase the lead conversion rate by focusing the above factors and improving the negative impacting factors towards the positive approach. The company can increase the target lead conversion rate to be around 80% by using the model with threshold of 0.4 as per the CEO's inclination."
   ]
  }
 ],
 "metadata": {
  "kernelspec": {
   "display_name": "Python 3 (ipykernel)",
   "language": "python",
   "name": "python3"
  },
  "language_info": {
   "codemirror_mode": {
    "name": "ipython",
    "version": 3
   },
   "file_extension": ".py",
   "mimetype": "text/x-python",
   "name": "python",
   "nbconvert_exporter": "python",
   "pygments_lexer": "ipython3",
   "version": "3.9.7"
  }
 },
 "nbformat": 4,
 "nbformat_minor": 5
}
